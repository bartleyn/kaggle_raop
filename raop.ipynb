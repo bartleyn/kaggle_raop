{
 "metadata": {
  "name": "",
  "signature": "sha256:f8d89127c3bbcffee7fd8a09ac2ee4303290b154839114905edcb5177a1c6535"
 },
 "nbformat": 3,
 "nbformat_minor": 0,
 "worksheets": [
  {
   "cells": [
    {
     "cell_type": "code",
     "collapsed": false,
     "input": [
      "import sklearn\n",
      "import numpy as np\n",
      "import pandas as pd\n",
      "import tsne\n",
      "from  sklearn.feature_extraction.text import TfidfVectorizer\n",
      "import matplotlib.pyplot as plt\n",
      "import re\n",
      "\n",
      "data = pd.read_json(\"train.json\")"
     ],
     "language": "python",
     "metadata": {},
     "outputs": [],
     "prompt_number": 55
    },
    {
     "cell_type": "code",
     "collapsed": false,
     "input": [
      "def filter_words(str_, words):\n",
      "    re.sub('htt.*://.*(\\.org|\\.com|\\.net)/\\w*', '', str_)\n",
      "    for word in words:\n",
      "        str_ = str_.replace(word, \"\")\n",
      "    return str_\n",
      "\n",
      "words_to_filter = []"
     ],
     "language": "python",
     "metadata": {},
     "outputs": [],
     "prompt_number": 56
    },
    {
     "cell_type": "code",
     "collapsed": false,
     "input": [
      "#print data.columns\n",
      "requester_received_pizza = data.requester_received_pizza\n",
      "#print requester_received_pizza\n",
      "request_text_true = data[data['requester_received_pizza'] == True].request_text\n",
      "request_text_false = data[data['requester_received_pizza'] == False].request_text\n",
      "f = lambda x: filter_words(x.encode('ascii', errors='backslashreplace'), words_to_filter)\n",
      "\n",
      "request_text_true.map(f)\n",
      "request_text_false.map(f)\n",
      "#for i in request_text_true.index:\n",
      "#    request_text_true.ix[i] = filter_words(request_text_true.ix[i].encode('ascii', errors='backslashreplace'), words_to_filter)\n",
      "\n",
      "#for i in request_text_false.index:\n",
      "#    request_text_false.ix[i] = filter_words(request_text_false.ix[i].encode('ascii', errors='backslashreplace'), words_to_filter)\n",
      "\n",
      "tfidf_ = TfidfVectorizer(decode_error='ignore', max_features=10, stop_words='english', min_df=0.05, max_df=0.85, ngram_range=(1,10))\n",
      "X_true = tfidf_.fit_transform(request_text_true)\n",
      "print \"True unigrams: \", tfidf_.get_feature_names()\n",
      "\n",
      "tfidf_ = TfidfVectorizer(decode_error='ignore', max_features=10, stop_words='english', min_df=0.05, max_df=0.85, ngram_range=(1,10))\n",
      "X_false = tfidf_.fit_transform(request_text_false)\n",
      "print \"False unigrams: \", tfidf_.get_feature_names()\n",
      "\n",
      "\n",
      "#Extract some bigrams baby\n",
      "tfidf_ = TfidfVectorizer(decode_error='ignore', max_features=10, stop_words='english', min_df=0.03, max_df=0.85, ngram_range=(2,2))\n",
      "X_true = tfidf_.fit_transform(request_text_true)\n",
      "print \"True bigrams: \", tfidf_.get_feature_names()\n",
      "\n",
      "tfidf_ = TfidfVectorizer(decode_error='ignore', max_features=10, stop_words='english', min_df=0.03, max_df=0.85, ngram_range=(2,2))\n",
      "X_false = tfidf_.fit_transform(request_text_false)\n",
      "print \"False bigrams: \", tfidf_.get_feature_names()\n"
     ],
     "language": "python",
     "metadata": {},
     "outputs": [
      {
       "output_type": "stream",
       "stream": "stdout",
       "text": [
        "True unigrams:  [u'don', u'food', u'help', u'just', u'money', u'pay', u'pizza', u'really', u'thanks', u've']\n",
        "False unigrams: "
       ]
      },
      {
       "output_type": "stream",
       "stream": "stdout",
       "text": [
        " [u'don', u'food', u'help', u'just', u'like', u'money', u'pay', u'pizza', u'really', u'thanks']\n",
        "True bigrams: "
       ]
      },
      {
       "output_type": "stream",
       "stream": "stdout",
       "text": [
        " [u'bank account', u'college student', u'http imgur', u'imgur com', u'lost job', u'love pizza', u'pay forward', u'pizza tonight', u'thanks reading', u'year old']\n",
        "False bigrams: "
       ]
      },
      {
       "output_type": "stream",
       "stream": "stdout",
       "text": [
        " [u'bank account', u'http imgur', u'imgur com', u'love pizza', u'pay forward', u'really appreciate']\n"
       ]
      }
     ],
     "prompt_number": 3
    },
    {
     "cell_type": "code",
     "collapsed": false,
     "input": [
      "from nltk import *\n",
      "import operator\n",
      "#nltk.download('all')\n",
      "\n",
      "stopwords = nltk.corpus.stopwords.words('english')\n",
      "unigrams_ = []\n",
      "bigrams_ = []\n",
      "trigrams_ = []\n",
      "word_tokenizer = RegexpTokenizer(r'[\\w+(\\w+\\'\\w+)]+')\n",
      "\n",
      "\n",
      "#tokens = nltk.word_tokenize(text)\n",
      "#tokens = [token.lower() for token in tokens if len(token) > 1] #same as unigrams\n",
      "#bi_tokens = bigrams(tokens)\n",
      "#tri_tokens = trigrams(tokens)\n",
      "\n",
      "#print [(item, tri_tokens.count(item)) for item in sorted(set(tri_tokens))]\n",
      "\n",
      "def tokens_get_ngrams(text, n):\n",
      "    sentences = nltk.sent_tokenize(text)\n",
      "    for sent in sentences:\n",
      "        #tokens = nltk.word_tokenize(sent)\n",
      "        tokens = word_tokenizer.tokenize(sent)\n",
      "        tokens = [token for token in tokens if token not in stopwords]\n",
      "        if n > 3:\n",
      "            raise ValueException(\"Not a good idea to take >3 grams\")\n",
      "        if n == 1:\n",
      "            tokens = [token.lower() for token in tokens if len(token) > 1 and token not in stopwords]\n",
      "            unigrams_.append(tokens)\n",
      "        elif n == 2:\n",
      "            bi_tokens = list(bigrams(tokens))\n",
      "            bigrams_.append(bi_tokens)\n",
      "        else:\n",
      "            tri_tokens = list(trigrams(tokens))\n",
      "            trigrams_.append(tri_tokens)\n",
      "    \n",
      "def list_to_dict(ngrams):\n",
      "    dict_ = {}\n",
      "    for doc in ngrams:\n",
      "        for word in doc:\n",
      "            try:\n",
      "                dict_[word] += 1\n",
      "            except:\n",
      "                dict_[word] = 1\n",
      "    return dict_\n",
      "\n",
      "n = 1\n",
      "g = lambda x: tokens_get_ngrams(x, n)\n",
      "request_text_true.map(g)\n",
      "n = 2\n",
      "g = lambda x: tokens_get_ngrams(x, n)\n",
      "request_text_true.map(g)\n",
      "n = 3\n",
      "g = lambda x: tokens_get_ngrams(x, n)\n",
      "request_text_true.map(g)\n",
      "\n",
      "unigrams_dict_true = list_to_dict(unigrams_)\n",
      "unigrams_dict_sorted_true = sorted(unigrams_dict_true.items(), key=operator.itemgetter(1))\n",
      "print unigrams_dict_sorted[-10:]\n",
      "\n",
      "bigrams_dict_true = list_to_dict(bigrams_)\n",
      "bigrams_dict_sorted_true = sorted(bigrams_dict_true.items(), key=operator.itemgetter(1))\n",
      "print bigrams_dict_sorted[-10:]\n",
      "\n",
      "trigrams_dict_true = list_to_dict(trigrams_)\n",
      "trigrams_dict_sorted_true = sorted(trigrams_dict_true.items(), key=operator.itemgetter(1))\n",
      "print trigrams_dict_sorted[-10:]\n",
      "\n",
      "#print set_uni_tokens\n",
      "#print [(item, tokens.count(item)) for item in sorted(set_uni_tokens)]\n",
      "#print [(item, bi_tokens.count(item)) for item in sorted(set_bi_tokens)]\n",
      "#print [(item, tri_tokens.count(item)) for item in sorted(set_tri_tokens)]\n",
      "\n",
      "\n",
      "    "
     ],
     "language": "python",
     "metadata": {},
     "outputs": [
      {
       "output_type": "stream",
       "stream": "stdout",
       "text": [
        "[(u'money', 793), (u'food', 825), (u'really', 922), (u'help', 1026), (u'get', 1245), (u\"'s\", 1255), (u\"'m\", 1738), (u\"n't\", 1904), (u'would', 2018), (u'pizza', 2636)]\n",
        "[((u')', u'.'), 283), ((u'I', u\"'ll\"), 318), ((u'I', u\"'d\"), 321), ((u'I', u'get'), 326), ((u'pizza', u'.'), 397), ((u'I', u'would'), 506), ((u'I', u\"'ve\"), 561), ((u'I', u\"n't\"), 601), ((u'I', u\"'m\"), 1636), ((u',', u'I'), 1980)]"
       ]
      },
      {
       "output_type": "stream",
       "stream": "stdout",
       "text": [
        "\n",
        "[((u',', u'I', u\"'ve\"), 96), ((u'I', u'would', u'love'), 98), ((u',', u'I', u'would'), 108), ((u',', u'I', u\"n't\"), 114), ((u'I', u'get', u'paid'), 114), ((u'&', u'amp', u';'), 118), ((u']', u'(', u'http'), 132), ((u'(', u'http', u':'), 135), ((u'I', u'ca', u\"n't\"), 135), ((u',', u'I', u\"'m\"), 345)]"
       ]
      },
      {
       "output_type": "stream",
       "stream": "stdout",
       "text": [
        "\n"
       ]
      }
     ],
     "prompt_number": 46
    },
    {
     "cell_type": "code",
     "collapsed": false,
     "input": [
      "from nltk import *\n",
      "import operator\n",
      "#nltk.download('all')\n",
      "\n",
      "stopwords = nltk.corpus.stopwords.words('english')\n",
      "unigrams_ = []\n",
      "bigrams_ = []\n",
      "trigrams_ = []\n",
      "\n",
      "#tokens = nltk.word_tokenize(text)\n",
      "#tokens = [token.lower() for token in tokens if len(token) > 1] #same as unigrams\n",
      "#bi_tokens = bigrams(tokens)\n",
      "#tri_tokens = trigrams(tokens)\n",
      "\n",
      "#print [(item, tri_tokens.count(item)) for item in sorted(set(tri_tokens))]\n",
      "\n",
      "n = 1\n",
      "g = lambda x: tokens_get_ngrams(x, n)\n",
      "request_text_false.map(g)\n",
      "n = 2\n",
      "g = lambda x: tokens_get_ngrams(x, n)\n",
      "request_text_false.map(g)\n",
      "n = 3\n",
      "g = lambda x: tokens_get_ngrams(x, n)\n",
      "request_text_false.map(g)\n",
      "\n",
      "unigrams_dict_false = list_to_dict(unigrams_)\n",
      "unigrams_dict_sorted_false = sorted(unigrams_dict_false.items(), key=operator.itemgetter(1))\n",
      "print unigrams_dict_sorted_false[-10:]\n",
      "\n",
      "bigrams_dict_false = list_to_dict(bigrams_)\n",
      "bigrams_dict_sorted_false = sorted(bigrams_dict_false.items(), key=operator.itemgetter(1))\n",
      "print bigrams_dict_sorted_false[-10:]\n",
      "\n",
      "trigrams_dict_false = list_to_dict(trigrams_)\n",
      "trigrams_dict_sorted_false = sorted(trigrams_dict_false.items(), key=operator.itemgetter(1))\n",
      "print trigrams_dict_sorted_false[-10:]\n",
      "\n",
      "#print set_uni_tokens\n",
      "#print [(item, tokens.count(item)) for item in sorted(set_uni_tokens)]\n",
      "#print [(item, bi_tokens.count(item)) for item in sorted(set_bi_tokens)]\n",
      "#print [(item, tri_tokens.count(item)) for item in sorted(set_tri_tokens)]\n",
      "\n",
      "\n",
      "    "
     ],
     "language": "python",
     "metadata": {},
     "outputs": [
      {
       "output_type": "stream",
       "stream": "stdout",
       "text": [
        "[(u'thanks', 654), (u\"don't\", 693), (u'money', 792), (u'food', 837), (u'really', 925), (u'help', 1029), (u'get', 1244), (u\"i'm\", 1730), (u'would', 1962), (u'pizza', 2655)]\n",
        "[((u'I', u'know'), 169), ((u'would', u'really'), 197), ((u'I', u'could'), 199), ((u'would', u'love'), 232), ((u'pizza', u'would'), 248), ((u'get', u'paid'), 257), ((u'pay', u'forward'), 279), ((u'I', u'get'), 326), ((u'I', u\"don't\"), 424), ((u'I', u'would'), 482)]"
       ]
      },
      {
       "output_type": "stream",
       "stream": "stdout",
       "text": [
        "\n",
        "[((u'http', u'imgur', u'com'), 61), ((u'would', u'really', u'appreciate'), 62), ((u\"don't\", u'get', u'paid'), 63), ((u'I', u\"don't\", u'get'), 65), ((u'(http', u'imgur', u'com'), 68), ((u'I', u'would', u'really'), 70), ((u'A', u'pizza', u'would'), 74), ((u'would', u'love', u'pizza'), 75), ((u'I', u'would', u'love'), 99), ((u'I', u'get', u'paid'), 115)]"
       ]
      },
      {
       "output_type": "stream",
       "stream": "stdout",
       "text": [
        "\n"
       ]
      }
     ],
     "prompt_number": 47
    },
    {
     "cell_type": "code",
     "collapsed": false,
     "input": [
      "print \"TRIGRAMS -------------\"\n",
      "print \"FALSE: \", trigrams_dict_sorted_false[-10:]\n",
      "print \"TRUE: \", trigrams_dict_sorted_true[-10:]\n",
      "print \"BIGRAMS ---------------\"\n",
      "print \"FALSE: \", bigrams_dict_sorted_false[-10:]\n",
      "print \"TRUE: \", bigrams_dict_sorted_true[-10:]\n",
      "print \"UNIGRAMS --------------\"\n",
      "print \"FALSE: \", unigrams_dict_sorted_false[-10:]\n",
      "print \"TRUE: \", unigrams_dict_sorted_true[-10:]"
     ],
     "language": "python",
     "metadata": {},
     "outputs": [
      {
       "output_type": "stream",
       "stream": "stdout",
       "text": [
        "TRIGRAMS -------------\n",
        "FALSE:  [((u'http', u'imgur', u'com'), 61), ((u'would', u'really', u'appreciate'), 62), ((u\"don't\", u'get', u'paid'), 63), ((u'I', u\"don't\", u'get'), 65), ((u'(http', u'imgur', u'com'), 68), ((u'I', u'would', u'really'), 70), ((u'A', u'pizza', u'would'), 74), ((u'would', u'love', u'pizza'), 75), ((u'I', u'would', u'love'), 99), ((u'I', u'get', u'paid'), 115)]\n",
        "TRUE:  [((u'I', u\"don't\", u'get'), 21), ((u'could', u'really', u'use'), 21), ((u'anyone', u'could', u'help'), 21), ((u'www', u'reddit', u'com'), 22), ((u'I', u\"don't\", u'know'), 23), ((u'A', u'pizza', u'would'), 25), ((u'I', u'would', u'love'), 37), ((u'http', u'imgur', u'com'), 49), ((u'(http', u'imgur', u'com'), 59), ((u'I', u'get', u'paid'), 79)]\n",
        "BIGRAMS ---------------\n",
        "FALSE:  [((u'I', u'know'), 169), ((u'would', u'really'), 197), ((u'I', u'could'), 199), ((u'would', u'love'), 232), ((u'pizza', u'would'), 248), ((u'get', u'paid'), 257), ((u'pay', u'forward'), 279), ((u'I', u'get'), 326), ((u'I', u\"don't\"), 424), ((u'I', u'would'), 482)]\n",
        "TRUE:  [((u'I', u\"can't\"), 67), ((u'would', u'love'), 70), ((u'I', u'could'), 80), ((u'pizza', u'would'), 96), ((u'imgur', u'com'), 110), ((u'get', u'paid'), 123), ((u'pay', u'forward'), 144), ((u'I', u\"don't\"), 174), ((u'I', u'get'), 176), ((u'I', u'would'), 195)]\n",
        "UNIGRAMS --------------\n",
        "FALSE:  [(u'thanks', 654), (u\"don't\", 693), (u'money', 792), (u'food', 837), (u'really', 925), (u'help', 1029), (u'get', 1244), (u\"i'm\", 1730), (u'would', 1962), (u'pizza', 2655)]\n",
        "TRUE:  [(u'pay', 304), (u'money', 315), (u'thanks', 319), (u'really', 346), (u'food', 361), (u'help', 423), (u'get', 527), (u\"i'm\", 720), (u'would', 733), (u'pizza', 1003)]\n"
       ]
      }
     ],
     "prompt_number": 48
    },
    {
     "cell_type": "code",
     "collapsed": false,
     "input": [
      "def compare_two_dicts(dict_true, dict_false):\n",
      "    for ngram in dict_true.keys():\n",
      "        if ngram in dict_false.keys():\n",
      "            if dict_false[ngram] > 3 * dict_true[ngram] or dict_true[ngram] > 3 * dict_false[ngram]:\n",
      "                print ngram, \" | true count: \", dict_true[ngram], \"| false count: \", dict_false[ngram]\n",
      "\n",
      "compare_two_dicts(trigrams_dict_true, trigrams_dict_false)"
     ],
     "language": "python",
     "metadata": {},
     "outputs": [
      {
       "output_type": "stream",
       "stream": "stdout",
       "text": [
        "(u'I', u'would', u'give')  | true count:  2 | false count:  10\n",
        "(u'pizza', u'would', u'definitely')"
       ]
      },
      {
       "output_type": "stream",
       "stream": "stdout",
       "text": [
        "  | true count:  1 | false count:  8\n",
        "(u'long', u'time', u'lurker')"
       ]
      },
      {
       "output_type": "stream",
       "stream": "stdout",
       "text": [
        "  | true count:  2 | false count:  10\n",
        "(u'It', u'would', u'mean')"
       ]
      },
      {
       "output_type": "stream",
       "stream": "stdout",
       "text": [
        "  | true count:  1 | false count:  8\n",
        "(u'go', u'grocery', u'shopping')"
       ]
      },
      {
       "output_type": "stream",
       "stream": "stdout",
       "text": [
        "  | true count:  2 | false count:  10\n",
        "(u\"I'd\", u'really', u'appreciate')"
       ]
      },
      {
       "output_type": "stream",
       "stream": "stdout",
       "text": [
        "  | true count:  5 | false count:  17\n",
        "(u'love', u'get', u'pizza')"
       ]
      },
      {
       "output_type": "stream",
       "stream": "stdout",
       "text": [
        "  | true count:  1 | false count:  6\n",
        "(u'www', u'youtube', u'com')"
       ]
      },
      {
       "output_type": "stream",
       "stream": "stdout",
       "text": [
        "  | true count:  3 | false count:  12\n",
        "(u'would', u'love', u'eat')"
       ]
      },
      {
       "output_type": "stream",
       "stream": "stdout",
       "text": [
        "  | true count:  1 | false count:  7\n",
        "(u'I', u\"don't\", u'car')"
       ]
      },
      {
       "output_type": "stream",
       "stream": "stdout",
       "text": [
        "  | true count:  1 | false count:  5\n",
        "(u'help', u'would', u'much')"
       ]
      },
      {
       "output_type": "stream",
       "stream": "stdout",
       "text": [
        "  | true count:  1 | false count:  7\n",
        "(u'random', u'act', u'pizza')"
       ]
      },
      {
       "output_type": "stream",
       "stream": "stdout",
       "text": [
        "  | true count:  6 | false count:  26\n",
        "(u'started', u'new', u'job')"
       ]
      },
      {
       "output_type": "stream",
       "stream": "stdout",
       "text": [
        "  | true count:  1 | false count:  23\n",
        "(u'Last', u'night', u'I')"
       ]
      },
      {
       "output_type": "stream",
       "stream": "stdout",
       "text": [
        "  | true count:  2 | false count:  8\n",
        "(u'could', u'send', u'pizza')"
       ]
      },
      {
       "output_type": "stream",
       "stream": "stdout",
       "text": [
        "  | true count:  7 | false count:  2\n",
        "(u'good', u'friend', u'mine')"
       ]
      },
      {
       "output_type": "stream",
       "stream": "stdout",
       "text": [
        "  | true count:  1 | false count:  5\n",
        "(u'love', u'pizza', u'help')"
       ]
      },
      {
       "output_type": "stream",
       "stream": "stdout",
       "text": [
        "  | true count:  1 | false count:  4\n",
        "(u'hate', u'asking', u'help')"
       ]
      },
      {
       "output_type": "stream",
       "stream": "stdout",
       "text": [
        "  | true count:  4 | false count:  1\n",
        "(u'would', u'really', u'love')"
       ]
      },
      {
       "output_type": "stream",
       "stream": "stdout",
       "text": [
        "  | true count:  4 | false count:  26\n",
        "(u'go', u'long', u'way')"
       ]
      },
      {
       "output_type": "stream",
       "stream": "stdout",
       "text": [
        "  | true count:  4 | false count:  14\n",
        "(u'would', u'gladly', u'repay')"
       ]
      },
      {
       "output_type": "stream",
       "stream": "stdout",
       "text": [
        "  | true count:  1 | false count:  4\n",
        "(u'We', u\"don't\", u'get')"
       ]
      },
      {
       "output_type": "stream",
       "stream": "stdout",
       "text": [
        "  | true count:  2 | false count:  7\n",
        "(u'send', u'pizza', u'way')"
       ]
      },
      {
       "output_type": "stream",
       "stream": "stdout",
       "text": [
        "  | true count:  3 | false count:  11\n",
        "(u'Any', u'help', u'appreciated')"
       ]
      },
      {
       "output_type": "stream",
       "stream": "stdout",
       "text": [
        "  | true count:  1 | false count:  4\n",
        "(u'pay', u'forward', u'payday')"
       ]
      },
      {
       "output_type": "stream",
       "stream": "stdout",
       "text": [
        "  | true count:  1 | false count:  4\n",
        "(u'throwaway', u'account', u'I')"
       ]
      },
      {
       "output_type": "stream",
       "stream": "stdout",
       "text": [
        "  | true count:  1 | false count:  4\n",
        "(u'Would', u'anyone', u'kind')"
       ]
      },
      {
       "output_type": "stream",
       "stream": "stdout",
       "text": [
        "  | true count:  1 | false count:  4\n",
        "(u'food', u'I', u'get')  | true count:  1 | false count:  5\n",
        "(u'get', u'back', u'home')"
       ]
      },
      {
       "output_type": "stream",
       "stream": "stdout",
       "text": [
        "  | true count:  1 | false count:  4\n",
        "(u'something', u'eat', u'I')"
       ]
      },
      {
       "output_type": "stream",
       "stream": "stdout",
       "text": [
        "  | true count:  1 | false count:  4\n",
        "(u'I', u'could', u'get')"
       ]
      },
      {
       "output_type": "stream",
       "stream": "stdout",
       "text": [
        "  | true count:  4 | false count:  27\n",
        "(u'favor', u'soon', u'I')"
       ]
      },
      {
       "output_type": "stream",
       "stream": "stdout",
       "text": [
        "  | true count:  1 | false count:  6\n",
        "(u'pay', u'pizza', u'forward')"
       ]
      },
      {
       "output_type": "stream",
       "stream": "stdout",
       "text": [
        "  | true count:  1 | false count:  8\n",
        "(u'know', u'I', u'could')"
       ]
      },
      {
       "output_type": "stream",
       "stream": "stdout",
       "text": [
        "  | true count:  1 | false count:  4\n",
        "(u'craving', u'pizza', u'I')"
       ]
      },
      {
       "output_type": "stream",
       "stream": "stdout",
       "text": [
        "  | true count:  1 | false count:  5\n",
        "(u'I', u\"don't\", u'mind')"
       ]
      },
      {
       "output_type": "stream",
       "stream": "stdout",
       "text": [
        "  | true count:  1 | false count:  4\n",
        "(u'cents', u'bank', u'account')"
       ]
      },
      {
       "output_type": "stream",
       "stream": "stdout",
       "text": [
        "  | true count:  1 | false count:  7\n",
        "(u'Thanks', u'advance', u'anyone')"
       ]
      },
      {
       "output_type": "stream",
       "stream": "stdout",
       "text": [
        "  | true count:  1 | false count:  9\n",
        "(u'We', u'would', u'love')"
       ]
      },
      {
       "output_type": "stream",
       "stream": "stdout",
       "text": [
        "  | true count:  2 | false count:  8\n",
        "(u'day', u'I', u'would')"
       ]
      },
      {
       "output_type": "stream",
       "stream": "stdout",
       "text": [
        "  | true count:  4 | false count:  1\n",
        "(u'able', u'find', u'job')"
       ]
      },
      {
       "output_type": "stream",
       "stream": "stdout",
       "text": [
        "  | true count:  2 | false count:  7\n",
        "(u')', u'I', u'live')"
       ]
      },
      {
       "output_type": "stream",
       "stream": "stdout",
       "text": [
        "  | true count:  1 | false count:  4\n",
        "(u'try', u'pay', u'forward')"
       ]
      },
      {
       "output_type": "stream",
       "stream": "stdout",
       "text": [
        "  | true count:  1 | false count:  5\n",
        "(u'past', u'couple', u'weeks')"
       ]
      },
      {
       "output_type": "stream",
       "stream": "stdout",
       "text": [
        "  | true count:  1 | false count:  6\n",
        "(u'I', u\"can't\", u'go')"
       ]
      },
      {
       "output_type": "stream",
       "stream": "stdout",
       "text": [
        "  | true count:  1 | false count:  5\n",
        "(u'help', u'dinner', u'tonight')"
       ]
      },
      {
       "output_type": "stream",
       "stream": "stdout",
       "text": [
        "  | true count:  1 | false count:  4\n",
        "(u'www', u'facebook', u'com')"
       ]
      },
      {
       "output_type": "stream",
       "stream": "stdout",
       "text": [
        "  | true count:  1 | false count:  6\n",
        "(u'I', u'buy', u'someone')"
       ]
      },
      {
       "output_type": "stream",
       "stream": "stdout",
       "text": [
        "  | true count:  1 | false count:  5\n",
        "(u\"I'd\", u'really', u'love')"
       ]
      },
      {
       "output_type": "stream",
       "stream": "stdout",
       "text": [
        "  | true count:  1 | false count:  6\n",
        "(u'There', u'Pizza', u'Hut')"
       ]
      },
      {
       "output_type": "stream",
       "stream": "stdout",
       "text": [
        "  | true count:  1 | false count:  4\n",
        "(u'pizza', u'someone', u'else')"
       ]
      },
      {
       "output_type": "stream",
       "stream": "stdout",
       "text": [
        "  | true count:  1 | false count:  6\n",
        "(u'Would', u'love', u'pizza')"
       ]
      },
      {
       "output_type": "stream",
       "stream": "stdout",
       "text": [
        "  | true count:  5 | false count:  16\n",
        "(u'really', u'appreciate', u'pizza')"
       ]
      },
      {
       "output_type": "stream",
       "stream": "stdout",
       "text": [
        "  | true count:  5 | false count:  30\n",
        "(u'like', u'get', u'pizza')"
       ]
      },
      {
       "output_type": "stream",
       "stream": "stdout",
       "text": [
        "  | true count:  1 | false count:  4\n",
        "(u'awesome', u'someone', u'could')"
       ]
      },
      {
       "output_type": "stream",
       "stream": "stdout",
       "text": [
        "  | true count:  1 | false count:  5\n",
        "(u'I', u'think', u'would')"
       ]
      },
      {
       "output_type": "stream",
       "stream": "stdout",
       "text": [
        "  | true count:  1 | false count:  6\n",
        "(u'hungry', u'would', u'love')"
       ]
      },
      {
       "output_type": "stream",
       "stream": "stdout",
       "text": [
        "  | true count:  1 | false count:  4\n",
        "(u'youtube', u'com', u'watch')"
       ]
      },
      {
       "output_type": "stream",
       "stream": "stdout",
       "text": [
        "  | true count:  2 | false count:  12\n",
        "(u'going', u'rough', u'time')"
       ]
      },
      {
       "output_type": "stream",
       "stream": "stdout",
       "text": [
        "  | true count:  4 | false count:  1\n",
        "(u'throw', u'away', u'account')"
       ]
      },
      {
       "output_type": "stream",
       "stream": "stdout",
       "text": [
        "  | true count:  1 | false count:  4\n",
        "(u'would', u'really', u'appreciate')"
       ]
      },
      {
       "output_type": "stream",
       "stream": "stdout",
       "text": [
        "  | true count:  13 | false count:  62\n",
        "(u'buy', u'someone', u'else')"
       ]
      },
      {
       "output_type": "stream",
       "stream": "stdout",
       "text": [
        "  | true count:  1 | false count:  6\n",
        "(u'week', u'would', u'love')"
       ]
      },
      {
       "output_type": "stream",
       "stream": "stdout",
       "text": [
        "  | true count:  1 | false count:  4\n",
        "(u'paid', u'end', u'month')"
       ]
      },
      {
       "output_type": "stream",
       "stream": "stdout",
       "text": [
        "  | true count:  1 | false count:  4\n",
        "(u\"won't\", u'get', u'paid')"
       ]
      },
      {
       "output_type": "stream",
       "stream": "stdout",
       "text": [
        "  | true count:  2 | false count:  7\n",
        "(u'next', u'2', u'days')"
       ]
      },
      {
       "output_type": "stream",
       "stream": "stdout",
       "text": [
        "  | true count:  1 | false count:  5\n",
        "(u'get', u'paid', u'another')"
       ]
      },
      {
       "output_type": "stream",
       "stream": "stdout",
       "text": [
        "  | true count:  3 | false count:  10\n",
        "(u'wondering', u'someone', u'could')"
       ]
      },
      {
       "output_type": "stream",
       "stream": "stdout",
       "text": [
        "  | true count:  1 | false count:  4\n",
        "(u'really', u'want', u'pizza')"
       ]
      },
      {
       "output_type": "stream",
       "stream": "stdout",
       "text": [
        "  | true count:  1 | false count:  6\n",
        "(u'help', u'would', u'awesome')"
       ]
      },
      {
       "output_type": "stream",
       "stream": "stdout",
       "text": [
        "  | true count:  2 | false count:  9\n",
        "(u'get', u'paid', u'15th')"
       ]
      },
      {
       "output_type": "stream",
       "stream": "stdout",
       "text": [
        "  | true count:  1 | false count:  4\n",
        "(u'com', u'watch', u'v')"
       ]
      },
      {
       "output_type": "stream",
       "stream": "stdout",
       "text": [
        "  | true count:  2 | false count:  12\n",
        "(u'I', u'want', u'give')"
       ]
      },
      {
       "output_type": "stream",
       "stream": "stdout",
       "text": [
        "  | true count:  1 | false count:  5\n",
        "(u'get', u'paid', u'friday')"
       ]
      },
      {
       "output_type": "stream",
       "stream": "stdout",
       "text": [
        "  | true count:  1 | false count:  5\n",
        "(u'full', u'time', u'job')"
       ]
      },
      {
       "output_type": "stream",
       "stream": "stdout",
       "text": [
        "  | true count:  2 | false count:  7\n",
        "(u'I', u'want', u'something')"
       ]
      },
      {
       "output_type": "stream",
       "stream": "stdout",
       "text": [
        "  | true count:  1 | false count:  5\n",
        "(u'pizza', u'would', u'amazing')"
       ]
      },
      {
       "output_type": "stream",
       "stream": "stdout",
       "text": [
        "  | true count:  2 | false count:  8\n",
        "(u\"I'm\", u'pretty', u'broke')"
       ]
      },
      {
       "output_type": "stream",
       "stream": "stdout",
       "text": [
        "  | true count:  1 | false count:  7\n",
        "(u'could', u'use', u'pizza')"
       ]
      },
      {
       "output_type": "stream",
       "stream": "stdout",
       "text": [
        "  | true count:  5 | false count:  19\n",
        "(u'someone', u'would', u'help')"
       ]
      },
      {
       "output_type": "stream",
       "stream": "stdout",
       "text": [
        "  | true count:  1 | false count:  4\n",
        "(u\"I'd\", u'love', u'able')"
       ]
      },
      {
       "output_type": "stream",
       "stream": "stdout",
       "text": [
        "  | true count:  2 | false count:  7\n",
        "(u'My', u'car', u'broke')"
       ]
      },
      {
       "output_type": "stream",
       "stream": "stdout",
       "text": [
        "  | true count:  1 | false count:  5\n",
        "(u'hoping', u'someone', u'could')"
       ]
      },
      {
       "output_type": "stream",
       "stream": "stdout",
       "text": [
        "  | true count:  1 | false count:  5\n",
        "(u'get', u'another', u'job')"
       ]
      },
      {
       "output_type": "stream",
       "stream": "stdout",
       "text": [
        "  | true count:  1 | false count:  4\n",
        "(u'I', u'would', u'try')"
       ]
      },
      {
       "output_type": "stream",
       "stream": "stdout",
       "text": [
        "  | true count:  1 | false count:  4\n",
        "(u'Can', u'someone', u'please')"
       ]
      },
      {
       "output_type": "stream",
       "stream": "stdout",
       "text": [
        "  | true count:  1 | false count:  4\n",
        "(u'could', u'help', u'I')"
       ]
      },
      {
       "output_type": "stream",
       "stream": "stdout",
       "text": [
        "  | true count:  4 | false count:  15\n",
        "(u'pizza', u'would', u'help')"
       ]
      },
      {
       "output_type": "stream",
       "stream": "stdout",
       "text": [
        "  | true count:  1 | false count:  9\n",
        "(u'job', u'last', u'week')"
       ]
      },
      {
       "output_type": "stream",
       "stream": "stdout",
       "text": [
        "  | true count:  1 | false count:  8\n",
        "(u'figured', u'I', u'would')"
       ]
      },
      {
       "output_type": "stream",
       "stream": "stdout",
       "text": [
        "  | true count:  2 | false count:  10\n",
        "(u'would', u'love', u'pay')"
       ]
      },
      {
       "output_type": "stream",
       "stream": "stdout",
       "text": [
        "  | true count:  2 | false count:  7\n",
        "(u'enough', u'money', u'get')"
       ]
      },
      {
       "output_type": "stream",
       "stream": "stdout",
       "text": [
        "  | true count:  1 | false count:  5\n",
        "(u'I', u'moved', u'apartment')"
       ]
      },
      {
       "output_type": "stream",
       "stream": "stdout",
       "text": [
        "  | true count:  1 | false count:  5\n",
        "(u'return', u'favor', u'I')"
       ]
      },
      {
       "output_type": "stream",
       "stream": "stdout",
       "text": [
        "  | true count:  1 | false count:  10\n",
        "(u\"I'm\", u'hoping', u'someone')"
       ]
      },
      {
       "output_type": "stream",
       "stream": "stdout",
       "text": [
        "  | true count:  1 | false count:  7\n",
        "(u'friday', u'I', u'get')"
       ]
      },
      {
       "output_type": "stream",
       "stream": "stdout",
       "text": [
        "  | true count:  1 | false count:  4\n",
        "(u'I', u'get', u'job')"
       ]
      },
      {
       "output_type": "stream",
       "stream": "stdout",
       "text": [
        "  | true count:  3 | false count:  11\n",
        "(u'another', u'two', u'weeks')"
       ]
      },
      {
       "output_type": "stream",
       "stream": "stdout",
       "text": [
        "  | true count:  2 | false count:  7\n",
        "(u'I', u'could', u'go')"
       ]
      },
      {
       "output_type": "stream",
       "stream": "stdout",
       "text": [
        "  | true count:  3 | false count:  13\n",
        "(u'get', u'paid', u'tomorrow')"
       ]
      },
      {
       "output_type": "stream",
       "stream": "stdout",
       "text": [
        "  | true count:  7 | false count:  22\n",
        "(u'I', u'go', u'school')"
       ]
      },
      {
       "output_type": "stream",
       "stream": "stdout",
       "text": [
        "  | true count:  1 | false count:  4\n",
        "(u\"I'd\", u'like', u'pizza')  | true count:  1 | false count:  5\n",
        "(u'pay', u'forward', u'next')"
       ]
      },
      {
       "output_type": "stream",
       "stream": "stdout",
       "text": [
        "  | true count:  2 | false count:  8\n",
        "(u'someone', u'would', u'like')"
       ]
      },
      {
       "output_type": "stream",
       "stream": "stdout",
       "text": [
        "  | true count:  1 | false count:  4\n",
        "(u'I', u\"don't\", u'even')"
       ]
      },
      {
       "output_type": "stream",
       "stream": "stdout",
       "text": [
        "  | true count:  3 | false count:  14\n",
        "(u'year', u'ago', u'I')"
       ]
      },
      {
       "output_type": "stream",
       "stream": "stdout",
       "text": [
        "  | true count:  1 | false count:  4\n",
        "(u'My', u'girlfriend', u'I')  | true count:  4 | false count:  13\n",
        "(u'I', u'realized', u'I')"
       ]
      },
      {
       "output_type": "stream",
       "stream": "stdout",
       "text": [
        "  | true count:  1 | false count:  6\n",
        "(u'I', u\"can't\", u'eat')"
       ]
      },
      {
       "output_type": "stream",
       "stream": "stdout",
       "text": [
        "  | true count:  1 | false count:  4\n",
        "(u'I', u\"won't\", u'get')"
       ]
      },
      {
       "output_type": "stream",
       "stream": "stdout",
       "text": [
        "  | true count:  1 | false count:  7\n",
        "(u'get', u'something', u'eat')"
       ]
      },
      {
       "output_type": "stream",
       "stream": "stdout",
       "text": [
        "  | true count:  2 | false count:  7\n",
        "(u\"I'll\", u'able', u'pay')"
       ]
      },
      {
       "output_type": "stream",
       "stream": "stdout",
       "text": [
        "  | true count:  1 | false count:  4\n",
        "(u'pay', u'forward', u\"I'm\")"
       ]
      },
      {
       "output_type": "stream",
       "stream": "stdout",
       "text": [
        "  | true count:  1 | false count:  5\n",
        "(u'lost', u'job', u'last')"
       ]
      },
      {
       "output_type": "stream",
       "stream": "stdout",
       "text": [
        "  | true count:  1 | false count:  7\n",
        "(u'thought', u'I', u'would')"
       ]
      },
      {
       "output_type": "stream",
       "stream": "stdout",
       "text": [
        "  | true count:  2 | false count:  11\n",
        "(u'I', u'want', u'pizza')"
       ]
      },
      {
       "output_type": "stream",
       "stream": "stdout",
       "text": [
        "  | true count:  3 | false count:  17\n",
        "(u'I', u'could', u'sure')"
       ]
      },
      {
       "output_type": "stream",
       "stream": "stdout",
       "text": [
        "  | true count:  1 | false count:  4\n",
        "(u'Long', u'story', u'short')"
       ]
      },
      {
       "output_type": "stream",
       "stream": "stdout",
       "text": [
        "  | true count:  5 | false count:  22\n",
        "(u'know', u\"I'm\", u'going')"
       ]
      },
      {
       "output_type": "stream",
       "stream": "stdout",
       "text": [
        "  | true count:  1 | false count:  5\n",
        "(u'would', u'really', u'like')"
       ]
      },
      {
       "output_type": "stream",
       "stream": "stdout",
       "text": [
        "  | true count:  5 | false count:  19\n",
        "(u'fallen', u'hard', u'times')"
       ]
      },
      {
       "output_type": "stream",
       "stream": "stdout",
       "text": [
        "  | true count:  1 | false count:  5\n",
        "(u'I', u'would', u'really')"
       ]
      },
      {
       "output_type": "stream",
       "stream": "stdout",
       "text": [
        "  | true count:  17 | false count:  70\n",
        "(u'It', u'would', u'amazing')"
       ]
      },
      {
       "output_type": "stream",
       "stream": "stdout",
       "text": [
        "  | true count:  1 | false count:  4\n",
        "(u'use', u'pizza', u'tonight')"
       ]
      },
      {
       "output_type": "stream",
       "stream": "stdout",
       "text": [
        "  | true count:  1 | false count:  4\n",
        "(u'job', u'month', u'ago')"
       ]
      },
      {
       "output_type": "stream",
       "stream": "stdout",
       "text": [
        "  | true count:  1 | false count:  7\n",
        "(u'could', u'please', u'help')"
       ]
      },
      {
       "output_type": "stream",
       "stream": "stdout",
       "text": [
        "  | true count:  1 | false count:  6\n",
        "(u'pizza', u'I', u'money')"
       ]
      },
      {
       "output_type": "stream",
       "stream": "stdout",
       "text": [
        "  | true count:  1 | false count:  5\n",
        "(u'able', u'afford', u'much')"
       ]
      },
      {
       "output_type": "stream",
       "stream": "stdout",
       "text": [
        "  | true count:  1 | false count:  4\n",
        "(u'happily', u'pay', u'forward')"
       ]
      },
      {
       "output_type": "stream",
       "stream": "stdout",
       "text": [
        "  | true count:  1 | false count:  4\n",
        "(u'2', u'1', u'2')"
       ]
      },
      {
       "output_type": "stream",
       "stream": "stdout",
       "text": [
        "  | true count:  1 | false count:  7\n",
        "(u'really', u'craving', u'pizza')"
       ]
      },
      {
       "output_type": "stream",
       "stream": "stdout",
       "text": [
        "  | true count:  1 | false count:  9\n",
        "(u'kind', u'enough', u'help')"
       ]
      },
      {
       "output_type": "stream",
       "stream": "stdout",
       "text": [
        "  | true count:  3 | false count:  13\n",
        "(u'If', u'someone', u'would')"
       ]
      },
      {
       "output_type": "stream",
       "stream": "stdout",
       "text": [
        "  | true count:  4 | false count:  13\n",
        "(u'would', u'like', u'give')"
       ]
      },
      {
       "output_type": "stream",
       "stream": "stdout",
       "text": [
        "  | true count:  1 | false count:  5\n",
        "(u'promise', u'pay', u'back')"
       ]
      },
      {
       "output_type": "stream",
       "stream": "stdout",
       "text": [
        "  | true count:  1 | false count:  4\n",
        "(u'first', u'time', u'posting')"
       ]
      },
      {
       "output_type": "stream",
       "stream": "stdout",
       "text": [
        "  | true count:  3 | false count:  11\n",
        "(u'19', u'year', u'old')"
       ]
      },
      {
       "output_type": "stream",
       "stream": "stdout",
       "text": [
        "  | true count:  1 | false count:  5\n",
        "(u'pizza', u'would', u'make')"
       ]
      },
      {
       "output_type": "stream",
       "stream": "stdout",
       "text": [
        "  | true count:  5 | false count:  21\n",
        "(u'Long', u'time', u'lurker')"
       ]
      },
      {
       "output_type": "stream",
       "stream": "stdout",
       "text": [
        "  | true count:  1 | false count:  5\n",
        "(u'I', u'thought', u\"I'd\")"
       ]
      },
      {
       "output_type": "stream",
       "stream": "stdout",
       "text": [
        "  | true count:  3 | false count:  11\n",
        "(u'like', u'pizza', u'I')"
       ]
      },
      {
       "output_type": "stream",
       "stream": "stdout",
       "text": [
        "  | true count:  1 | false count:  4\n",
        "(u'I', u'could', u'really')"
       ]
      },
      {
       "output_type": "stream",
       "stream": "stdout",
       "text": [
        "  | true count:  10 | false count:  32\n",
        "(u'I', u'recently', u'lost')"
       ]
      },
      {
       "output_type": "stream",
       "stream": "stdout",
       "text": [
        "  | true count:  1 | false count:  7\n",
        "(u'willing', u'donate', u'pizza')"
       ]
      },
      {
       "output_type": "stream",
       "stream": "stdout",
       "text": [
        "  | true count:  1 | false count:  6\n",
        "(u'3', u'year', u'old')"
       ]
      },
      {
       "output_type": "stream",
       "stream": "stdout",
       "text": [
        "  | true count:  1 | false count:  5\n",
        "(u\"don't\", u'want', u'post')"
       ]
      },
      {
       "output_type": "stream",
       "stream": "stdout",
       "text": [
        "  | true count:  1 | false count:  4\n",
        "(u'gladly', u'return', u'favor')"
       ]
      },
      {
       "output_type": "stream",
       "stream": "stdout",
       "text": [
        "  | true count:  3 | false count:  10\n",
        "(u'We', u'would', u'really')"
       ]
      },
      {
       "output_type": "stream",
       "stream": "stdout",
       "text": [
        "  | true count:  2 | false count:  13\n",
        "(u'I', u\"don't\", u'like')"
       ]
      },
      {
       "output_type": "stream",
       "stream": "stdout",
       "text": [
        "  | true count:  3 | false count:  12\n",
        "(u'couple', u'weeks', u'ago')"
       ]
      },
      {
       "output_type": "stream",
       "stream": "stdout",
       "text": [
        "  | true count:  2 | false count:  7\n",
        "(u'anyone', u'kind', u'enough')"
       ]
      },
      {
       "output_type": "stream",
       "stream": "stdout",
       "text": [
        "  | true count:  2 | false count:  11\n",
        "(u'pizza', u'would', u'go')"
       ]
      },
      {
       "output_type": "stream",
       "stream": "stdout",
       "text": [
        "  | true count:  2 | false count:  7\n",
        "(u'My', u'husband', u'I')"
       ]
      },
      {
       "output_type": "stream",
       "stream": "stdout",
       "text": [
        "  | true count:  2 | false count:  11\n",
        "(u'minimum', u'wage', u'job')"
       ]
      },
      {
       "output_type": "stream",
       "stream": "stdout",
       "text": [
        "  | true count:  2 | false count:  7\n",
        "(u'Hey', u'guys', u\"I'm\")"
       ]
      },
      {
       "output_type": "stream",
       "stream": "stdout",
       "text": [
        "  | true count:  1 | false count:  9\n",
        "(u'make', u'ends', u'meet')"
       ]
      },
      {
       "output_type": "stream",
       "stream": "stdout",
       "text": [
        "  | true count:  4 | false count:  14\n",
        "(u'This', u'first', u'time')"
       ]
      },
      {
       "output_type": "stream",
       "stream": "stdout",
       "text": [
        "  | true count:  4 | false count:  20\n",
        "(u'On', u'top', u'I')"
       ]
      },
      {
       "output_type": "stream",
       "stream": "stdout",
       "text": [
        "  | true count:  1 | false count:  4\n",
        "(u'No', u'sob', u'story')"
       ]
      },
      {
       "output_type": "stream",
       "stream": "stdout",
       "text": [
        "  | true count:  2 | false count:  16\n",
        "(u'would', u'like', u'pizza')"
       ]
      },
      {
       "output_type": "stream",
       "stream": "stdout",
       "text": [
        "  | true count:  1 | false count:  12\n",
        "(u'I', u'love', u'pizza')"
       ]
      },
      {
       "output_type": "stream",
       "stream": "stdout",
       "text": [
        "  | true count:  2 | false count:  8\n",
        "(u'anyone', u'please', u'help')"
       ]
      },
      {
       "output_type": "stream",
       "stream": "stdout",
       "text": [
        "  | true count:  1 | false count:  5\n",
        "(u'I', u\"haven't\", u'seen')"
       ]
      },
      {
       "output_type": "stream",
       "stream": "stdout",
       "text": [
        "  | true count:  1 | false count:  4\n",
        "(u'title', u'says', u\"I'm\")"
       ]
      },
      {
       "output_type": "stream",
       "stream": "stdout",
       "text": [
        "  | true count:  1 | false count:  7\n",
        "(u'someone', u'would', u'kind')"
       ]
      },
      {
       "output_type": "stream",
       "stream": "stdout",
       "text": [
        "  | true count:  3 | false count:  12\n",
        "(u'I', u'want', u'make')"
       ]
      },
      {
       "output_type": "stream",
       "stream": "stdout",
       "text": [
        "  | true count:  1 | false count:  4\n",
        "(u'(http', u'www', u'youtube')"
       ]
      },
      {
       "output_type": "stream",
       "stream": "stdout",
       "text": [
        "  | true count:  1 | false count:  10\n",
        "(u'past', u'two', u'months')"
       ]
      },
      {
       "output_type": "stream",
       "stream": "stdout",
       "text": [
        "  | true count:  1 | false count:  4\n",
        "(u'I', u'really', u\"don't\")"
       ]
      },
      {
       "output_type": "stream",
       "stream": "stdout",
       "text": [
        "  | true count:  4 | false count:  16\n",
        "(u'would', u'much', u'appreciated')"
       ]
      },
      {
       "output_type": "stream",
       "stream": "stdout",
       "text": [
        "  | true count:  8 | false count:  35\n",
        "(u'please', u'let', u'know')"
       ]
      },
      {
       "output_type": "stream",
       "stream": "stdout",
       "text": [
        "  | true count:  1 | false count:  12\n",
        "(u'help', u'would', u'really')"
       ]
      },
      {
       "output_type": "stream",
       "stream": "stdout",
       "text": [
        "  | true count:  1 | false count:  4\n",
        "(u\"don't\", u'like', u'asking')"
       ]
      },
      {
       "output_type": "stream",
       "stream": "stdout",
       "text": [
        "  | true count:  2 | false count:  7\n",
        "(u'I', u'know', u'people')"
       ]
      },
      {
       "output_type": "stream",
       "stream": "stdout",
       "text": [
        "  | true count:  1 | false count:  8\n",
        "(u'return', u'favor', u'someone')"
       ]
      },
      {
       "output_type": "stream",
       "stream": "stdout",
       "text": [
        "  | true count:  1 | false count:  4\n",
        "(u'I', u'completely', u'broke')"
       ]
      },
      {
       "output_type": "stream",
       "stream": "stdout",
       "text": [
        "  | true count:  1 | false count:  4\n",
        "(u'If', u'someone', u'help')"
       ]
      },
      {
       "output_type": "stream",
       "stream": "stdout",
       "text": [
        "  | true count:  1 | false count:  5\n",
        "(u'I', u'got', u'new')"
       ]
      },
      {
       "output_type": "stream",
       "stream": "stdout",
       "text": [
        "  | true count:  1 | false count:  10\n",
        "(u'since', u'I', u'got')"
       ]
      },
      {
       "output_type": "stream",
       "stream": "stdout",
       "text": [
        "  | true count:  1 | false count:  5\n",
        "(u'Please', u'help', u'us')"
       ]
      },
      {
       "output_type": "stream",
       "stream": "stdout",
       "text": [
        "  | true count:  1 | false count:  9\n",
        "(u'last', u'bit', u'money')"
       ]
      },
      {
       "output_type": "stream",
       "stream": "stdout",
       "text": [
        "  | true count:  1 | false count:  5\n",
        "(u'would', u'make', u'night')"
       ]
      },
      {
       "output_type": "stream",
       "stream": "stdout",
       "text": [
        "  | true count:  2 | false count:  10\n",
        "(u\"I'm\", u'willing', u'provide')"
       ]
      },
      {
       "output_type": "stream",
       "stream": "stdout",
       "text": [
        "  | true count:  1 | false count:  4\n",
        "(u'It', u'would', u'greatly')"
       ]
      },
      {
       "output_type": "stream",
       "stream": "stdout",
       "text": [
        "  | true count:  1 | false count:  5\n",
        "(u'2', u'year', u'old')"
       ]
      },
      {
       "output_type": "stream",
       "stream": "stdout",
       "text": [
        "  | true count:  1 | false count:  5\n",
        "(u'hoping', u'someone', u'would')"
       ]
      },
      {
       "output_type": "stream",
       "stream": "stdout",
       "text": [
        "  | true count:  1 | false count:  6\n",
        "(u'love', u'pizza', u'right')"
       ]
      },
      {
       "output_type": "stream",
       "stream": "stdout",
       "text": [
        "  | true count:  2 | false count:  10\n",
        "(u'one', u'pizza', u'would')"
       ]
      },
      {
       "output_type": "stream",
       "stream": "stdout",
       "text": [
        "  | true count:  1 | false count:  4\n",
        "(u'I', u\"don't\", u'get')"
       ]
      },
      {
       "output_type": "stream",
       "stream": "stdout",
       "text": [
        "  | true count:  21 | false count:  65\n",
        "(u'pretty', u'much', u'food')"
       ]
      },
      {
       "output_type": "stream",
       "stream": "stdout",
       "text": [
        "  | true count:  1 | false count:  4\n",
        "(u'appreciate', u'someone', u'could')"
       ]
      },
      {
       "output_type": "stream",
       "stream": "stdout",
       "text": [
        "  | true count:  1 | false count:  4\n",
        "(u'I', u'know', u'I')"
       ]
      },
      {
       "output_type": "stream",
       "stream": "stdout",
       "text": [
        "  | true count:  4 | false count:  31\n",
        "(u'love', u'eat', u'pizza')"
       ]
      },
      {
       "output_type": "stream",
       "stream": "stdout",
       "text": [
        "  | true count:  1 | false count:  6\n",
        "(u'I', u\"don't\", u'anything')"
       ]
      },
      {
       "output_type": "stream",
       "stream": "stdout",
       "text": [
        "  | true count:  1 | false count:  8\n",
        "(u'would', u'amazing', u'someone')"
       ]
      },
      {
       "output_type": "stream",
       "stream": "stdout",
       "text": [
        "  | true count:  1 | false count:  4\n",
        "(u'really', u'appreciate', u'help')"
       ]
      },
      {
       "output_type": "stream",
       "stream": "stdout",
       "text": [
        "  | true count:  1 | false count:  10\n",
        "(u'pay', u'forward', u'someone')"
       ]
      },
      {
       "output_type": "stream",
       "stream": "stdout",
       "text": [
        "  | true count:  3 | false count:  10\n",
        "(u'I', u'college', u'student')"
       ]
      },
      {
       "output_type": "stream",
       "stream": "stdout",
       "text": [
        "  | true count:  1 | false count:  4\n",
        "(u'really', u'love', u'pizza')"
       ]
      },
      {
       "output_type": "stream",
       "stream": "stdout",
       "text": [
        "  | true count:  3 | false count:  17\n",
        "(u'got', u'new', u'job')"
       ]
      },
      {
       "output_type": "stream",
       "stream": "stdout",
       "text": [
        "  | true count:  3 | false count:  10\n",
        "(u'really', u'use', u'pizza')"
       ]
      },
      {
       "output_type": "stream",
       "stream": "stdout",
       "text": [
        "  | true count:  4 | false count:  33\n",
        "(u'last', u'night', u'I')"
       ]
      },
      {
       "output_type": "stream",
       "stream": "stdout",
       "text": [
        "  | true count:  3 | false count:  15\n",
        "(u'help', u'would', u'amazing')"
       ]
      },
      {
       "output_type": "stream",
       "stream": "stdout",
       "text": [
        "  | true count:  1 | false count:  4\n",
        "(u'today', u'I', u'would')"
       ]
      },
      {
       "output_type": "stream",
       "stream": "stdout",
       "text": [
        "  | true count:  3 | false count:  10\n",
        "(u'As', u'soon', u'I')"
       ]
      },
      {
       "output_type": "stream",
       "stream": "stdout",
       "text": [
        "  | true count:  1 | false count:  8\n",
        "(u'dont', u'get', u'paid')"
       ]
      },
      {
       "output_type": "stream",
       "stream": "stdout",
       "text": [
        "  | true count:  2 | false count:  15\n",
        "(u'I', u'hope', u'I')"
       ]
      },
      {
       "output_type": "stream",
       "stream": "stdout",
       "text": [
        "  | true count:  1 | false count:  9\n",
        "(u'request', u'random', u'act')"
       ]
      },
      {
       "output_type": "stream",
       "stream": "stdout",
       "text": [
        "  | true count:  1 | false count:  4\n",
        "(u\"can't\", u'afford', u'get')"
       ]
      },
      {
       "output_type": "stream",
       "stream": "stdout",
       "text": [
        "  | true count:  1 | false count:  4\n",
        "(u'little', u'money', u'I')"
       ]
      },
      {
       "output_type": "stream",
       "stream": "stdout",
       "text": [
        "  | true count:  1 | false count:  7\n",
        "(u'anyone', u'would', u'like')"
       ]
      },
      {
       "output_type": "stream",
       "stream": "stdout",
       "text": [
        "  | true count:  3 | false count:  14\n",
        "(u'I', u'hoping', u'someone')"
       ]
      },
      {
       "output_type": "stream",
       "stream": "stdout",
       "text": [
        "  | true count:  2 | false count:  8\n",
        "(u'I', u'enough', u'money')  | true count:  1 | false count:  4\n",
        "(u'enough', u'cover', u'rent')"
       ]
      },
      {
       "output_type": "stream",
       "stream": "stdout",
       "text": [
        "  | true count:  4 | false count:  1\n",
        "(u'anyone', u'help', u'would')"
       ]
      },
      {
       "output_type": "stream",
       "stream": "stdout",
       "text": [
        "  | true count:  1 | false count:  6\n",
        "(u'would', u'make', u'week')"
       ]
      },
      {
       "output_type": "stream",
       "stream": "stdout",
       "text": [
        "  | true count:  4 | false count:  1\n",
        "(u'return', u'favor', u'soon')"
       ]
      },
      {
       "output_type": "stream",
       "stream": "stdout",
       "text": [
        "  | true count:  1 | false count:  9\n",
        "(u'appreciate', u'pizza', u'right')"
       ]
      },
      {
       "output_type": "stream",
       "stream": "stdout",
       "text": [
        "  | true count:  1 | false count:  4\n",
        "(u'someone', u'kind', u'enough')"
       ]
      },
      {
       "output_type": "stream",
       "stream": "stdout",
       "text": [
        "  | true count:  1 | false count:  5\n",
        "(u'pizza', u'would', u'wonderful')"
       ]
      },
      {
       "output_type": "stream",
       "stream": "stdout",
       "text": [
        "  | true count:  1 | false count:  5\n",
        "(u'I', u\"can't\", u'remember')"
       ]
      },
      {
       "output_type": "stream",
       "stream": "stdout",
       "text": [
        "  | true count:  1 | false count:  4\n",
        "(u'would', u'love', u'forever')"
       ]
      },
      {
       "output_type": "stream",
       "stream": "stdout",
       "text": [
        "  | true count:  1 | false count:  5\n",
        "(u'move', u'back', u'home')"
       ]
      },
      {
       "output_type": "stream",
       "stream": "stdout",
       "text": [
        "  | true count:  2 | false count:  7\n",
        "(u'thought', u\"I'd\", u'try')"
       ]
      },
      {
       "output_type": "stream",
       "stream": "stdout",
       "text": [
        "  | true count:  1 | false count:  6\n",
        "(u'money', u'I', u'get')"
       ]
      },
      {
       "output_type": "stream",
       "stream": "stdout",
       "text": [
        "  | true count:  1 | false count:  5\n",
        "(u'Would', u'really', u'appreciate')"
       ]
      },
      {
       "output_type": "stream",
       "stream": "stdout",
       "text": [
        "  | true count:  1 | false count:  10\n",
        "(u'I', u\"haven't\", u'ate')"
       ]
      },
      {
       "output_type": "stream",
       "stream": "stdout",
       "text": [
        "  | true count:  1 | false count:  4\n",
        "(u'sure', u'return', u'favor')"
       ]
      },
      {
       "output_type": "stream",
       "stream": "stdout",
       "text": [
        "  | true count:  1 | false count:  8\n",
        "(u'pizza', u'I', u\"don't\")"
       ]
      },
      {
       "output_type": "stream",
       "stream": "stdout",
       "text": [
        "  | true count:  1 | false count:  5\n",
        "(u\"isn't\", u'sob', u'story')"
       ]
      },
      {
       "output_type": "stream",
       "stream": "stdout",
       "text": [
        "  | true count:  1 | false count:  4\n",
        "(u'would', u'love', u'get')"
       ]
      },
      {
       "output_type": "stream",
       "stream": "stdout",
       "text": [
        "  | true count:  1 | false count:  6\n",
        "(u'would', u'appreciate', u'much')"
       ]
      },
      {
       "output_type": "stream",
       "stream": "stdout",
       "text": [
        "  | true count:  1 | false count:  5\n",
        "(u'help', u'us', u'would')"
       ]
      },
      {
       "output_type": "stream",
       "stream": "stdout",
       "text": [
        "  | true count:  1 | false count:  5\n",
        "(u'broke', u'college', u'student')"
       ]
      },
      {
       "output_type": "stream",
       "stream": "stdout",
       "text": [
        "  | true count:  4 | false count:  20\n",
        "(u'would', u'love', u'pizza')"
       ]
      },
      {
       "output_type": "stream",
       "stream": "stdout",
       "text": [
        "  | true count:  17 | false count:  75\n",
        "(u'2', u'years', u'ago')"
       ]
      },
      {
       "output_type": "stream",
       "stream": "stdout",
       "text": [
        "  | true count:  1 | false count:  5\n",
        "(u'past', u'two', u'weeks')"
       ]
      },
      {
       "output_type": "stream",
       "stream": "stdout",
       "text": [
        "  | true count:  1 | false count:  7\n",
        "(u'I', u'would', u'like')"
       ]
      },
      {
       "output_type": "stream",
       "stream": "stdout",
       "text": [
        "  | true count:  10 | false count:  36\n",
        "(u'work', u'full', u'time')"
       ]
      },
      {
       "output_type": "stream",
       "stream": "stdout",
       "text": [
        "  | true count:  1 | false count:  5\n",
        "(u'favor', u'someone', u'else')"
       ]
      },
      {
       "output_type": "stream",
       "stream": "stdout",
       "text": [
        "  | true count:  1 | false count:  5\n",
        "(u'college', u'student', u'would')"
       ]
      },
      {
       "output_type": "stream",
       "stream": "stdout",
       "text": [
        "  | true count:  1 | false count:  4\n",
        "(u'I', u'craving', u'pizza')"
       ]
      },
      {
       "output_type": "stream",
       "stream": "stdout",
       "text": [
        "  | true count:  2 | false count:  7\n",
        "(u'way', u'I', u'could')"
       ]
      },
      {
       "output_type": "stream",
       "stream": "stdout",
       "text": [
        "  | true count:  2 | false count:  7\n",
        "(u'please', u'send', u'pizza')"
       ]
      },
      {
       "output_type": "stream",
       "stream": "stdout",
       "text": [
        "  | true count:  1 | false count:  4\n",
        "(u'I', u'would', u'gladly')"
       ]
      },
      {
       "output_type": "stream",
       "stream": "stdout",
       "text": [
        "  | true count:  1 | false count:  7\n",
        "(u'would', u'like', u'help')"
       ]
      },
      {
       "output_type": "stream",
       "stream": "stdout",
       "text": [
        "  | true count:  2 | false count:  16\n",
        "(u'someone', u'could', u'get')"
       ]
      },
      {
       "output_type": "stream",
       "stream": "stdout",
       "text": [
        "  | true count:  1 | false count:  8\n",
        "(u'I', u'like', u'pizza')"
       ]
      },
      {
       "output_type": "stream",
       "stream": "stdout",
       "text": [
        "  | true count:  1 | false count:  4\n",
        "(u'within', u'walking', u'distance')"
       ]
      },
      {
       "output_type": "stream",
       "stream": "stdout",
       "text": [
        "  | true count:  1 | false count:  4\n",
        "(u'Pretty', u'much', u'title')"
       ]
      },
      {
       "output_type": "stream",
       "stream": "stdout",
       "text": [
        "  | true count:  1 | false count:  4\n",
        "(u\"I'm\", u'craving', u'pizza')"
       ]
      },
      {
       "output_type": "stream",
       "stream": "stdout",
       "text": [
        "  | true count:  2 | false count:  8\n",
        "(u'pizza', u'would', u'awesome')"
       ]
      },
      {
       "output_type": "stream",
       "stream": "stdout",
       "text": [
        "  | true count:  2 | false count:  14\n",
        "(u'kind', u'soul', u'would')"
       ]
      },
      {
       "output_type": "stream",
       "stream": "stdout",
       "text": [
        "  | true count:  1 | false count:  8\n",
        "(u'could', u'help', u'us')"
       ]
      },
      {
       "output_type": "stream",
       "stream": "stdout",
       "text": [
        "  | true count:  4 | false count:  15\n",
        "(u'I', u\"wouldn't\", u'mind')"
       ]
      },
      {
       "output_type": "stream",
       "stream": "stdout",
       "text": [
        "  | true count:  1 | false count:  5\n",
        "(u'thank', u'god', u'bless')"
       ]
      },
      {
       "output_type": "stream",
       "stream": "stdout",
       "text": [
        "  | true count:  1 | false count:  4\n",
        "(u'get', u'paid', u'till')"
       ]
      },
      {
       "output_type": "stream",
       "stream": "stdout",
       "text": [
        "  | true count:  2 | false count:  17\n",
        "(u'return', u'favor', u'next')"
       ]
      },
      {
       "output_type": "stream",
       "stream": "stdout",
       "text": [
        "  | true count:  1 | false count:  4\n",
        "(u'pizza', u'would', u'cheer')"
       ]
      },
      {
       "output_type": "stream",
       "stream": "stdout",
       "text": [
        "  | true count:  1 | false count:  6\n",
        "(u\"I'm\", u'really', u'hungry')"
       ]
      },
      {
       "output_type": "stream",
       "stream": "stdout",
       "text": [
        "  | true count:  2 | false count:  11\n",
        "(u'I', u'recently', u'got')"
       ]
      },
      {
       "output_type": "stream",
       "stream": "stdout",
       "text": [
        "  | true count:  7 | false count:  2\n",
        "(u'would', u'kind', u'enough')"
       ]
      },
      {
       "output_type": "stream",
       "stream": "stdout",
       "text": [
        "  | true count:  4 | false count:  14\n",
        "(u\"I'll\", u'sure', u'pay')"
       ]
      },
      {
       "output_type": "stream",
       "stream": "stdout",
       "text": [
        "  | true count:  2 | false count:  8\n",
        "(u'love', u'someone', u'could')"
       ]
      },
      {
       "output_type": "stream",
       "stream": "stdout",
       "text": [
        "  | true count:  1 | false count:  5\n",
        "(u'please', u'help', u'us')"
       ]
      },
      {
       "output_type": "stream",
       "stream": "stdout",
       "text": [
        "  | true count:  1 | false count:  6\n",
        "(u'If', u'would', u'like')"
       ]
      },
      {
       "output_type": "stream",
       "stream": "stdout",
       "text": [
        "  | true count:  1 | false count:  5\n",
        "(u'I', u\"didn't\", u'get')"
       ]
      },
      {
       "output_type": "stream",
       "stream": "stdout",
       "text": [
        "  | true count:  1 | false count:  10\n",
        "(u'would', u'greatly', u'appreciated')"
       ]
      },
      {
       "output_type": "stream",
       "stream": "stdout",
       "text": [
        "  | true count:  13 | false count:  41\n",
        "(u'I', u'would', u'incredibly')"
       ]
      },
      {
       "output_type": "stream",
       "stream": "stdout",
       "text": [
        "  | true count:  1 | false count:  5\n",
        "(u'money', u'I', u'left')  | true count:  1 | false count:  9\n",
        "(u'hoping', u'someone', u'help')"
       ]
      },
      {
       "output_type": "stream",
       "stream": "stdout",
       "text": [
        "  | true count:  1 | false count:  5\n",
        "(u'enough', u'send', u'pizza')"
       ]
      },
      {
       "output_type": "stream",
       "stream": "stdout",
       "text": [
        "  | true count:  1 | false count:  6\n",
        "(u'I', u'would', u'grateful')"
       ]
      },
      {
       "output_type": "stream",
       "stream": "stdout",
       "text": [
        "  | true count:  6 | false count:  19\n",
        "(u'gift', u'card', u'I')"
       ]
      },
      {
       "output_type": "stream",
       "stream": "stdout",
       "text": [
        "  | true count:  2 | false count:  9\n",
        "(u'anyone', u'would', u'willing')"
       ]
      },
      {
       "output_type": "stream",
       "stream": "stdout",
       "text": [
        "  | true count:  3 | false count:  11\n",
        "(u'pizza', u'would', u'nice')"
       ]
      },
      {
       "output_type": "stream",
       "stream": "stdout",
       "text": [
        "  | true count:  3 | false count:  10\n",
        "(u'would', u'mean', u'lot')"
       ]
      },
      {
       "output_type": "stream",
       "stream": "stdout",
       "text": [
        "  | true count:  1 | false count:  5\n"
       ]
      }
     ],
     "prompt_number": 51
    },
    {
     "cell_type": "code",
     "collapsed": false,
     "input": [
      "compare_two_dicts(bigrams_dict_true, bigrams_dict_false)"
     ],
     "language": "python",
     "metadata": {},
     "outputs": [
      {
       "output_type": "stream",
       "stream": "stdout",
       "text": [
        "(u'best', u'friend')  | true count:  4 | false count:  28\n",
        "(u'http', u'www')"
       ]
      },
      {
       "output_type": "stream",
       "stream": "stdout",
       "text": [
        "  | true count:  10 | false count:  32\n",
        "(u'eat', u'tonight')"
       ]
      },
      {
       "output_type": "stream",
       "stream": "stdout",
       "text": [
        "  | true count:  2 | false count:  14\n",
        "(u'free', u'pizza')"
       ]
      },
      {
       "output_type": "stream",
       "stream": "stdout",
       "text": [
        "  | true count:  6 | false count:  37\n",
        "(u\"it's\", u'great')"
       ]
      },
      {
       "output_type": "stream",
       "stream": "stdout",
       "text": [
        "  | true count:  1 | false count:  6\n",
        "(u\"I'm\", u'getting')"
       ]
      },
      {
       "output_type": "stream",
       "stream": "stdout",
       "text": [
        "  | true count:  5 | false count:  22\n",
        "(u'reading', u')')"
       ]
      },
      {
       "output_type": "stream",
       "stream": "stdout",
       "text": [
        "  | true count:  2 | false count:  8\n",
        "(u'sure', u'could')"
       ]
      },
      {
       "output_type": "stream",
       "stream": "stdout",
       "text": [
        "  | true count:  1 | false count:  4\n",
        "(u\"I'll\", u'write')"
       ]
      },
      {
       "output_type": "stream",
       "stream": "stdout",
       "text": [
        "  | true count:  1 | false count:  4\n",
        "(u'youtube', u'com')"
       ]
      },
      {
       "output_type": "stream",
       "stream": "stdout",
       "text": [
        "  | true count:  4 | false count:  13\n",
        "(u'would', u'also')"
       ]
      },
      {
       "output_type": "stream",
       "stream": "stdout",
       "text": [
        "  | true count:  2 | false count:  9\n",
        "(u'sadly', u'I')"
       ]
      },
      {
       "output_type": "stream",
       "stream": "stdout",
       "text": [
        "  | true count:  1 | false count:  5\n",
        "(u'please', u'help')"
       ]
      },
      {
       "output_type": "stream",
       "stream": "stdout",
       "text": [
        "  | true count:  14 | false count:  45\n",
        "(u'help', u'pay')"
       ]
      },
      {
       "output_type": "stream",
       "stream": "stdout",
       "text": [
        "  | true count:  2 | false count:  7\n",
        "(u'else', u'go')"
       ]
      },
      {
       "output_type": "stream",
       "stream": "stdout",
       "text": [
        "  | true count:  1 | false count:  4\n",
        "(u'moved', u'first')"
       ]
      },
      {
       "output_type": "stream",
       "stream": "stdout",
       "text": [
        "  | true count:  1 | false count:  5\n",
        "(u'able', u'support')  | true count:  1 | false count:  4\n",
        "(u\"I'm\", u'home')"
       ]
      },
      {
       "output_type": "stream",
       "stream": "stdout",
       "text": [
        "  | true count:  2 | false count:  10\n",
        "(u'grateful', u'anyone')"
       ]
      },
      {
       "output_type": "stream",
       "stream": "stdout",
       "text": [
        "  | true count:  1 | false count:  5\n",
        "(u'Thanks', u'everyone')"
       ]
      },
      {
       "output_type": "stream",
       "stream": "stdout",
       "text": [
        "  | true count:  4 | false count:  14\n",
        "(u'find', u'place')"
       ]
      },
      {
       "output_type": "stream",
       "stream": "stdout",
       "text": [
        "  | true count:  1 | false count:  4\n",
        "(u'Unfortunately', u\"I'm\")  | true count:  1 | false count:  5\n",
        "(u'I', u'three')"
       ]
      },
      {
       "output_type": "stream",
       "stream": "stdout",
       "text": [
        "  | true count:  1 | false count:  5\n",
        "(u'Just', u'got')"
       ]
      },
      {
       "output_type": "stream",
       "stream": "stdout",
       "text": [
        "  | true count:  1 | false count:  19\n",
        "(u'could', u'provide')"
       ]
      },
      {
       "output_type": "stream",
       "stream": "stdout",
       "text": [
        "  | true count:  1 | false count:  5\n",
        "(u'I', u'seriously')"
       ]
      },
      {
       "output_type": "stream",
       "stream": "stdout",
       "text": [
        "  | true count:  1 | false count:  5\n",
        "(u'much', u')')"
       ]
      },
      {
       "output_type": "stream",
       "stream": "stdout",
       "text": [
        "  | true count:  1 | false count:  4\n",
        "(u'How', u'I')"
       ]
      },
      {
       "output_type": "stream",
       "stream": "stdout",
       "text": [
        "  | true count:  1 | false count:  4\n",
        "(u'helping', u'people')"
       ]
      },
      {
       "output_type": "stream",
       "stream": "stdout",
       "text": [
        "  | true count:  4 | false count:  1\n",
        "(u'everyone', u'great')"
       ]
      },
      {
       "output_type": "stream",
       "stream": "stdout",
       "text": [
        "  | true count:  1 | false count:  4\n",
        "(u'work', u'full')"
       ]
      },
      {
       "output_type": "stream",
       "stream": "stdout",
       "text": [
        "  | true count:  1 | false count:  7\n",
        "(u'3', u'hours')  | true count:  2 | false count:  8\n",
        "(u'I', u'new')  | true count:  3 | false count:  12\n",
        "(u'eat', u'much')"
       ]
      },
      {
       "output_type": "stream",
       "stream": "stdout",
       "text": [
        "  | true count:  1 | false count:  7\n",
        "(u'money', u'spent')"
       ]
      },
      {
       "output_type": "stream",
       "stream": "stdout",
       "text": [
        "  | true count:  1 | false count:  4\n",
        "(u'help', u\"I've\")  | true count:  1 | false count:  4\n",
        "(u'like', u'pizza')"
       ]
      },
      {
       "output_type": "stream",
       "stream": "stdout",
       "text": [
        "  | true count:  13 | false count:  53\n",
        "(u'Hey', u'everybody')"
       ]
      },
      {
       "output_type": "stream",
       "stream": "stdout",
       "text": [
        "  | true count:  1 | false count:  5\n",
        "(u'time', u'reddit')"
       ]
      },
      {
       "output_type": "stream",
       "stream": "stdout",
       "text": [
        "  | true count:  1 | false count:  4\n",
        "(u'years', u'old')"
       ]
      },
      {
       "output_type": "stream",
       "stream": "stdout",
       "text": [
        "  | true count:  3 | false count:  18\n",
        "(u'Saturday', u'night')"
       ]
      },
      {
       "output_type": "stream",
       "stream": "stdout",
       "text": [
        "  | true count:  1 | false count:  7\n",
        "(u'making', u'money')  | true count:  1 | false count:  6\n",
        "(u'room', u'mate')"
       ]
      },
      {
       "output_type": "stream",
       "stream": "stdout",
       "text": [
        "  | true count:  1 | false count:  6\n",
        "(u\"I'd\", u'willing')"
       ]
      },
      {
       "output_type": "stream",
       "stream": "stdout",
       "text": [
        "  | true count:  2 | false count:  8\n",
        "(u'(', u')')"
       ]
      },
      {
       "output_type": "stream",
       "stream": "stdout",
       "text": [
        "  | true count:  2 | false count:  8\n",
        "(u'save', u'money')"
       ]
      },
      {
       "output_type": "stream",
       "stream": "stdout",
       "text": [
        "  | true count:  4 | false count:  13\n",
        "(u'So', u'yeah')  | true count:  3 | false count:  16\n",
        "(u'make', u'night')"
       ]
      },
      {
       "output_type": "stream",
       "stream": "stdout",
       "text": [
        "  | true count:  4 | false count:  13\n",
        "(u'www', u'facebook')"
       ]
      },
      {
       "output_type": "stream",
       "stream": "stdout",
       "text": [
        "  | true count:  1 | false count:  6\n",
        "(u'job', u'money')"
       ]
      },
      {
       "output_type": "stream",
       "stream": "stdout",
       "text": [
        "  | true count:  1 | false count:  5\n",
        "(u'subreddit', u'I')  | true count:  1 | false count:  11\n",
        "(u'know', u'I')"
       ]
      },
      {
       "output_type": "stream",
       "stream": "stdout",
       "text": [
        "  | true count:  17 | false count:  58\n",
        "(u'anything', u'else')"
       ]
      },
      {
       "output_type": "stream",
       "stream": "stdout",
       "text": [
        "  | true count:  4 | false count:  17\n",
        "(u'EDIT', u'Thank')"
       ]
      },
      {
       "output_type": "stream",
       "stream": "stdout",
       "text": [
        "  | true count:  7 | false count:  2\n",
        "(u'Just', u'moved')"
       ]
      },
      {
       "output_type": "stream",
       "stream": "stdout",
       "text": [
        "  | true count:  1 | false count:  11\n",
        "(u'yet', u'I')"
       ]
      },
      {
       "output_type": "stream",
       "stream": "stdout",
       "text": [
        "  | true count:  1 | false count:  5\n",
        "(u'pretty', u'good')"
       ]
      },
      {
       "output_type": "stream",
       "stream": "stdout",
       "text": [
        "  | true count:  2 | false count:  9\n",
        "(u'nothing', u'left')"
       ]
      },
      {
       "output_type": "stream",
       "stream": "stdout",
       "text": [
        "  | true count:  3 | false count:  10\n",
        "(u'never', u'ask')"
       ]
      },
      {
       "output_type": "stream",
       "stream": "stdout",
       "text": [
        "  | true count:  1 | false count:  4\n",
        "(u'Edit', u'Thanks')"
       ]
      },
      {
       "output_type": "stream",
       "stream": "stdout",
       "text": [
        "  | true count:  4 | false count:  1\n",
        "(u'bite', u'eat')"
       ]
      },
      {
       "output_type": "stream",
       "stream": "stdout",
       "text": [
        "  | true count:  1 | false count:  5\n",
        "(u'To', u'make')"
       ]
      },
      {
       "output_type": "stream",
       "stream": "stdout",
       "text": [
        "  | true count:  1 | false count:  4\n",
        "(u'none', u'us')"
       ]
      },
      {
       "output_type": "stream",
       "stream": "stdout",
       "text": [
        "  | true count:  1 | false count:  4\n",
        "(u'8', u'amp')"
       ]
      },
      {
       "output_type": "stream",
       "stream": "stdout",
       "text": [
        "  | true count:  1 | false count:  4\n",
        "(u'pizza', u'order')"
       ]
      },
      {
       "output_type": "stream",
       "stream": "stdout",
       "text": [
        "  | true count:  1 | false count:  4\n",
        "(u'still', u'trying')"
       ]
      },
      {
       "output_type": "stream",
       "stream": "stdout",
       "text": [
        "  | true count:  1 | false count:  4\n",
        "(u'starving', u'artist')"
       ]
      },
      {
       "output_type": "stream",
       "stream": "stdout",
       "text": [
        "  | true count:  1 | false count:  6\n",
        "(u'knew', u'I')"
       ]
      },
      {
       "output_type": "stream",
       "stream": "stdout",
       "text": [
        "  | true count:  1 | false count:  7\n",
        "(u'would', u'help')"
       ]
      },
      {
       "output_type": "stream",
       "stream": "stdout",
       "text": [
        "  | true count:  9 | false count:  40\n",
        "(u'wage', u'job')"
       ]
      },
      {
       "output_type": "stream",
       "stream": "stdout",
       "text": [
        "  | true count:  2 | false count:  9\n",
        "(u'still', u\"haven't\")"
       ]
      },
      {
       "output_type": "stream",
       "stream": "stdout",
       "text": [
        "  | true count:  1 | false count:  4\n",
        "(u'give', u'pizza')"
       ]
      },
      {
       "output_type": "stream",
       "stream": "stdout",
       "text": [
        "  | true count:  4 | false count:  22\n",
        "(u'would', u'give')"
       ]
      },
      {
       "output_type": "stream",
       "stream": "stdout",
       "text": [
        "  | true count:  2 | false count:  24\n",
        "(u'I', u'sick')  | true count:  1 | false count:  9\n",
        "(u'forward', u'later')"
       ]
      },
      {
       "output_type": "stream",
       "stream": "stdout",
       "text": [
        "  | true count:  1 | false count:  5\n",
        "(u'proof', u'needed')"
       ]
      },
      {
       "output_type": "stream",
       "stream": "stdout",
       "text": [
        "  | true count:  1 | false count:  4\n",
        "(u'PS', u'I')  | true count:  1 | false count:  5\n",
        "(u'We', u'would')"
       ]
      },
      {
       "output_type": "stream",
       "stream": "stdout",
       "text": [
        "  | true count:  7 | false count:  33\n",
        "(u'get', u'something')"
       ]
      },
      {
       "output_type": "stream",
       "stream": "stdout",
       "text": [
        "  | true count:  4 | false count:  15\n",
        "(u'time', u'life')"
       ]
      },
      {
       "output_type": "stream",
       "stream": "stdout",
       "text": [
        "  | true count:  1 | false count:  4\n",
        "(u'My', u'family')"
       ]
      },
      {
       "output_type": "stream",
       "stream": "stdout",
       "text": [
        "  | true count:  7 | false count:  22\n",
        "(u'nice', u'change')"
       ]
      },
      {
       "output_type": "stream",
       "stream": "stdout",
       "text": [
        "  | true count:  1 | false count:  4\n",
        "(u'Hey', u\"I'm\")"
       ]
      },
      {
       "output_type": "stream",
       "stream": "stdout",
       "text": [
        "  | true count:  2 | false count:  7\n",
        "(u'let', u'alone')"
       ]
      },
      {
       "output_type": "stream",
       "stream": "stdout",
       "text": [
        "  | true count:  2 | false count:  12\n",
        "(u'past', u'2')"
       ]
      },
      {
       "output_type": "stream",
       "stream": "stdout",
       "text": [
        "  | true count:  2 | false count:  15\n",
        "(u'couple', u'years')"
       ]
      },
      {
       "output_type": "stream",
       "stream": "stdout",
       "text": [
        "  | true count:  1 | false count:  4\n",
        "(u'really', u'use')"
       ]
      },
      {
       "output_type": "stream",
       "stream": "stdout",
       "text": [
        "  | true count:  22 | false count:  67\n",
        "(u'cash', u'I')"
       ]
      },
      {
       "output_type": "stream",
       "stream": "stdout",
       "text": [
        "  | true count:  2 | false count:  9\n",
        "(u\"we're\", u'going')  | true count:  2 | false count:  10\n",
        "(u'I', u'brought')"
       ]
      },
      {
       "output_type": "stream",
       "stream": "stdout",
       "text": [
        "  | true count:  1 | false count:  7\n",
        "(u'main', u'account')"
       ]
      },
      {
       "output_type": "stream",
       "stream": "stdout",
       "text": [
        "  | true count:  2 | false count:  8\n",
        "(u'generous', u'enough')"
       ]
      },
      {
       "output_type": "stream",
       "stream": "stdout",
       "text": [
        "  | true count:  1 | false count:  8\n",
        "(u'So', u\"I'd\")  | true count:  1 | false count:  4\n",
        "(u'yet', u'another')"
       ]
      },
      {
       "output_type": "stream",
       "stream": "stdout",
       "text": [
        "  | true count:  1 | false count:  5\n",
        "(u'I', u'usually')"
       ]
      },
      {
       "output_type": "stream",
       "stream": "stdout",
       "text": [
        "  | true count:  5 | false count:  19\n",
        "(u'pizza', u'someone')"
       ]
      },
      {
       "output_type": "stream",
       "stream": "stdout",
       "text": [
        "  | true count:  6 | false count:  23\n",
        "(u'Could', u'really')"
       ]
      },
      {
       "output_type": "stream",
       "stream": "stdout",
       "text": [
        "  | true count:  1 | false count:  12\n",
        "(u\"I'm\", u'living')  | true count:  1 | false count:  10\n",
        "(u'like', u'3')"
       ]
      },
      {
       "output_type": "stream",
       "stream": "stdout",
       "text": [
        "  | true count:  1 | false count:  5\n",
        "(u'food', u\"I'm\")"
       ]
      },
      {
       "output_type": "stream",
       "stream": "stdout",
       "text": [
        "  | true count:  3 | false count:  10\n",
        "(u'Pizza', u'I')"
       ]
      },
      {
       "output_type": "stream",
       "stream": "stdout",
       "text": [
        "  | true count:  1 | false count:  4\n",
        "(u'family', u'5')"
       ]
      },
      {
       "output_type": "stream",
       "stream": "stdout",
       "text": [
        "  | true count:  1 | false count:  5\n",
        "(u'redditor', u'could')"
       ]
      },
      {
       "output_type": "stream",
       "stream": "stdout",
       "text": [
        "  | true count:  1 | false count:  4\n",
        "(u'My', u'girlfriend')"
       ]
      },
      {
       "output_type": "stream",
       "stream": "stdout",
       "text": [
        "  | true count:  10 | false count:  33\n",
        "(u\"I'll\", u'gladly')"
       ]
      },
      {
       "output_type": "stream",
       "stream": "stdout",
       "text": [
        "  | true count:  2 | false count:  8\n",
        "(u\"I'm\", u'lucky')"
       ]
      },
      {
       "output_type": "stream",
       "stream": "stdout",
       "text": [
        "  | true count:  1 | false count:  5\n",
        "(u'time', u'soon')  | true count:  1 | false count:  4\n",
        "(u'tomorrow', u'evening')"
       ]
      },
      {
       "output_type": "stream",
       "stream": "stdout",
       "text": [
        "  | true count:  1 | false count:  4\n",
        "(u'Hi', u'everyone')"
       ]
      },
      {
       "output_type": "stream",
       "stream": "stdout",
       "text": [
        "  | true count:  2 | false count:  11\n",
        "(u'god', u'bless')"
       ]
      },
      {
       "output_type": "stream",
       "stream": "stdout",
       "text": [
        "  | true count:  3 | false count:  11\n",
        "(u'started', u'new')"
       ]
      },
      {
       "output_type": "stream",
       "stream": "stdout",
       "text": [
        "  | true count:  2 | false count:  23\n",
        "(u'No', u'real')"
       ]
      },
      {
       "output_type": "stream",
       "stream": "stdout",
       "text": [
        "  | true count:  1 | false count:  5\n",
        "(u'week', u'I')"
       ]
      },
      {
       "output_type": "stream",
       "stream": "stdout",
       "text": [
        "  | true count:  18 | false count:  55\n",
        "(u'two', u'boys')"
       ]
      },
      {
       "output_type": "stream",
       "stream": "stdout",
       "text": [
        "  | true count:  1 | false count:  6\n",
        "(u\"couldn't\", u'go')"
       ]
      },
      {
       "output_type": "stream",
       "stream": "stdout",
       "text": [
        "  | true count:  1 | false count:  4\n",
        "(u'know', u'people')"
       ]
      },
      {
       "output_type": "stream",
       "stream": "stdout",
       "text": [
        "  | true count:  3 | false count:  10\n",
        "(u'could', u'use')"
       ]
      },
      {
       "output_type": "stream",
       "stream": "stdout",
       "text": [
        "  | true count:  17 | false count:  54\n",
        "(u'work', u'right')"
       ]
      },
      {
       "output_type": "stream",
       "stream": "stdout",
       "text": [
        "  | true count:  1 | false count:  6\n",
        "(u'nice', u'person')"
       ]
      },
      {
       "output_type": "stream",
       "stream": "stdout",
       "text": [
        "  | true count:  1 | false count:  4\n",
        "(u'feel', u'little')"
       ]
      },
      {
       "output_type": "stream",
       "stream": "stdout",
       "text": [
        "  | true count:  1 | false count:  6\n",
        "(u'In', u'fact')"
       ]
      },
      {
       "output_type": "stream",
       "stream": "stdout",
       "text": [
        "  | true count:  1 | false count:  5\n",
        "(u'probably', u'need')"
       ]
      },
      {
       "output_type": "stream",
       "stream": "stdout",
       "text": [
        "  | true count:  1 | false count:  4\n",
        "(u'lunch', u'today')"
       ]
      },
      {
       "output_type": "stream",
       "stream": "stdout",
       "text": [
        "  | true count:  1 | false count:  4\n",
        "(u'could', u'sure')"
       ]
      },
      {
       "output_type": "stream",
       "stream": "stdout",
       "text": [
        "  | true count:  1 | false count:  4\n",
        "(u\"I'm\", u'actually')  | true count:  1 | false count:  4\n",
        "(u'anyone', u'kind')"
       ]
      },
      {
       "output_type": "stream",
       "stream": "stdout",
       "text": [
        "  | true count:  3 | false count:  14\n",
        "(u'I', u'cannot')  | true count:  5 | false count:  18\n",
        "(u'hungry', u'college')"
       ]
      },
      {
       "output_type": "stream",
       "stream": "stdout",
       "text": [
        "  | true count:  1 | false count:  8\n",
        "(u'money', u'back')"
       ]
      },
      {
       "output_type": "stream",
       "stream": "stdout",
       "text": [
        "  | true count:  1 | false count:  4\n",
        "(u'give', u'money')"
       ]
      },
      {
       "output_type": "stream",
       "stream": "stdout",
       "text": [
        "  | true count:  1 | false count:  4\n",
        "(u'days', u'ago')"
       ]
      },
      {
       "output_type": "stream",
       "stream": "stdout",
       "text": [
        "  | true count:  11 | false count:  35\n",
        "(u'good', u'friend')"
       ]
      },
      {
       "output_type": "stream",
       "stream": "stdout",
       "text": [
        "  | true count:  2 | false count:  7\n",
        "(u'A', u'random')  | true count:  1 | false count:  4\n",
        "(u'Thanks', u'guys')"
       ]
      },
      {
       "output_type": "stream",
       "stream": "stdout",
       "text": [
        "  | true count:  6 | false count:  27\n",
        "(u'I', u'AM')"
       ]
      },
      {
       "output_type": "stream",
       "stream": "stdout",
       "text": [
        "  | true count:  1 | false count:  4\n",
        "(u\"can't\", u'go')"
       ]
      },
      {
       "output_type": "stream",
       "stream": "stdout",
       "text": [
        "  | true count:  3 | false count:  10\n",
        "(u'lot', u'time')"
       ]
      },
      {
       "output_type": "stream",
       "stream": "stdout",
       "text": [
        "  | true count:  1 | false count:  5\n",
        "(u'advance', u'anyone')"
       ]
      },
      {
       "output_type": "stream",
       "stream": "stdout",
       "text": [
        "  | true count:  1 | false count:  13\n",
        "(u'something', u'different')  | true count:  1 | false count:  10\n",
        "(u'I', u'absolutely')"
       ]
      },
      {
       "output_type": "stream",
       "stream": "stdout",
       "text": [
        "  | true count:  3 | false count:  15\n",
        "(u'I', u'repay')"
       ]
      },
      {
       "output_type": "stream",
       "stream": "stdout",
       "text": [
        "  | true count:  1 | false count:  10\n",
        "(u'could', u'give')"
       ]
      },
      {
       "output_type": "stream",
       "stream": "stdout",
       "text": [
        "  | true count:  4 | false count:  14\n",
        "(u'something', u'pizza')"
       ]
      },
      {
       "output_type": "stream",
       "stream": "stdout",
       "text": [
        "  | true count:  1 | false count:  4\n",
        "(u'account', u\"I'm\")"
       ]
      },
      {
       "output_type": "stream",
       "stream": "stdout",
       "text": [
        "  | true count:  1 | false count:  9\n",
        "(u'thought', u'I')"
       ]
      },
      {
       "output_type": "stream",
       "stream": "stdout",
       "text": [
        "  | true count:  7 | false count:  24\n",
        "(u'since', u\"I've\")"
       ]
      },
      {
       "output_type": "stream",
       "stream": "stdout",
       "text": [
        "  | true count:  4 | false count:  17\n",
        "(u'hungry', u'people')"
       ]
      },
      {
       "output_type": "stream",
       "stream": "stdout",
       "text": [
        "  | true count:  1 | false count:  4\n",
        "(u'month', u'due')"
       ]
      },
      {
       "output_type": "stream",
       "stream": "stdout",
       "text": [
        "  | true count:  1 | false count:  4\n",
        "(u'go', u'away')"
       ]
      },
      {
       "output_type": "stream",
       "stream": "stdout",
       "text": [
        "  | true count:  1 | false count:  4\n",
        "(u'wife', u\"doesn't\")"
       ]
      },
      {
       "output_type": "stream",
       "stream": "stdout",
       "text": [
        "  | true count:  1 | false count:  4\n",
        "(u'Hey', u'Reddit')"
       ]
      },
      {
       "output_type": "stream",
       "stream": "stdout",
       "text": [
        "  | true count:  3 | false count:  10\n",
        "(u'It', u'would')"
       ]
      },
      {
       "output_type": "stream",
       "stream": "stdout",
       "text": [
        "  | true count:  21 | false count:  65\n",
        "(u'eating', u'pizza')"
       ]
      },
      {
       "output_type": "stream",
       "stream": "stdout",
       "text": [
        "  | true count:  1 | false count:  10\n",
        "(u'later', u'today')"
       ]
      },
      {
       "output_type": "stream",
       "stream": "stdout",
       "text": [
        "  | true count:  1 | false count:  4\n",
        "(u'across', u'country')  | true count:  1 | false count:  6\n",
        "(u'A', u'little')"
       ]
      },
      {
       "output_type": "stream",
       "stream": "stdout",
       "text": [
        "  | true count:  2 | false count:  10\n",
        "(u'I', u'couple')"
       ]
      },
      {
       "output_type": "stream",
       "stream": "stdout",
       "text": [
        "  | true count:  1 | false count:  4\n",
        "(u'buy', u'dinner')"
       ]
      },
      {
       "output_type": "stream",
       "stream": "stdout",
       "text": [
        "  | true count:  1 | false count:  4\n",
        "(u'I', u'realized')"
       ]
      },
      {
       "output_type": "stream",
       "stream": "stdout",
       "text": [
        "  | true count:  4 | false count:  13\n",
        "(u'feeling', u'generous')"
       ]
      },
      {
       "output_type": "stream",
       "stream": "stdout",
       "text": [
        "  | true count:  5 | false count:  21\n",
        "(u'I', u'shall')"
       ]
      },
      {
       "output_type": "stream",
       "stream": "stdout",
       "text": [
        "  | true count:  1 | false count:  7\n",
        "(u'forward', u'payday')"
       ]
      },
      {
       "output_type": "stream",
       "stream": "stdout",
       "text": [
        "  | true count:  1 | false count:  5\n",
        "(u'late', u'tonight')"
       ]
      },
      {
       "output_type": "stream",
       "stream": "stdout",
       "text": [
        "  | true count:  1 | false count:  4\n",
        "(u'I', u'exhausted')  | true count:  1 | false count:  4\n",
        "(u'us', u'tonight')"
       ]
      },
      {
       "output_type": "stream",
       "stream": "stdout",
       "text": [
        "  | true count:  1 | false count:  7\n",
        "(u'Thanks', u'time')"
       ]
      },
      {
       "output_type": "stream",
       "stream": "stdout",
       "text": [
        "  | true count:  2 | false count:  10\n",
        "(u'would', u'amazing')"
       ]
      },
      {
       "output_type": "stream",
       "stream": "stdout",
       "text": [
        "  | true count:  11 | false count:  34\n",
        "(u'grocery', u'shopping')"
       ]
      },
      {
       "output_type": "stream",
       "stream": "stdout",
       "text": [
        "  | true count:  4 | false count:  14\n",
        "(u'bag', u'rice')"
       ]
      },
      {
       "output_type": "stream",
       "stream": "stdout",
       "text": [
        "  | true count:  1 | false count:  4\n",
        "(u'able', u'make')"
       ]
      },
      {
       "output_type": "stream",
       "stream": "stdout",
       "text": [
        "  | true count:  1 | false count:  4\n",
        "(u'I', u'head')"
       ]
      },
      {
       "output_type": "stream",
       "stream": "stdout",
       "text": [
        "  | true count:  1 | false count:  5\n",
        "(u'Bank', u'America')"
       ]
      },
      {
       "output_type": "stream",
       "stream": "stdout",
       "text": [
        "  | true count:  1 | false count:  4\n",
        "(u'eating', u'nothing')"
       ]
      },
      {
       "output_type": "stream",
       "stream": "stdout",
       "text": [
        "  | true count:  1 | false count:  11\n",
        "(u'nothing', u'eat')"
       ]
      },
      {
       "output_type": "stream",
       "stream": "stdout",
       "text": [
        "  | true count:  6 | false count:  31\n",
        "(u\"I've\", u'working')"
       ]
      },
      {
       "output_type": "stream",
       "stream": "stdout",
       "text": [
        "  | true count:  3 | false count:  10\n",
        "(u'would', u'fantastic')"
       ]
      },
      {
       "output_type": "stream",
       "stream": "stdout",
       "text": [
        "  | true count:  1 | false count:  4\n",
        "(u'much', u'needed')"
       ]
      },
      {
       "output_type": "stream",
       "stream": "stdout",
       "text": [
        "  | true count:  1 | false count:  5\n",
        "(u'appreciate', u'someone')"
       ]
      },
      {
       "output_type": "stream",
       "stream": "stdout",
       "text": [
        "  | true count:  2 | false count:  10\n",
        "(u'like', u'going')"
       ]
      },
      {
       "output_type": "stream",
       "stream": "stdout",
       "text": [
        "  | true count:  1 | false count:  4\n",
        "(u'first', u'request')"
       ]
      },
      {
       "output_type": "stream",
       "stream": "stdout",
       "text": [
        "  | true count:  1 | false count:  5\n",
        "(u'But', u\"I'm\")"
       ]
      },
      {
       "output_type": "stream",
       "stream": "stdout",
       "text": [
        "  | true count:  1 | false count:  8\n",
        "(u'birthday', u'today')"
       ]
      },
      {
       "output_type": "stream",
       "stream": "stdout",
       "text": [
        "  | true count:  1 | false count:  6\n",
        "(u'good', u'pizza')"
       ]
      },
      {
       "output_type": "stream",
       "stream": "stdout",
       "text": [
        "  | true count:  2 | false count:  14\n",
        "(u'would', u'much')"
       ]
      },
      {
       "output_type": "stream",
       "stream": "stdout",
       "text": [
        "  | true count:  12 | false count:  43\n",
        "(u'My', u'roommates')"
       ]
      },
      {
       "output_type": "stream",
       "stream": "stdout",
       "text": [
        "  | true count:  1 | false count:  5\n",
        "(u'hungry', u'nothing')"
       ]
      },
      {
       "output_type": "stream",
       "stream": "stdout",
       "text": [
        "  | true count:  1 | false count:  6\n",
        "(u'came', u'home')"
       ]
      },
      {
       "output_type": "stream",
       "stream": "stdout",
       "text": [
        "  | true count:  1 | false count:  9\n",
        "(u'willing', u'repay')"
       ]
      },
      {
       "output_type": "stream",
       "stream": "stdout",
       "text": [
        "  | true count:  1 | false count:  4\n",
        "(u'two', u'months')"
       ]
      },
      {
       "output_type": "stream",
       "stream": "stdout",
       "text": [
        "  | true count:  6 | false count:  20\n",
        "(u'I', u'back')"
       ]
      },
      {
       "output_type": "stream",
       "stream": "stdout",
       "text": [
        "  | true count:  2 | false count:  8\n",
        "(u'pizza', u'next')"
       ]
      },
      {
       "output_type": "stream",
       "stream": "stdout",
       "text": [
        "  | true count:  1 | false count:  5\n",
        "(u'Anyways', u\"I'm\")"
       ]
      },
      {
       "output_type": "stream",
       "stream": "stdout",
       "text": [
        "  | true count:  1 | false count:  6\n",
        "(u\"I'm\", u'poor')"
       ]
      },
      {
       "output_type": "stream",
       "stream": "stdout",
       "text": [
        "  | true count:  3 | false count:  11\n",
        "(u'sob', u'stories')  | true count:  2 | false count:  9\n",
        "(u'Long', u'time')"
       ]
      },
      {
       "output_type": "stream",
       "stream": "stdout",
       "text": [
        "  | true count:  1 | false count:  7\n",
        "(u'Also', u'I')"
       ]
      },
      {
       "output_type": "stream",
       "stream": "stdout",
       "text": [
        "  | true count:  3 | false count:  17\n",
        "(u'really', u'tight')"
       ]
      },
      {
       "output_type": "stream",
       "stream": "stdout",
       "text": [
        "  | true count:  6 | false count:  1\n",
        "(u'work', u'past')"
       ]
      },
      {
       "output_type": "stream",
       "stream": "stdout",
       "text": [
        "  | true count:  1 | false count:  4\n",
        "(u'anyone', u'even')"
       ]
      },
      {
       "output_type": "stream",
       "stream": "stdout",
       "text": [
        "  | true count:  4 | false count:  1\n",
        "(u'low', u'food')"
       ]
      },
      {
       "output_type": "stream",
       "stream": "stdout",
       "text": [
        "  | true count:  3 | false count:  10\n",
        "(u'appreciate', u'something')"
       ]
      },
      {
       "output_type": "stream",
       "stream": "stdout",
       "text": [
        "  | true count:  1 | false count:  5\n",
        "(u'sister', u'I')  | true count:  1 | false count:  8\n",
        "(u'job', u'month')"
       ]
      },
      {
       "output_type": "stream",
       "stream": "stdout",
       "text": [
        "  | true count:  1 | false count:  7\n",
        "(u'loan', u'payment')"
       ]
      },
      {
       "output_type": "stream",
       "stream": "stdout",
       "text": [
        "  | true count:  1 | false count:  4\n",
        "(u'lunch', u'I')"
       ]
      },
      {
       "output_type": "stream",
       "stream": "stdout",
       "text": [
        "  | true count:  1 | false count:  8\n",
        "(u'cents', u'bank')  | true count:  3 | false count:  10\n",
        "(u'Thank', u'time')"
       ]
      },
      {
       "output_type": "stream",
       "stream": "stdout",
       "text": [
        "  | true count:  7 | false count:  2\n",
        "(u'I', u'money')"
       ]
      },
      {
       "output_type": "stream",
       "stream": "stdout",
       "text": [
        "  | true count:  20 | false count:  63\n",
        "(u'pizza', u'two')  | true count:  4 | false count:  16\n",
        "(u'sure', u'use')"
       ]
      },
      {
       "output_type": "stream",
       "stream": "stdout",
       "text": [
        "  | true count:  1 | false count:  4\n",
        "(u'I', u'pass')"
       ]
      },
      {
       "output_type": "stream",
       "stream": "stdout",
       "text": [
        "  | true count:  1 | false count:  6\n",
        "(u'hours', u'work')"
       ]
      },
      {
       "output_type": "stream",
       "stream": "stdout",
       "text": [
        "  | true count:  1 | false count:  6\n",
        "(u'time', u'eat')"
       ]
      },
      {
       "output_type": "stream",
       "stream": "stdout",
       "text": [
        "  | true count:  1 | false count:  4\n",
        "(u'going', u'take')"
       ]
      },
      {
       "output_type": "stream",
       "stream": "stdout",
       "text": [
        "  | true count:  1 | false count:  4\n",
        "(u\"I'll\", u'give')"
       ]
      },
      {
       "output_type": "stream",
       "stream": "stdout",
       "text": [
        "  | true count:  1 | false count:  9\n",
        "(u'tomorrow', u'would')"
       ]
      },
      {
       "output_type": "stream",
       "stream": "stdout",
       "text": [
        "  | true count:  1 | false count:  5\n",
        "(u'I', u'read')"
       ]
      },
      {
       "output_type": "stream",
       "stream": "stdout",
       "text": [
        "  | true count:  1 | false count:  9\n",
        "(u'really', u'craving')"
       ]
      },
      {
       "output_type": "stream",
       "stream": "stdout",
       "text": [
        "  | true count:  3 | false count:  12\n",
        "(u'could', u'possibly')"
       ]
      },
      {
       "output_type": "stream",
       "stream": "stdout",
       "text": [
        "  | true count:  1 | false count:  6\n",
        "(u\"doesn't\", u'get')"
       ]
      },
      {
       "output_type": "stream",
       "stream": "stdout",
       "text": [
        "  | true count:  1 | false count:  9\n",
        "(u'back', u'next')"
       ]
      },
      {
       "output_type": "stream",
       "stream": "stdout",
       "text": [
        "  | true count:  1 | false count:  7\n",
        "(u'really', u'sick')  | true count:  1 | false count:  4\n",
        "(u'would', u'sure')"
       ]
      },
      {
       "output_type": "stream",
       "stream": "stdout",
       "text": [
        "  | true count:  2 | false count:  8\n",
        "(u'I', u'last')"
       ]
      },
      {
       "output_type": "stream",
       "stream": "stdout",
       "text": [
        "  | true count:  1 | false count:  5\n",
        "(u'I', u'stay')"
       ]
      },
      {
       "output_type": "stream",
       "stream": "stdout",
       "text": [
        "  | true count:  2 | false count:  11\n",
        "(u'first', u'time')"
       ]
      },
      {
       "output_type": "stream",
       "stream": "stdout",
       "text": [
        "  | true count:  22 | false count:  74\n",
        "(u'food', u'month')"
       ]
      },
      {
       "output_type": "stream",
       "stream": "stdout",
       "text": [
        "  | true count:  1 | false count:  4\n",
        "(u'get', u'dinner')"
       ]
      },
      {
       "output_type": "stream",
       "stream": "stdout",
       "text": [
        "  | true count:  1 | false count:  5\n",
        "(u'could', u'definitely')"
       ]
      },
      {
       "output_type": "stream",
       "stream": "stdout",
       "text": [
        "  | true count:  1 | false count:  4\n",
        "(u'money', u'Friday')  | true count:  1 | false count:  4\n",
        "(u'trying', u'find')  | true count:  5 | false count:  17\n",
        "(u'one', u'two')"
       ]
      },
      {
       "output_type": "stream",
       "stream": "stdout",
       "text": [
        "  | true count:  1 | false count:  4\n",
        "(u'get', u'go')  | true count:  1 | false count:  5\n",
        "(u'right', u'would')"
       ]
      },
      {
       "output_type": "stream",
       "stream": "stdout",
       "text": [
        "  | true count:  2 | false count:  10\n",
        "(u'great', u'night')"
       ]
      },
      {
       "output_type": "stream",
       "stream": "stdout",
       "text": [
        "  | true count:  1 | false count:  4\n",
        "(u\"I'm\", u'hoping')"
       ]
      },
      {
       "output_type": "stream",
       "stream": "stdout",
       "text": [
        "  | true count:  6 | false count:  24\n",
        "(u'like', u'something')"
       ]
      },
      {
       "output_type": "stream",
       "stream": "stdout",
       "text": [
        "  | true count:  3 | false count:  11\n",
        "(u'barely', u'make')"
       ]
      },
      {
       "output_type": "stream",
       "stream": "stdout",
       "text": [
        "  | true count:  1 | false count:  5\n",
        "(u'feeling', u'like')"
       ]
      },
      {
       "output_type": "stream",
       "stream": "stdout",
       "text": [
        "  | true count:  1 | false count:  4\n",
        "(u'bills', u'gas')"
       ]
      },
      {
       "output_type": "stream",
       "stream": "stdout",
       "text": [
        "  | true count:  1 | false count:  4\n",
        "(u'go', u'work')"
       ]
      },
      {
       "output_type": "stream",
       "stream": "stdout",
       "text": [
        "  | true count:  2 | false count:  10\n",
        "(u'food', u'(')"
       ]
      },
      {
       "output_type": "stream",
       "stream": "stdout",
       "text": [
        "  | true count:  1 | false count:  4\n",
        "(u'moved', u'back')  | true count:  3 | false count:  12\n",
        "(u'definitely', u'return')"
       ]
      },
      {
       "output_type": "stream",
       "stream": "stdout",
       "text": [
        "  | true count:  1 | false count:  5\n",
        "(u'If', u'would')"
       ]
      },
      {
       "output_type": "stream",
       "stream": "stdout",
       "text": [
        "  | true count:  1 | false count:  7\n",
        "(u'sent', u'pizza')"
       ]
      },
      {
       "output_type": "stream",
       "stream": "stdout",
       "text": [
        "  | true count:  1 | false count:  4\n",
        "(u'works', u'I')"
       ]
      },
      {
       "output_type": "stream",
       "stream": "stdout",
       "text": [
        "  | true count:  2 | false count:  14\n",
        "(u'stuff', u'I')"
       ]
      },
      {
       "output_type": "stream",
       "stream": "stdout",
       "text": [
        "  | true count:  2 | false count:  7\n",
        "(u'buy', u'groceries')"
       ]
      },
      {
       "output_type": "stream",
       "stream": "stdout",
       "text": [
        "  | true count:  4 | false count:  13\n",
        "(u'kind', u'enough')"
       ]
      },
      {
       "output_type": "stream",
       "stream": "stdout",
       "text": [
        "  | true count:  14 | false count:  43\n",
        "(u'throwaway', u'account')"
       ]
      },
      {
       "output_type": "stream",
       "stream": "stdout",
       "text": [
        "  | true count:  3 | false count:  12\n",
        "(u'please', u'thank')"
       ]
      },
      {
       "output_type": "stream",
       "stream": "stdout",
       "text": [
        "  | true count:  1 | false count:  5\n",
        "(u'donate', u'pizza')  | true count:  4 | false count:  13\n",
        "(u\"I'm\", u'really')"
       ]
      },
      {
       "output_type": "stream",
       "stream": "stdout",
       "text": [
        "  | true count:  13 | false count:  45\n",
        "(u'many', u'things')"
       ]
      },
      {
       "output_type": "stream",
       "stream": "stdout",
       "text": [
        "  | true count:  1 | false count:  4\n",
        "(u\"Haven't\", u'eaten')"
       ]
      },
      {
       "output_type": "stream",
       "stream": "stdout",
       "text": [
        "  | true count:  2 | false count:  7\n",
        "(u'till', u'Monday')"
       ]
      },
      {
       "output_type": "stream",
       "stream": "stdout",
       "text": [
        "  | true count:  1 | false count:  5\n",
        "(u'anything', u'would')"
       ]
      },
      {
       "output_type": "stream",
       "stream": "stdout",
       "text": [
        "  | true count:  1 | false count:  14\n",
        "(u'I', u'kicked')"
       ]
      },
      {
       "output_type": "stream",
       "stream": "stdout",
       "text": [
        "  | true count:  1 | false count:  4\n",
        "(u'ask', u'I')  | true count:  2 | false count:  7\n",
        "(u'week', u'would')"
       ]
      },
      {
       "output_type": "stream",
       "stream": "stdout",
       "text": [
        "  | true count:  2 | false count:  8\n",
        "(u'afford', u'get')"
       ]
      },
      {
       "output_type": "stream",
       "stream": "stdout",
       "text": [
        "  | true count:  1 | false count:  6\n",
        "(u'pizza', u'right')"
       ]
      },
      {
       "output_type": "stream",
       "stream": "stdout",
       "text": [
        "  | true count:  9 | false count:  34\n",
        "(u'still', u'think')"
       ]
      },
      {
       "output_type": "stream",
       "stream": "stdout",
       "text": [
        "  | true count:  1 | false count:  4\n",
        "(u'pizza', u'enjoy')"
       ]
      },
      {
       "output_type": "stream",
       "stream": "stdout",
       "text": [
        "  | true count:  1 | false count:  5\n",
        "(u'moved', u'apartment')"
       ]
      },
      {
       "output_type": "stream",
       "stream": "stdout",
       "text": [
        "  | true count:  2 | false count:  7\n",
        "(u'buddy', u'I')"
       ]
      },
      {
       "output_type": "stream",
       "stream": "stdout",
       "text": [
        "  | true count:  1 | false count:  4\n",
        "(u'2', u'1')"
       ]
      },
      {
       "output_type": "stream",
       "stream": "stdout",
       "text": [
        "  | true count:  1 | false count:  8\n",
        "(u'take', u'picture')"
       ]
      },
      {
       "output_type": "stream",
       "stream": "stdout",
       "text": [
        "  | true count:  2 | false count:  8\n",
        "(u'paid', u'til')"
       ]
      },
      {
       "output_type": "stream",
       "stream": "stdout",
       "text": [
        "  | true count:  1 | false count:  4\n",
        "(u'would', u'try')"
       ]
      },
      {
       "output_type": "stream",
       "stream": "stdout",
       "text": [
        "  | true count:  1 | false count:  6\n",
        "(u'willing', u'send')"
       ]
      },
      {
       "output_type": "stream",
       "stream": "stdout",
       "text": [
        "  | true count:  1 | false count:  14\n",
        "(u'eat', u'dinner')"
       ]
      },
      {
       "output_type": "stream",
       "stream": "stdout",
       "text": [
        "  | true count:  1 | false count:  7\n",
        "(u\"I'm\", u'back')"
       ]
      },
      {
       "output_type": "stream",
       "stream": "stdout",
       "text": [
        "  | true count:  2 | false count:  7\n",
        "(u'small', u'amount')"
       ]
      },
      {
       "output_type": "stream",
       "stream": "stdout",
       "text": [
        "  | true count:  1 | false count:  4\n",
        "(u'started', u'working')"
       ]
      },
      {
       "output_type": "stream",
       "stream": "stdout",
       "text": [
        "  | true count:  1 | false count:  5\n",
        "(u'I', u'figured')"
       ]
      },
      {
       "output_type": "stream",
       "stream": "stdout",
       "text": [
        "  | true count:  11 | false count:  35\n",
        "(u\"there's\", u'way')"
       ]
      },
      {
       "output_type": "stream",
       "stream": "stdout",
       "text": [
        "  | true count:  4 | false count:  1\n",
        "(u'help', u'hungry')"
       ]
      },
      {
       "output_type": "stream",
       "stream": "stdout",
       "text": [
        "  | true count:  1 | false count:  4\n",
        "(u'Request', u'fulfilled')"
       ]
      },
      {
       "output_type": "stream",
       "stream": "stdout",
       "text": [
        "  | true count:  4 | false count:  1\n",
        "(u'little', u'pizza')"
       ]
      },
      {
       "output_type": "stream",
       "stream": "stdout",
       "text": [
        "  | true count:  2 | false count:  10\n",
        "(u\"I'll\", u'take')"
       ]
      },
      {
       "output_type": "stream",
       "stream": "stdout",
       "text": [
        "  | true count:  1 | false count:  9\n",
        "(u'low', u'cash')"
       ]
      },
      {
       "output_type": "stream",
       "stream": "stdout",
       "text": [
        "  | true count:  2 | false count:  15\n",
        "(u'4', u'hours')"
       ]
      },
      {
       "output_type": "stream",
       "stream": "stdout",
       "text": [
        "  | true count:  2 | false count:  10\n",
        "(u'quite', u'hungry')"
       ]
      },
      {
       "output_type": "stream",
       "stream": "stdout",
       "text": [
        "  | true count:  1 | false count:  6\n",
        "(u'I', u'know')"
       ]
      },
      {
       "output_type": "stream",
       "stream": "stdout",
       "text": [
        "  | true count:  43 | false count:  169\n",
        "(u'I', u'missed')"
       ]
      },
      {
       "output_type": "stream",
       "stream": "stdout",
       "text": [
        "  | true count:  1 | false count:  10\n",
        "(u'town', u'I')"
       ]
      },
      {
       "output_type": "stream",
       "stream": "stdout",
       "text": [
        "  | true count:  1 | false count:  4\n",
        "(u'cash', u'hand')"
       ]
      },
      {
       "output_type": "stream",
       "stream": "stdout",
       "text": [
        "  | true count:  1 | false count:  4\n",
        "(u\"haven't\", u'even')"
       ]
      },
      {
       "output_type": "stream",
       "stream": "stdout",
       "text": [
        "  | true count:  1 | false count:  4\n",
        "(u'I', u'buy')"
       ]
      },
      {
       "output_type": "stream",
       "stream": "stdout",
       "text": [
        "  | true count:  4 | false count:  22\n",
        "(u'like', u'treat')"
       ]
      },
      {
       "output_type": "stream",
       "stream": "stdout",
       "text": [
        "  | true count:  1 | false count:  4\n",
        "(u'Been', u'eating')"
       ]
      },
      {
       "output_type": "stream",
       "stream": "stdout",
       "text": [
        "  | true count:  1 | false count:  5\n",
        "(u'work', u'got')"
       ]
      },
      {
       "output_type": "stream",
       "stream": "stdout",
       "text": [
        "  | true count:  1 | false count:  4\n",
        "(u'anyone', u'feeling')"
       ]
      },
      {
       "output_type": "stream",
       "stream": "stdout",
       "text": [
        "  | true count:  2 | false count:  9\n",
        "(u'much', u'food')"
       ]
      },
      {
       "output_type": "stream",
       "stream": "stdout",
       "text": [
        "  | true count:  4 | false count:  13\n",
        "(u'made', u'throwaway')"
       ]
      },
      {
       "output_type": "stream",
       "stream": "stdout",
       "text": [
        "  | true count:  4 | false count:  1\n",
        "(u'My', u'two')"
       ]
      },
      {
       "output_type": "stream",
       "stream": "stdout",
       "text": [
        "  | true count:  1 | false count:  5\n",
        "(u'favor', u'I')"
       ]
      },
      {
       "output_type": "stream",
       "stream": "stdout",
       "text": [
        "  | true count:  2 | false count:  16\n",
        "(u'little', u'less')"
       ]
      },
      {
       "output_type": "stream",
       "stream": "stdout",
       "text": [
        "  | true count:  1 | false count:  4\n",
        "(u'I', u'worked')"
       ]
      },
      {
       "output_type": "stream",
       "stream": "stdout",
       "text": [
        "  | true count:  6 | false count:  20\n",
        "(u'favor', u'next')  | true count:  1 | false count:  6\n",
        "(u'would', u'good')"
       ]
      },
      {
       "output_type": "stream",
       "stream": "stdout",
       "text": [
        "  | true count:  1 | false count:  8\n",
        "(u'job', u\"it's\")"
       ]
      },
      {
       "output_type": "stream",
       "stream": "stdout",
       "text": [
        "  | true count:  1 | false count:  5\n",
        "(u'bit', u'money')"
       ]
      },
      {
       "output_type": "stream",
       "stream": "stdout",
       "text": [
        "  | true count:  3 | false count:  10\n",
        "(u'spare', u'pizza')"
       ]
      },
      {
       "output_type": "stream",
       "stream": "stdout",
       "text": [
        "  | true count:  2 | false count:  7\n",
        "(u'favorite', u'pizza')"
       ]
      },
      {
       "output_type": "stream",
       "stream": "stdout",
       "text": [
        "  | true count:  4 | false count:  1\n",
        "(u\"aren't\", u'picky')"
       ]
      },
      {
       "output_type": "stream",
       "stream": "stdout",
       "text": [
        "  | true count:  1 | false count:  4\n",
        "(u\"I'm\", u'UK')"
       ]
      },
      {
       "output_type": "stream",
       "stream": "stdout",
       "text": [
        "  | true count:  1 | false count:  4\n",
        "(u'maybe', u'someone')"
       ]
      },
      {
       "output_type": "stream",
       "stream": "stdout",
       "text": [
        "  | true count:  1 | false count:  8\n",
        "(u'take', u'pictures')"
       ]
      },
      {
       "output_type": "stream",
       "stream": "stdout",
       "text": [
        "  | true count:  1 | false count:  5\n",
        "(u'makes', u'feel')"
       ]
      },
      {
       "output_type": "stream",
       "stream": "stdout",
       "text": [
        "  | true count:  1 | false count:  7\n",
        "(u'really', u'love')"
       ]
      },
      {
       "output_type": "stream",
       "stream": "stdout",
       "text": [
        "  | true count:  6 | false count:  39\n",
        "(u'willing', u'donate')"
       ]
      },
      {
       "output_type": "stream",
       "stream": "stdout",
       "text": [
        "  | true count:  2 | false count:  7\n",
        "(u'one', u'ask')"
       ]
      },
      {
       "output_type": "stream",
       "stream": "stdout",
       "text": [
        "  | true count:  6 | false count:  1\n",
        "(u'real', u'food')"
       ]
      },
      {
       "output_type": "stream",
       "stream": "stdout",
       "text": [
        "  | true count:  2 | false count:  8\n",
        "(u\"I'm\", u'luck')"
       ]
      },
      {
       "output_type": "stream",
       "stream": "stdout",
       "text": [
        "  | true count:  1 | false count:  4\n",
        "(u'Can', u'help')"
       ]
      },
      {
       "output_type": "stream",
       "stream": "stdout",
       "text": [
        "  | true count:  1 | false count:  6\n",
        "(u'things', u'like')"
       ]
      },
      {
       "output_type": "stream",
       "stream": "stdout",
       "text": [
        "  | true count:  1 | false count:  7\n",
        "(u'dollars', u'name')"
       ]
      },
      {
       "output_type": "stream",
       "stream": "stdout",
       "text": [
        "  | true count:  1 | false count:  5\n",
        "(u\"I've\", u'hit')"
       ]
      },
      {
       "output_type": "stream",
       "stream": "stdout",
       "text": [
        "  | true count:  1 | false count:  4\n",
        "(u'buy', u'food')"
       ]
      },
      {
       "output_type": "stream",
       "stream": "stdout",
       "text": [
        "  | true count:  7 | false count:  33\n",
        "(u'RAOP', u\"I'm\")"
       ]
      },
      {
       "output_type": "stream",
       "stream": "stdout",
       "text": [
        "  | true count:  1 | false count:  5\n",
        "(u'one', u'help')"
       ]
      },
      {
       "output_type": "stream",
       "stream": "stdout",
       "text": [
        "  | true count:  1 | false count:  6\n",
        "(u'take', u'care')"
       ]
      },
      {
       "output_type": "stream",
       "stream": "stdout",
       "text": [
        "  | true count:  6 | false count:  19\n",
        "(u'living', u'Ramen')  | true count:  1 | false count:  4\n",
        "(u'would', u'pretty')  | true count:  1 | false count:  7\n",
        "(u'hope', u'I')"
       ]
      },
      {
       "output_type": "stream",
       "stream": "stdout",
       "text": [
        "  | true count:  2 | false count:  15\n",
        "(u'anything', u'pizza')"
       ]
      },
      {
       "output_type": "stream",
       "stream": "stdout",
       "text": [
        "  | true count:  1 | false count:  5\n",
        "(u'could', u'pay')"
       ]
      },
      {
       "output_type": "stream",
       "stream": "stdout",
       "text": [
        "  | true count:  1 | false count:  6\n",
        "(u'anyone', u'else')"
       ]
      },
      {
       "output_type": "stream",
       "stream": "stdout",
       "text": [
        "  | true count:  1 | false count:  5\n",
        "(u'pizza', u\"that's\")"
       ]
      },
      {
       "output_type": "stream",
       "stream": "stdout",
       "text": [
        "  | true count:  1 | false count:  4\n",
        "(u'sure', u'return')"
       ]
      },
      {
       "output_type": "stream",
       "stream": "stdout",
       "text": [
        "  | true count:  1 | false count:  8\n",
        "(u'nice', u'hot')"
       ]
      },
      {
       "output_type": "stream",
       "stream": "stdout",
       "text": [
        "  | true count:  1 | false count:  12\n",
        "(u'Hi', u\"I'm\")  | true count:  2 | false count:  7\n",
        "(u'til', u'friday')"
       ]
      },
      {
       "output_type": "stream",
       "stream": "stdout",
       "text": [
        "  | true count:  1 | false count:  4\n",
        "(u'brighten', u'day')"
       ]
      },
      {
       "output_type": "stream",
       "stream": "stdout",
       "text": [
        "  | true count:  3 | false count:  14\n",
        "(u'help', u'please')"
       ]
      },
      {
       "output_type": "stream",
       "stream": "stdout",
       "text": [
        "  | true count:  3 | false count:  12\n",
        "(u'money', u'really')"
       ]
      },
      {
       "output_type": "stream",
       "stream": "stdout",
       "text": [
        "  | true count:  1 | false count:  5\n",
        "(u\"don't\", u'mind')"
       ]
      },
      {
       "output_type": "stream",
       "stream": "stdout",
       "text": [
        "  | true count:  1 | false count:  6\n",
        "(u'pizza', u'celebrate')"
       ]
      },
      {
       "output_type": "stream",
       "stream": "stdout",
       "text": [
        "  | true count:  1 | false count:  4\n",
        "(u'pass', u'pizza')"
       ]
      },
      {
       "output_type": "stream",
       "stream": "stdout",
       "text": [
        "  | true count:  1 | false count:  4\n",
        "(u'would', u'probably')"
       ]
      },
      {
       "output_type": "stream",
       "stream": "stdout",
       "text": [
        "  | true count:  1 | false count:  9\n",
        "(u'really', u'awesome')"
       ]
      },
      {
       "output_type": "stream",
       "stream": "stdout",
       "text": [
        "  | true count:  3 | false count:  12\n",
        "(u'eat', u'pizza')"
       ]
      },
      {
       "output_type": "stream",
       "stream": "stdout",
       "text": [
        "  | true count:  6 | false count:  22\n",
        "(u'Friday', u'would')"
       ]
      },
      {
       "output_type": "stream",
       "stream": "stdout",
       "text": [
        "  | true count:  1 | false count:  5\n",
        "(u'pizza', u'come')"
       ]
      },
      {
       "output_type": "stream",
       "stream": "stdout",
       "text": [
        "  | true count:  1 | false count:  4\n",
        "(u'going', u'school')"
       ]
      },
      {
       "output_type": "stream",
       "stream": "stdout",
       "text": [
        "  | true count:  1 | false count:  7\n",
        "(u'Unfortunately', u'I')"
       ]
      },
      {
       "output_type": "stream",
       "stream": "stdout",
       "text": [
        "  | true count:  3 | false count:  14\n",
        "(u'able', u'surprise')"
       ]
      },
      {
       "output_type": "stream",
       "stream": "stdout",
       "text": [
        "  | true count:  1 | false count:  6\n",
        "(u'www', u'youtube')"
       ]
      },
      {
       "output_type": "stream",
       "stream": "stdout",
       "text": [
        "  | true count:  3 | false count:  12\n",
        "(u'last', u'weekend')"
       ]
      },
      {
       "output_type": "stream",
       "stream": "stdout",
       "text": [
        "  | true count:  4 | false count:  1\n",
        "(u'I', u'please')"
       ]
      },
      {
       "output_type": "stream",
       "stream": "stdout",
       "text": [
        "  | true count:  2 | false count:  7\n",
        "(u'last', u'months')"
       ]
      },
      {
       "output_type": "stream",
       "stream": "stdout",
       "text": [
        "  | true count:  3 | false count:  11\n",
        "(u\"isn't\", u'sob')"
       ]
      },
      {
       "output_type": "stream",
       "stream": "stdout",
       "text": [
        "  | true count:  1 | false count:  4\n",
        "(u'friends', u'family')"
       ]
      },
      {
       "output_type": "stream",
       "stream": "stdout",
       "text": [
        "  | true count:  3 | false count:  12\n",
        "(u'worth', u'food')  | true count:  1 | false count:  5\n",
        "(u\"I'm\", u'completely')"
       ]
      },
      {
       "output_type": "stream",
       "stream": "stdout",
       "text": [
        "  | true count:  1 | false count:  9\n",
        "(u'little', u'short')"
       ]
      },
      {
       "output_type": "stream",
       "stream": "stdout",
       "text": [
        "  | true count:  1 | false count:  4\n",
        "(u'days', u\"I'm\")"
       ]
      },
      {
       "output_type": "stream",
       "stream": "stdout",
       "text": [
        "  | true count:  1 | false count:  5\n",
        "(u'I', u'long')"
       ]
      },
      {
       "output_type": "stream",
       "stream": "stdout",
       "text": [
        "  | true count:  1 | false count:  7\n",
        "(u\"can't\", u'eat')"
       ]
      },
      {
       "output_type": "stream",
       "stream": "stdout",
       "text": [
        "  | true count:  1 | false count:  5\n",
        "(u'I', u'college')"
       ]
      },
      {
       "output_type": "stream",
       "stream": "stdout",
       "text": [
        "  | true count:  2 | false count:  14\n",
        "(u'getting', u'hungry')"
       ]
      },
      {
       "output_type": "stream",
       "stream": "stdout",
       "text": [
        "  | true count:  1 | false count:  4\n",
        "(u'get', u'one')"
       ]
      },
      {
       "output_type": "stream",
       "stream": "stdout",
       "text": [
        "  | true count:  1 | false count:  19\n",
        "(u'stuff', u'like')"
       ]
      },
      {
       "output_type": "stream",
       "stream": "stdout",
       "text": [
        "  | true count:  1 | false count:  8\n",
        "(u'next', u'Monday')"
       ]
      },
      {
       "output_type": "stream",
       "stream": "stdout",
       "text": [
        "  | true count:  1 | false count:  6\n",
        "(u'decided', u'take')"
       ]
      },
      {
       "output_type": "stream",
       "stream": "stdout",
       "text": [
        "  | true count:  1 | false count:  5\n",
        "(u'repay', u'favor')"
       ]
      },
      {
       "output_type": "stream",
       "stream": "stdout",
       "text": [
        "  | true count:  4 | false count:  18\n",
        "(u'medium', u'pizza')"
       ]
      },
      {
       "output_type": "stream",
       "stream": "stdout",
       "text": [
        "  | true count:  1 | false count:  6\n",
        "(u'Me', u'daughter')"
       ]
      },
      {
       "output_type": "stream",
       "stream": "stdout",
       "text": [
        "  | true count:  1 | false count:  4\n",
        "(u'sure', u'would')"
       ]
      },
      {
       "output_type": "stream",
       "stream": "stdout",
       "text": [
        "  | true count:  1 | false count:  12\n",
        "(u'every', u'day')"
       ]
      },
      {
       "output_type": "stream",
       "stream": "stdout",
       "text": [
        "  | true count:  5 | false count:  16\n",
        "(u'tried', u'make')"
       ]
      },
      {
       "output_type": "stream",
       "stream": "stdout",
       "text": [
        "  | true count:  1 | false count:  4\n",
        "(u'stay', u'home')"
       ]
      },
      {
       "output_type": "stream",
       "stream": "stdout",
       "text": [
        "  | true count:  2 | false count:  10\n",
        "(u\"I'm\", u'big')"
       ]
      },
      {
       "output_type": "stream",
       "stream": "stdout",
       "text": [
        "  | true count:  1 | false count:  4\n",
        "(u'would', u'glad')"
       ]
      },
      {
       "output_type": "stream",
       "stream": "stdout",
       "text": [
        "  | true count:  1 | false count:  4\n",
        "(u'right', u'I')  | true count:  11 | false count:  34\n",
        "(u'want', u'pizza')  | true count:  7 | false count:  36\n",
        "(u'hungry', u'pizza')"
       ]
      },
      {
       "output_type": "stream",
       "stream": "stdout",
       "text": [
        "  | true count:  3 | false count:  13\n",
        "(u'barely', u'afford')"
       ]
      },
      {
       "output_type": "stream",
       "stream": "stdout",
       "text": [
        "  | true count:  1 | false count:  4\n",
        "(u'move', u'new')"
       ]
      },
      {
       "output_type": "stream",
       "stream": "stdout",
       "text": [
        "  | true count:  1 | false count:  5\n",
        "(u\"isn't\", u'bad')"
       ]
      },
      {
       "output_type": "stream",
       "stream": "stdout",
       "text": [
        "  | true count:  4 | false count:  1\n",
        "(u'may', u'I')"
       ]
      },
      {
       "output_type": "stream",
       "stream": "stdout",
       "text": [
        "  | true count:  1 | false count:  6\n",
        "(u'looking', u'jobs')"
       ]
      },
      {
       "output_type": "stream",
       "stream": "stdout",
       "text": [
        "  | true count:  1 | false count:  6\n",
        "(u'(I', u'work')"
       ]
      },
      {
       "output_type": "stream",
       "stream": "stdout",
       "text": [
        "  | true count:  1 | false count:  4\n",
        "(u'hour', u'I')"
       ]
      },
      {
       "output_type": "stream",
       "stream": "stdout",
       "text": [
        "  | true count:  1 | false count:  4\n",
        "(u'like', u\"it's\")  | true count:  1 | false count:  7\n",
        "(u'word', u'I')"
       ]
      },
      {
       "output_type": "stream",
       "stream": "stdout",
       "text": [
        "  | true count:  1 | false count:  4\n",
        "(u'rent', u'I')"
       ]
      },
      {
       "output_type": "stream",
       "stream": "stdout",
       "text": [
        "  | true count:  1 | false count:  14\n",
        "(u'working', u'day')"
       ]
      },
      {
       "output_type": "stream",
       "stream": "stdout",
       "text": [
        "  | true count:  1 | false count:  5\n",
        "(u'I', u'came')"
       ]
      },
      {
       "output_type": "stream",
       "stream": "stdout",
       "text": [
        "  | true count:  4 | false count:  20\n",
        "(u'pizza', u'need')"
       ]
      },
      {
       "output_type": "stream",
       "stream": "stdout",
       "text": [
        "  | true count:  1 | false count:  5\n",
        "(u'also', u'I')"
       ]
      },
      {
       "output_type": "stream",
       "stream": "stdout",
       "text": [
        "  | true count:  1 | false count:  5\n",
        "(u'even', u'take')"
       ]
      },
      {
       "output_type": "stream",
       "stream": "stdout",
       "text": [
        "  | true count:  1 | false count:  4\n",
        "(u'We', u'pay')"
       ]
      },
      {
       "output_type": "stream",
       "stream": "stdout",
       "text": [
        "  | true count:  1 | false count:  4\n",
        "(u'long', u'way')"
       ]
      },
      {
       "output_type": "stream",
       "stream": "stdout",
       "text": [
        "  | true count:  4 | false count:  17\n",
        "(u'LOVE', u'pizza')"
       ]
      },
      {
       "output_type": "stream",
       "stream": "stdout",
       "text": [
        "  | true count:  1 | false count:  4\n",
        "(u'says', u\"I'm\")"
       ]
      },
      {
       "output_type": "stream",
       "stream": "stdout",
       "text": [
        "  | true count:  1 | false count:  10\n",
        "(u'would', u'awesome')"
       ]
      },
      {
       "output_type": "stream",
       "stream": "stdout",
       "text": [
        "  | true count:  12 | false count:  52\n",
        "(u'pizza', u')')"
       ]
      },
      {
       "output_type": "stream",
       "stream": "stdout",
       "text": [
        "  | true count:  6 | false count:  19\n",
        "(u'If', u'want')"
       ]
      },
      {
       "output_type": "stream",
       "stream": "stdout",
       "text": [
        "  | true count:  5 | false count:  20\n",
        "(u'til', u'next')"
       ]
      },
      {
       "output_type": "stream",
       "stream": "stdout",
       "text": [
        "  | true count:  1 | false count:  6\n",
        "(u'money', u'gone')  | true count:  1 | false count:  4\n",
        "(u'couple', u'times')"
       ]
      },
      {
       "output_type": "stream",
       "stream": "stdout",
       "text": [
        "  | true count:  1 | false count:  5\n",
        "(u'girlfriend', u'2')"
       ]
      },
      {
       "output_type": "stream",
       "stream": "stdout",
       "text": [
        "  | true count:  1 | false count:  4\n",
        "(u'I', u'managed')"
       ]
      },
      {
       "output_type": "stream",
       "stream": "stdout",
       "text": [
        "  | true count:  1 | false count:  6\n",
        "(u'cell', u'phone')  | true count:  1 | false count:  10\n",
        "(u'help', u'thank')"
       ]
      },
      {
       "output_type": "stream",
       "stream": "stdout",
       "text": [
        "  | true count:  1 | false count:  7\n",
        "(u'good', u'food')"
       ]
      },
      {
       "output_type": "stream",
       "stream": "stdout",
       "text": [
        "  | true count:  2 | false count:  7\n",
        "(u'feed', u'us')"
       ]
      },
      {
       "output_type": "stream",
       "stream": "stdout",
       "text": [
        "  | true count:  2 | false count:  7\n",
        "(u'job', u'past')"
       ]
      },
      {
       "output_type": "stream",
       "stream": "stdout",
       "text": [
        "  | true count:  1 | false count:  4\n",
        "(u'My', u'roommate')"
       ]
      },
      {
       "output_type": "stream",
       "stream": "stdout",
       "text": [
        "  | true count:  6 | false count:  19\n",
        "(u'short', u'I')"
       ]
      },
      {
       "output_type": "stream",
       "stream": "stdout",
       "text": [
        "  | true count:  1 | false count:  12\n",
        "(u'happy', u'return')"
       ]
      },
      {
       "output_type": "stream",
       "stream": "stdout",
       "text": [
        "  | true count:  1 | false count:  6\n",
        "(u'going', u'towards')"
       ]
      },
      {
       "output_type": "stream",
       "stream": "stdout",
       "text": [
        "  | true count:  1 | false count:  6\n",
        "(u'decent', u'job')"
       ]
      },
      {
       "output_type": "stream",
       "stream": "stdout",
       "text": [
        "  | true count:  1 | false count:  4\n",
        "(u'finals', u'I')"
       ]
      },
      {
       "output_type": "stream",
       "stream": "stdout",
       "text": [
        "  | true count:  4 | false count:  1\n",
        "(u'would', u'need')"
       ]
      },
      {
       "output_type": "stream",
       "stream": "stdout",
       "text": [
        "  | true count:  1 | false count:  4\n",
        "(u'phone', u'bill')"
       ]
      },
      {
       "output_type": "stream",
       "stream": "stdout",
       "text": [
        "  | true count:  2 | false count:  7\n",
        "(u'I', u'paid')"
       ]
      },
      {
       "output_type": "stream",
       "stream": "stdout",
       "text": [
        "  | true count:  6 | false count:  21\n",
        "(u'everyone', u'I')"
       ]
      },
      {
       "output_type": "stream",
       "stream": "stdout",
       "text": [
        "  | true count:  3 | false count:  10\n",
        "(u'im', u'broke')"
       ]
      },
      {
       "output_type": "stream",
       "stream": "stdout",
       "text": [
        "  | true count:  1 | false count:  9\n",
        "(u'My', u'email')"
       ]
      },
      {
       "output_type": "stream",
       "stream": "stdout",
       "text": [
        "  | true count:  1 | false count:  4\n",
        "(u'living', u'room')"
       ]
      },
      {
       "output_type": "stream",
       "stream": "stdout",
       "text": [
        "  | true count:  1 | false count:  9\n",
        "(u'nothing', u'house')"
       ]
      },
      {
       "output_type": "stream",
       "stream": "stdout",
       "text": [
        "  | true count:  1 | false count:  4\n",
        "(u'real', u'account')"
       ]
      },
      {
       "output_type": "stream",
       "stream": "stdout",
       "text": [
        "  | true count:  1 | false count:  10\n",
        "(u'pizza', u'place')"
       ]
      },
      {
       "output_type": "stream",
       "stream": "stdout",
       "text": [
        "  | true count:  3 | false count:  17\n",
        "(u'girlfriend', u'I')"
       ]
      },
      {
       "output_type": "stream",
       "stream": "stdout",
       "text": [
        "  | true count:  5 | false count:  20\n",
        "(u'eat', u'today')"
       ]
      },
      {
       "output_type": "stream",
       "stream": "stdout",
       "text": [
        "  | true count:  4 | false count:  18\n",
        "(u'food', u'bank')"
       ]
      },
      {
       "output_type": "stream",
       "stream": "stdout",
       "text": [
        "  | true count:  3 | false count:  12\n",
        "(u'job', u'last')"
       ]
      },
      {
       "output_type": "stream",
       "stream": "stdout",
       "text": [
        "  | true count:  1 | false count:  16\n",
        "(u'yet', u\"I'm\")  | true count:  1 | false count:  4\n",
        "(u'would', u'love')"
       ]
      },
      {
       "output_type": "stream",
       "stream": "stdout",
       "text": [
        "  | true count:  70 | false count:  232\n",
        "(u'asking', u'someone')"
       ]
      },
      {
       "output_type": "stream",
       "stream": "stdout",
       "text": [
        "  | true count:  1 | false count:  4\n",
        "(u'hoping', u'get')"
       ]
      },
      {
       "output_type": "stream",
       "stream": "stdout",
       "text": [
        "  | true count:  2 | false count:  12\n",
        "(u'com', u'watch')  | true count:  2 | false count:  12\n",
        "(u'night', u'pizza')"
       ]
      },
      {
       "output_type": "stream",
       "stream": "stdout",
       "text": [
        "  | true count:  1 | false count:  4\n",
        "(u'rough', u'month')"
       ]
      },
      {
       "output_type": "stream",
       "stream": "stdout",
       "text": [
        "  | true count:  1 | false count:  4\n",
        "(u'Ontario', u'Canada')"
       ]
      },
      {
       "output_type": "stream",
       "stream": "stdout",
       "text": [
        "  | true count:  2 | false count:  7\n",
        "(u'Have', u'great')"
       ]
      },
      {
       "output_type": "stream",
       "stream": "stdout",
       "text": [
        "  | true count:  1 | false count:  5\n",
        "(u'I', u'idea')"
       ]
      },
      {
       "output_type": "stream",
       "stream": "stdout",
       "text": [
        "  | true count:  3 | false count:  13\n",
        "(u'looking', u'forward')"
       ]
      },
      {
       "output_type": "stream",
       "stream": "stdout",
       "text": [
        "  | true count:  1 | false count:  7\n",
        "(u'someone', u'help')"
       ]
      },
      {
       "output_type": "stream",
       "stream": "stdout",
       "text": [
        "  | true count:  10 | false count:  39\n",
        "(u'student', u'studying')"
       ]
      },
      {
       "output_type": "stream",
       "stream": "stdout",
       "text": [
        "  | true count:  1 | false count:  4\n",
        "(u'Never', u'done')"
       ]
      },
      {
       "output_type": "stream",
       "stream": "stdout",
       "text": [
        "  | true count:  1 | false count:  4\n",
        "(u'old', u'daughter')"
       ]
      },
      {
       "output_type": "stream",
       "stream": "stdout",
       "text": [
        "  | true count:  4 | false count:  13\n",
        "(u'Anyways', u'I')"
       ]
      },
      {
       "output_type": "stream",
       "stream": "stdout",
       "text": [
        "  | true count:  1 | false count:  7\n",
        "(u'I', u'go')"
       ]
      },
      {
       "output_type": "stream",
       "stream": "stdout",
       "text": [
        "  | true count:  10 | false count:  37\n",
        "(u'help', u'appreciated')"
       ]
      },
      {
       "output_type": "stream",
       "stream": "stdout",
       "text": [
        "  | true count:  1 | false count:  6\n",
        "(u'money', u'get')"
       ]
      },
      {
       "output_type": "stream",
       "stream": "stdout",
       "text": [
        "  | true count:  6 | false count:  19\n",
        "(u'phone', u'number')"
       ]
      },
      {
       "output_type": "stream",
       "stream": "stdout",
       "text": [
        "  | true count:  1 | false count:  4\n",
        "(u'unemployment', u'benefits')"
       ]
      },
      {
       "output_type": "stream",
       "stream": "stdout",
       "text": [
        "  | true count:  1 | false count:  5\n",
        "(u'really', u'tough')"
       ]
      },
      {
       "output_type": "stream",
       "stream": "stdout",
       "text": [
        "  | true count:  1 | false count:  5\n",
        "(u'want', u'something')"
       ]
      },
      {
       "output_type": "stream",
       "stream": "stdout",
       "text": [
        "  | true count:  1 | false count:  13\n",
        "(u'stranger', u'internet')"
       ]
      },
      {
       "output_type": "stream",
       "stream": "stdout",
       "text": [
        "  | true count:  1 | false count:  4\n",
        "(u'love', u'treat')"
       ]
      },
      {
       "output_type": "stream",
       "stream": "stdout",
       "text": [
        "  | true count:  2 | false count:  8\n",
        "(u'going', u'get')"
       ]
      },
      {
       "output_type": "stream",
       "stream": "stdout",
       "text": [
        "  | true count:  1 | false count:  12\n",
        "(u'My', u'mom')  | true count:  4 | false count:  18\n",
        "(u'month', u'ago')"
       ]
      },
      {
       "output_type": "stream",
       "stream": "stdout",
       "text": [
        "  | true count:  4 | false count:  15\n",
        "(u'Hey', u'guys')"
       ]
      },
      {
       "output_type": "stream",
       "stream": "stdout",
       "text": [
        "  | true count:  16 | false count:  57\n",
        "(u'We', u'family')"
       ]
      },
      {
       "output_type": "stream",
       "stream": "stdout",
       "text": [
        "  | true count:  2 | false count:  7\n",
        "(u'Tuesday', u'I')"
       ]
      },
      {
       "output_type": "stream",
       "stream": "stdout",
       "text": [
        "  | true count:  1 | false count:  4\n",
        "(u'course', u'I')"
       ]
      },
      {
       "output_type": "stream",
       "stream": "stdout",
       "text": [
        "  | true count:  1 | false count:  8\n",
        "(u'really', u'anything')"
       ]
      },
      {
       "output_type": "stream",
       "stream": "stdout",
       "text": [
        "  | true count:  1 | false count:  7\n",
        "(u'love', u'celebrate')"
       ]
      },
      {
       "output_type": "stream",
       "stream": "stdout",
       "text": [
        "  | true count:  1 | false count:  6\n",
        "(u'run', u'dry')"
       ]
      },
      {
       "output_type": "stream",
       "stream": "stdout",
       "text": [
        "  | true count:  1 | false count:  4\n",
        "(u'got', u'kicked')"
       ]
      },
      {
       "output_type": "stream",
       "stream": "stdout",
       "text": [
        "  | true count:  1 | false count:  5\n",
        "(u'new', u'job')"
       ]
      },
      {
       "output_type": "stream",
       "stream": "stdout",
       "text": [
        "  | true count:  25 | false count:  79\n",
        "(u\"haven't\", u'ate')"
       ]
      },
      {
       "output_type": "stream",
       "stream": "stdout",
       "text": [
        "  | true count:  1 | false count:  5\n",
        "(u'end', u'month')"
       ]
      },
      {
       "output_type": "stream",
       "stream": "stdout",
       "text": [
        "  | true count:  4 | false count:  20\n",
        "(u\"can't\", u'work')"
       ]
      },
      {
       "output_type": "stream",
       "stream": "stdout",
       "text": [
        "  | true count:  1 | false count:  7\n",
        "(u'says', u'I')"
       ]
      },
      {
       "output_type": "stream",
       "stream": "stdout",
       "text": [
        "  | true count:  3 | false count:  10\n",
        "(u'time', u'requesting')"
       ]
      },
      {
       "output_type": "stream",
       "stream": "stdout",
       "text": [
        "  | true count:  1 | false count:  5\n",
        "(u'fired', u'job')"
       ]
      },
      {
       "output_type": "stream",
       "stream": "stdout",
       "text": [
        "  | true count:  1 | false count:  5\n",
        "(u'Some', u'pizza')"
       ]
      },
      {
       "output_type": "stream",
       "stream": "stdout",
       "text": [
        "  | true count:  2 | false count:  8\n",
        "(u'pizza', u'please')"
       ]
      },
      {
       "output_type": "stream",
       "stream": "stdout",
       "text": [
        "  | true count:  2 | false count:  12\n",
        "(u'far', u'away')"
       ]
      },
      {
       "output_type": "stream",
       "stream": "stdout",
       "text": [
        "  | true count:  1 | false count:  11\n",
        "(u'pizza', u\"I'd\")"
       ]
      },
      {
       "output_type": "stream",
       "stream": "stdout",
       "text": [
        "  | true count:  2 | false count:  10\n",
        "(u'almost', u'anything')"
       ]
      },
      {
       "output_type": "stream",
       "stream": "stdout",
       "text": [
        "  | true count:  1 | false count:  4\n",
        "(u'I', u'unable')"
       ]
      },
      {
       "output_type": "stream",
       "stream": "stdout",
       "text": [
        "  | true count:  1 | false count:  6\n",
        "(u'great', u'people')"
       ]
      },
      {
       "output_type": "stream",
       "stream": "stdout",
       "text": [
        "  | true count:  1 | false count:  4\n",
        "(u'get', u'help')"
       ]
      },
      {
       "output_type": "stream",
       "stream": "stdout",
       "text": [
        "  | true count:  2 | false count:  8\n",
        "(u'last', u'meal')"
       ]
      },
      {
       "output_type": "stream",
       "stream": "stdout",
       "text": [
        "  | true count:  1 | false count:  5\n",
        "(u'help', u'anyone')"
       ]
      },
      {
       "output_type": "stream",
       "stream": "stdout",
       "text": [
        "  | true count:  1 | false count:  4\n",
        "(u'New', u'Zealand')  | true count:  1 | false count:  4\n",
        "(u'love', u'get')"
       ]
      },
      {
       "output_type": "stream",
       "stream": "stdout",
       "text": [
        "  | true count:  3 | false count:  12\n",
        "(u'days', u\"haven't\")"
       ]
      },
      {
       "output_type": "stream",
       "stream": "stdout",
       "text": [
        "  | true count:  1 | false count:  4\n",
        "(u'And', u'I')"
       ]
      },
      {
       "output_type": "stream",
       "stream": "stdout",
       "text": [
        "  | true count:  8 | false count:  25\n",
        "(u'Last', u'night')"
       ]
      },
      {
       "output_type": "stream",
       "stream": "stdout",
       "text": [
        "  | true count:  2 | false count:  11\n",
        "(u'back', u'pizza')"
       ]
      },
      {
       "output_type": "stream",
       "stream": "stdout",
       "text": [
        "  | true count:  1 | false count:  5\n",
        "(u'Anyone', u'feeling')"
       ]
      },
      {
       "output_type": "stream",
       "stream": "stdout",
       "text": [
        "  | true count:  1 | false count:  5\n",
        "(u'help', u'brother')"
       ]
      },
      {
       "output_type": "stream",
       "stream": "stdout",
       "text": [
        "  | true count:  2 | false count:  11\n",
        "(u'5', u'99')"
       ]
      },
      {
       "output_type": "stream",
       "stream": "stdout",
       "text": [
        "  | true count:  4 | false count:  1\n",
        "(u\"haven't\", u'gotten')"
       ]
      },
      {
       "output_type": "stream",
       "stream": "stdout",
       "text": [
        "  | true count:  1 | false count:  5\n",
        "(u'pizza', u'ages')"
       ]
      },
      {
       "output_type": "stream",
       "stream": "stdout",
       "text": [
        "  | true count:  1 | false count:  4\n",
        "(u'really', u'hungry')"
       ]
      },
      {
       "output_type": "stream",
       "stream": "stdout",
       "text": [
        "  | true count:  11 | false count:  36\n",
        "(u'honestly', u'I')  | true count:  1 | false count:  4\n",
        "(u'paycheck', u'Friday')"
       ]
      },
      {
       "output_type": "stream",
       "stream": "stdout",
       "text": [
        "  | true count:  1 | false count:  4\n",
        "(u'food', u'really')"
       ]
      },
      {
       "output_type": "stream",
       "stream": "stdout",
       "text": [
        "  | true count:  1 | false count:  4\n",
        "(u'needs', u'pizza')"
       ]
      },
      {
       "output_type": "stream",
       "stream": "stdout",
       "text": [
        "  | true count:  1 | false count:  6\n",
        "(u'looking', u'pizza')"
       ]
      },
      {
       "output_type": "stream",
       "stream": "stdout",
       "text": [
        "  | true count:  3 | false count:  11\n",
        "(u'one', u'last')"
       ]
      },
      {
       "output_type": "stream",
       "stream": "stdout",
       "text": [
        "  | true count:  1 | false count:  6\n",
        "(u'got', u'hungry')"
       ]
      },
      {
       "output_type": "stream",
       "stream": "stdout",
       "text": [
        "  | true count:  1 | false count:  4\n",
        "(u'little', u'money')"
       ]
      },
      {
       "output_type": "stream",
       "stream": "stdout",
       "text": [
        "  | true count:  5 | false count:  16\n",
        "(u'dry', u'cereal')"
       ]
      },
      {
       "output_type": "stream",
       "stream": "stdout",
       "text": [
        "  | true count:  1 | false count:  4\n",
        "(u'week', u'due')"
       ]
      },
      {
       "output_type": "stream",
       "stream": "stdout",
       "text": [
        "  | true count:  1 | false count:  4\n",
        "(u'starting', u'next')"
       ]
      },
      {
       "output_type": "stream",
       "stream": "stdout",
       "text": [
        "  | true count:  1 | false count:  4\n",
        "(u'video', u'games')"
       ]
      },
      {
       "output_type": "stream",
       "stream": "stdout",
       "text": [
        "  | true count:  1 | false count:  11\n",
        "(u'house', u'sitting')"
       ]
      },
      {
       "output_type": "stream",
       "stream": "stdout",
       "text": [
        "  | true count:  1 | false count:  6\n",
        "(u'even', u'afford')"
       ]
      },
      {
       "output_type": "stream",
       "stream": "stdout",
       "text": [
        "  | true count:  1 | false count:  7\n",
        "(u'The', u'kids')"
       ]
      },
      {
       "output_type": "stream",
       "stream": "stdout",
       "text": [
        "  | true count:  1 | false count:  8\n",
        "(u'someone', u'willing')"
       ]
      },
      {
       "output_type": "stream",
       "stream": "stdout",
       "text": [
        "  | true count:  2 | false count:  8\n",
        "(u'getting', u'food')"
       ]
      },
      {
       "output_type": "stream",
       "stream": "stdout",
       "text": [
        "  | true count:  1 | false count:  4\n",
        "(u\"there's\", u'anyone')"
       ]
      },
      {
       "output_type": "stream",
       "stream": "stdout",
       "text": [
        "  | true count:  1 | false count:  5\n",
        "(u'really', u'like')"
       ]
      },
      {
       "output_type": "stream",
       "stream": "stdout",
       "text": [
        "  | true count:  10 | false count:  41\n",
        "(u'call', u'back')"
       ]
      },
      {
       "output_type": "stream",
       "stream": "stdout",
       "text": [
        "  | true count:  4 | false count:  1\n",
        "(u'earlier', u'I')"
       ]
      },
      {
       "output_type": "stream",
       "stream": "stdout",
       "text": [
        "  | true count:  1 | false count:  4\n",
        "(u'I', u'miss')"
       ]
      },
      {
       "output_type": "stream",
       "stream": "stdout",
       "text": [
        "  | true count:  2 | false count:  15\n",
        "(u'enough', u'get')"
       ]
      },
      {
       "output_type": "stream",
       "stream": "stdout",
       "text": [
        "  | true count:  4 | false count:  15\n",
        "(u'make', u'things')"
       ]
      },
      {
       "output_type": "stream",
       "stream": "stdout",
       "text": [
        "  | true count:  1 | false count:  5\n",
        "(u'hell', u'I')"
       ]
      },
      {
       "output_type": "stream",
       "stream": "stdout",
       "text": [
        "  | true count:  1 | false count:  4\n",
        "(u'help', u'lot')"
       ]
      },
      {
       "output_type": "stream",
       "stream": "stdout",
       "text": [
        "  | true count:  1 | false count:  8\n",
        "(u'Needless', u'say')"
       ]
      },
      {
       "output_type": "stream",
       "stream": "stdout",
       "text": [
        "  | true count:  1 | false count:  13\n",
        "(u'even', u'reading')"
       ]
      },
      {
       "output_type": "stream",
       "stream": "stdout",
       "text": [
        "  | true count:  1 | false count:  5\n",
        "(u'Things', u'going')"
       ]
      },
      {
       "output_type": "stream",
       "stream": "stdout",
       "text": [
        "  | true count:  1 | false count:  4\n",
        "(u'write', u'poem')"
       ]
      },
      {
       "output_type": "stream",
       "stream": "stdout",
       "text": [
        "  | true count:  1 | false count:  5\n",
        "(u'know', u'works')"
       ]
      },
      {
       "output_type": "stream",
       "stream": "stdout",
       "text": [
        "  | true count:  1 | false count:  5\n",
        "(u\"I'm\", u'low')"
       ]
      },
      {
       "output_type": "stream",
       "stream": "stdout",
       "text": [
        "  | true count:  1 | false count:  7\n",
        "(u'weeks', u'pay')"
       ]
      },
      {
       "output_type": "stream",
       "stream": "stdout",
       "text": [
        "  | true count:  1 | false count:  4\n",
        "(u'love', u'I')"
       ]
      },
      {
       "output_type": "stream",
       "stream": "stdout",
       "text": [
        "  | true count:  1 | false count:  5\n",
        "(u\"don't\", u'anything')  | true count:  1 | false count:  16\n",
        "(u'would', u'send')"
       ]
      },
      {
       "output_type": "stream",
       "stream": "stdout",
       "text": [
        "  | true count:  2 | false count:  7\n",
        "(u'know', u'get')"
       ]
      },
      {
       "output_type": "stream",
       "stream": "stdout",
       "text": [
        "  | true count:  1 | false count:  4\n",
        "(u'Anyway', u\"I'm\")"
       ]
      },
      {
       "output_type": "stream",
       "stream": "stdout",
       "text": [
        "  | true count:  1 | false count:  5\n",
        "(u'get', u'decent')"
       ]
      },
      {
       "output_type": "stream",
       "stream": "stdout",
       "text": [
        "  | true count:  1 | false count:  4\n",
        "(u'least', u'one')"
       ]
      },
      {
       "output_type": "stream",
       "stream": "stdout",
       "text": [
        "  | true count:  1 | false count:  6\n",
        "(u'four', u'hours')"
       ]
      },
      {
       "output_type": "stream",
       "stream": "stdout",
       "text": [
        "  | true count:  1 | false count:  4\n",
        "(u'someone', u'buy')"
       ]
      },
      {
       "output_type": "stream",
       "stream": "stdout",
       "text": [
        "  | true count:  1 | false count:  5\n",
        "(u'celebrate', u'pizza')"
       ]
      },
      {
       "output_type": "stream",
       "stream": "stdout",
       "text": [
        "  | true count:  1 | false count:  7\n",
        "(u\"I'm\", u'feeling')"
       ]
      },
      {
       "output_type": "stream",
       "stream": "stdout",
       "text": [
        "  | true count:  4 | false count:  13\n",
        "(u'looking', u'good')"
       ]
      },
      {
       "output_type": "stream",
       "stream": "stdout",
       "text": [
        "  | true count:  1 | false count:  4\n",
        "(u'even', u'know')"
       ]
      },
      {
       "output_type": "stream",
       "stream": "stdout",
       "text": [
        "  | true count:  2 | false count:  9\n",
        "(u'I', u'moved')"
       ]
      },
      {
       "output_type": "stream",
       "stream": "stdout",
       "text": [
        "  | true count:  15 | false count:  57\n",
        "(u'I', u'1')"
       ]
      },
      {
       "output_type": "stream",
       "stream": "stdout",
       "text": [
        "  | true count:  3 | false count:  11\n",
        "(u'much', u'title')"
       ]
      },
      {
       "output_type": "stream",
       "stream": "stdout",
       "text": [
        "  | true count:  1 | false count:  4\n",
        "(u'like', u'help')"
       ]
      },
      {
       "output_type": "stream",
       "stream": "stdout",
       "text": [
        "  | true count:  3 | false count:  25\n",
        "(u\"I'm\", u'using')"
       ]
      },
      {
       "output_type": "stream",
       "stream": "stdout",
       "text": [
        "  | true count:  1 | false count:  5\n",
        "(u\"haven't\", u'seen')"
       ]
      },
      {
       "output_type": "stream",
       "stream": "stdout",
       "text": [
        "  | true count:  1 | false count:  5\n",
        "(u'able', u'afford')"
       ]
      },
      {
       "output_type": "stream",
       "stream": "stdout",
       "text": [
        "  | true count:  2 | false count:  13\n",
        "(u'Long', u'story')"
       ]
      },
      {
       "output_type": "stream",
       "stream": "stdout",
       "text": [
        "  | true count:  7 | false count:  22\n",
        "(u'I', u'craving')"
       ]
      },
      {
       "output_type": "stream",
       "stream": "stdout",
       "text": [
        "  | true count:  3 | false count:  11\n",
        "(u'past', u'weeks')"
       ]
      },
      {
       "output_type": "stream",
       "stream": "stdout",
       "text": [
        "  | true count:  2 | false count:  7\n",
        "(u'pizza', u'eat')"
       ]
      },
      {
       "output_type": "stream",
       "stream": "stdout",
       "text": [
        "  | true count:  2 | false count:  8\n",
        "(u'Hello', u'everyone')"
       ]
      },
      {
       "output_type": "stream",
       "stream": "stdout",
       "text": [
        "  | true count:  2 | false count:  8\n",
        "(u'2', u'years')"
       ]
      },
      {
       "output_type": "stream",
       "stream": "stdout",
       "text": [
        "  | true count:  2 | false count:  21\n",
        "(u\"I'm\", u'tired')"
       ]
      },
      {
       "output_type": "stream",
       "stream": "stdout",
       "text": [
        "  | true count:  2 | false count:  9\n",
        "(u'stuck', u'home')"
       ]
      },
      {
       "output_type": "stream",
       "stream": "stdout",
       "text": [
        "  | true count:  1 | false count:  6\n",
        "(u'friends', u'I')"
       ]
      },
      {
       "output_type": "stream",
       "stream": "stdout",
       "text": [
        "  | true count:  1 | false count:  14\n",
        "(u'water', u'bill')"
       ]
      },
      {
       "output_type": "stream",
       "stream": "stdout",
       "text": [
        "  | true count:  1 | false count:  4\n",
        "(u'enough', u'help')"
       ]
      },
      {
       "output_type": "stream",
       "stream": "stdout",
       "text": [
        "  | true count:  4 | false count:  16\n",
        "(u\"don't\", u'lot')"
       ]
      },
      {
       "output_type": "stream",
       "stream": "stdout",
       "text": [
        "  | true count:  1 | false count:  4\n",
        "(u'yr', u'old')"
       ]
      },
      {
       "output_type": "stream",
       "stream": "stdout",
       "text": [
        "  | true count:  1 | false count:  8\n",
        "(u'I', u'fully')"
       ]
      },
      {
       "output_type": "stream",
       "stream": "stdout",
       "text": [
        "  | true count:  2 | false count:  7\n",
        "(u'anything', u'wrong')"
       ]
      },
      {
       "output_type": "stream",
       "stream": "stdout",
       "text": [
        "  | true count:  1 | false count:  4\n",
        "(u'finals', u'week')"
       ]
      },
      {
       "output_type": "stream",
       "stream": "stdout",
       "text": [
        "  | true count:  2 | false count:  8\n",
        "(u'put', u'gas')"
       ]
      },
      {
       "output_type": "stream",
       "stream": "stdout",
       "text": [
        "  | true count:  1 | false count:  4\n",
        "(u'really', u'struggling')"
       ]
      },
      {
       "output_type": "stream",
       "stream": "stdout",
       "text": [
        "  | true count:  1 | false count:  6\n",
        "(u'make', u'something')"
       ]
      },
      {
       "output_type": "stream",
       "stream": "stdout",
       "text": [
        "  | true count:  1 | false count:  5\n",
        "(u'recently', u'quit')"
       ]
      },
      {
       "output_type": "stream",
       "stream": "stdout",
       "text": [
        "  | true count:  1 | false count:  4\n",
        "(u'help', u'today')"
       ]
      },
      {
       "output_type": "stream",
       "stream": "stdout",
       "text": [
        "  | true count:  2 | false count:  11\n",
        "(u'try', u'pizza')"
       ]
      },
      {
       "output_type": "stream",
       "stream": "stdout",
       "text": [
        "  | true count:  1 | false count:  4\n",
        "(u'short', u'story')"
       ]
      },
      {
       "output_type": "stream",
       "stream": "stdout",
       "text": [
        "  | true count:  1 | false count:  4\n",
        "(u'thing', u'I')"
       ]
      },
      {
       "output_type": "stream",
       "stream": "stdout",
       "text": [
        "  | true count:  2 | false count:  18\n",
        "(u'lucky', u'enough')"
       ]
      },
      {
       "output_type": "stream",
       "stream": "stdout",
       "text": [
        "  | true count:  1 | false count:  6\n",
        "(u'low', u'money')"
       ]
      },
      {
       "output_type": "stream",
       "stream": "stdout",
       "text": [
        "  | true count:  1 | false count:  4\n",
        "(u'In', u'exchange')"
       ]
      },
      {
       "output_type": "stream",
       "stream": "stdout",
       "text": [
        "  | true count:  7 | false count:  2\n",
        "(u'weeks', u'next')"
       ]
      },
      {
       "output_type": "stream",
       "stream": "stdout",
       "text": [
        "  | true count:  4 | false count:  1\n",
        "(u'Pizza', u'would')"
       ]
      },
      {
       "output_type": "stream",
       "stream": "stdout",
       "text": [
        "  | true count:  12 | false count:  37\n",
        "(u'pizza', u'hut')"
       ]
      },
      {
       "output_type": "stream",
       "stream": "stdout",
       "text": [
        "  | true count:  9 | false count:  31\n",
        "(u'made', u'account')"
       ]
      },
      {
       "output_type": "stream",
       "stream": "stdout",
       "text": [
        "  | true count:  1 | false count:  5\n",
        "(u'kind', u'soul')"
       ]
      },
      {
       "output_type": "stream",
       "stream": "stdout",
       "text": [
        "  | true count:  3 | false count:  24\n",
        "(u'I', u'want')"
       ]
      },
      {
       "output_type": "stream",
       "stream": "stdout",
       "text": [
        "  | true count:  33 | false count:  106\n",
        "(u'look', u'forward')"
       ]
      },
      {
       "output_type": "stream",
       "stream": "stdout",
       "text": [
        "  | true count:  2 | false count:  8\n",
        "(u'much', u'rather')"
       ]
      },
      {
       "output_type": "stream",
       "stream": "stdout",
       "text": [
        "  | true count:  1 | false count:  5\n",
        "(u'short', u'cash')  | true count:  2 | false count:  9\n",
        "(u'I', u'draw')"
       ]
      },
      {
       "output_type": "stream",
       "stream": "stdout",
       "text": [
        "  | true count:  1 | false count:  17\n",
        "(u'requesting', u'pizza')"
       ]
      },
      {
       "output_type": "stream",
       "stream": "stdout",
       "text": [
        "  | true count:  3 | false count:  15\n",
        "(u'paid', u'bills')  | true count:  1 | false count:  5\n",
        "(u'last', u'year')  | true count:  4 | false count:  18\n",
        "(u'please', u'let')  | true count:  1 | false count:  12\n",
        "(u'something', u'eat')"
       ]
      },
      {
       "output_type": "stream",
       "stream": "stdout",
       "text": [
        "  | true count:  6 | false count:  24\n",
        "(u'get', u'little')"
       ]
      },
      {
       "output_type": "stream",
       "stream": "stdout",
       "text": [
        "  | true count:  2 | false count:  8\n",
        "(u'I', u'hoping')"
       ]
      },
      {
       "output_type": "stream",
       "stream": "stdout",
       "text": [
        "  | true count:  9 | false count:  32\n",
        "(u'ran', u'money')  | true count:  2 | false count:  7\n",
        "(u'I', u'wanted')"
       ]
      },
      {
       "output_type": "stream",
       "stream": "stdout",
       "text": [
        "  | true count:  6 | false count:  24\n",
        "(u'first', u'year')"
       ]
      },
      {
       "output_type": "stream",
       "stream": "stdout",
       "text": [
        "  | true count:  1 | false count:  4\n",
        "(u'someone', u'feels')"
       ]
      },
      {
       "output_type": "stream",
       "stream": "stdout",
       "text": [
        "  | true count:  1 | false count:  5\n",
        "(u'first', u'night')  | true count:  1 | false count:  4\n",
        "(u'Would', u'like')"
       ]
      },
      {
       "output_type": "stream",
       "stream": "stdout",
       "text": [
        "  | true count:  1 | false count:  8\n",
        "(u'So', u'please')  | true count:  1 | false count:  9\n",
        "(u'But', u'today')"
       ]
      },
      {
       "output_type": "stream",
       "stream": "stdout",
       "text": [
        "  | true count:  1 | false count:  4\n",
        "(u'thanks', u'much')"
       ]
      },
      {
       "output_type": "stream",
       "stream": "stdout",
       "text": [
        "  | true count:  2 | false count:  7\n",
        "(u'could', u'order')"
       ]
      },
      {
       "output_type": "stream",
       "stream": "stdout",
       "text": [
        "  | true count:  1 | false count:  4\n",
        "(u'I', u'woke')"
       ]
      },
      {
       "output_type": "stream",
       "stream": "stdout",
       "text": [
        "  | true count:  2 | false count:  8\n",
        "(u'come', u'tomorrow')"
       ]
      },
      {
       "output_type": "stream",
       "stream": "stdout",
       "text": [
        "  | true count:  1 | false count:  4\n",
        "(u'car', u'insurance')"
       ]
      },
      {
       "output_type": "stream",
       "stream": "stdout",
       "text": [
        "  | true count:  1 | false count:  6\n",
        "(u'Before', u'I')"
       ]
      },
      {
       "output_type": "stream",
       "stream": "stdout",
       "text": [
        "  | true count:  1 | false count:  6\n",
        "(u'provide', u'pictures')"
       ]
      },
      {
       "output_type": "stream",
       "stream": "stdout",
       "text": [
        "  | true count:  2 | false count:  8\n",
        "(u'SO', u'MUCH')"
       ]
      },
      {
       "output_type": "stream",
       "stream": "stdout",
       "text": [
        "  | true count:  5 | false count:  1\n",
        "(u'need', u'much')  | true count:  1 | false count:  6\n",
        "(u'tomorrow', u'morning')"
       ]
      },
      {
       "output_type": "stream",
       "stream": "stdout",
       "text": [
        "  | true count:  1 | false count:  11\n",
        "(u'point', u'I')"
       ]
      },
      {
       "output_type": "stream",
       "stream": "stdout",
       "text": [
        "  | true count:  2 | false count:  13\n",
        "(u'something', u'else')"
       ]
      },
      {
       "output_type": "stream",
       "stream": "stdout",
       "text": [
        "  | true count:  1 | false count:  10\n",
        "(u'us', u'eat')"
       ]
      },
      {
       "output_type": "stream",
       "stream": "stdout",
       "text": [
        "  | true count:  1 | false count:  4\n",
        "(u'help', u'make')"
       ]
      },
      {
       "output_type": "stream",
       "stream": "stdout",
       "text": [
        "  | true count:  4 | false count:  14\n",
        "(u'Not', u'mention')"
       ]
      },
      {
       "output_type": "stream",
       "stream": "stdout",
       "text": [
        "  | true count:  2 | false count:  7\n",
        "(u'everything', u'else')"
       ]
      },
      {
       "output_type": "stream",
       "stream": "stdout",
       "text": [
        "  | true count:  1 | false count:  7\n",
        "(u'bit', u'hungry')"
       ]
      },
      {
       "output_type": "stream",
       "stream": "stdout",
       "text": [
        "  | true count:  1 | false count:  5\n",
        "(u'else', u'turn')  | true count:  1 | false count:  4\n",
        "(u\"I'm\", u'happy')"
       ]
      },
      {
       "output_type": "stream",
       "stream": "stdout",
       "text": [
        "  | true count:  2 | false count:  9\n",
        "(u'home', u'college')"
       ]
      },
      {
       "output_type": "stream",
       "stream": "stdout",
       "text": [
        "  | true count:  1 | false count:  4\n",
        "(u'love', u'eat')"
       ]
      },
      {
       "output_type": "stream",
       "stream": "stdout",
       "text": [
        "  | true count:  2 | false count:  11\n",
        "(u'feeling', u'better')  | true count:  1 | false count:  6\n",
        "(u'If', u'works')"
       ]
      },
      {
       "output_type": "stream",
       "stream": "stdout",
       "text": [
        "  | true count:  1 | false count:  7\n",
        "(u'I', u\"wouldn't\")"
       ]
      },
      {
       "output_type": "stream",
       "stream": "stdout",
       "text": [
        "  | true count:  5 | false count:  27\n",
        "(u\"wouldn't\", u'mind')"
       ]
      },
      {
       "output_type": "stream",
       "stream": "stdout",
       "text": [
        "  | true count:  3 | false count:  11\n",
        "(u'money', u'going')"
       ]
      },
      {
       "output_type": "stream",
       "stream": "stdout",
       "text": [
        "  | true count:  1 | false count:  9\n",
        "(u'pizza', u'way')"
       ]
      },
      {
       "output_type": "stream",
       "stream": "stdout",
       "text": [
        "  | true count:  5 | false count:  20\n",
        "(u'starting', u'get')"
       ]
      },
      {
       "output_type": "stream",
       "stream": "stdout",
       "text": [
        "  | true count:  1 | false count:  4\n",
        "(u'return', u'favour')"
       ]
      },
      {
       "output_type": "stream",
       "stream": "stdout",
       "text": [
        "  | true count:  2 | false count:  17\n",
        "(u'things', u'I')"
       ]
      },
      {
       "output_type": "stream",
       "stream": "stdout",
       "text": [
        "  | true count:  4 | false count:  13\n",
        "(u'I', u'started')"
       ]
      },
      {
       "output_type": "stream",
       "stream": "stdout",
       "text": [
        "  | true count:  8 | false count:  28\n",
        "(u'job', u'2')"
       ]
      },
      {
       "output_type": "stream",
       "stream": "stdout",
       "text": [
        "  | true count:  1 | false count:  4\n",
        "(u'money', u'go')  | true count:  1 | false count:  6\n",
        "(u'buy', u'one')"
       ]
      },
      {
       "output_type": "stream",
       "stream": "stdout",
       "text": [
        "  | true count:  4 | false count:  14\n",
        "(u'We', u'could')  | true count:  2 | false count:  8\n",
        "(u'paid', u'friday')"
       ]
      },
      {
       "output_type": "stream",
       "stream": "stdout",
       "text": [
        "  | true count:  1 | false count:  6\n",
        "(u'(', u'I')"
       ]
      },
      {
       "output_type": "stream",
       "stream": "stdout",
       "text": [
        "  | true count:  4 | false count:  13\n",
        "(u'looking', u'new')"
       ]
      },
      {
       "output_type": "stream",
       "stream": "stdout",
       "text": [
        "  | true count:  4 | false count:  1\n",
        "(u'mother', u'I')"
       ]
      },
      {
       "output_type": "stream",
       "stream": "stdout",
       "text": [
        "  | true count:  1 | false count:  4\n",
        "(u'job', u'pay')"
       ]
      },
      {
       "output_type": "stream",
       "stream": "stdout",
       "text": [
        "  | true count:  1 | false count:  5\n",
        "(u'I', u'starving')"
       ]
      },
      {
       "output_type": "stream",
       "stream": "stdout",
       "text": [
        "  | true count:  3 | false count:  10\n",
        "(u\"I've\", u'always')"
       ]
      },
      {
       "output_type": "stream",
       "stream": "stdout",
       "text": [
        "  | true count:  2 | false count:  8\n",
        "(u'first', u'day')"
       ]
      },
      {
       "output_type": "stream",
       "stream": "stdout",
       "text": [
        "  | true count:  2 | false count:  8\n",
        "(u'rest', u'money')"
       ]
      },
      {
       "output_type": "stream",
       "stream": "stdout",
       "text": [
        "  | true count:  1 | false count:  4\n",
        "(u'I', u'send')"
       ]
      },
      {
       "output_type": "stream",
       "stream": "stdout",
       "text": [
        "  | true count:  6 | false count:  23\n",
        "(u\"we're\", u'broke')"
       ]
      },
      {
       "output_type": "stream",
       "stream": "stdout",
       "text": [
        "  | true count:  4 | false count:  13\n",
        "(u'pay', u'rent')  | true count:  10 | false count:  33\n",
        "(u'lot', u'money')"
       ]
      },
      {
       "output_type": "stream",
       "stream": "stdout",
       "text": [
        "  | true count:  2 | false count:  8\n",
        "(u\"haven't\", u'really')  | true count:  2 | false count:  8\n",
        "(u'Thanks', u'anyone')"
       ]
      },
      {
       "output_type": "stream",
       "stream": "stdout",
       "text": [
        "  | true count:  1 | false count:  6\n",
        "(u'paid', u'another')  | true count:  3 | false count:  11\n",
        "(u'amazing', u'right')"
       ]
      },
      {
       "output_type": "stream",
       "stream": "stdout",
       "text": [
        "  | true count:  1 | false count:  7\n",
        "(u'dinner', u'I')"
       ]
      },
      {
       "output_type": "stream",
       "stream": "stdout",
       "text": [
        "  | true count:  3 | false count:  10\n",
        "(u'love', u'pizza')"
       ]
      },
      {
       "output_type": "stream",
       "stream": "stdout",
       "text": [
        "  | true count:  42 | false count:  143\n",
        "(u'gladly', u'repay')"
       ]
      },
      {
       "output_type": "stream",
       "stream": "stdout",
       "text": [
        "  | true count:  1 | false count:  5\n",
        "(u'facebook', u'com')"
       ]
      },
      {
       "output_type": "stream",
       "stream": "stdout",
       "text": [
        "  | true count:  1 | false count:  6\n",
        "(u'30', u'days')"
       ]
      },
      {
       "output_type": "stream",
       "stream": "stdout",
       "text": [
        "  | true count:  1 | false count:  5\n",
        "(u'need', u'pizza')"
       ]
      },
      {
       "output_type": "stream",
       "stream": "stdout",
       "text": [
        "  | true count:  9 | false count:  37\n",
        "(u'I', u'two')"
       ]
      },
      {
       "output_type": "stream",
       "stream": "stdout",
       "text": [
        "  | true count:  2 | false count:  10\n",
        "(u'I', u'sure')"
       ]
      },
      {
       "output_type": "stream",
       "stream": "stdout",
       "text": [
        "  | true count:  4 | false count:  18\n",
        "(u'Thank', u'reddit')"
       ]
      },
      {
       "output_type": "stream",
       "stream": "stdout",
       "text": [
        "  | true count:  1 | false count:  5\n",
        "(u'kind', u'stranger')"
       ]
      },
      {
       "output_type": "stream",
       "stream": "stdout",
       "text": [
        "  | true count:  1 | false count:  5\n",
        "(u'going', u'eat')"
       ]
      },
      {
       "output_type": "stream",
       "stream": "stdout",
       "text": [
        "  | true count:  1 | false count:  6\n",
        "(u'pizza', u'time')"
       ]
      },
      {
       "output_type": "stream",
       "stream": "stdout",
       "text": [
        "  | true count:  1 | false count:  4\n",
        "(u'sure', u'else')"
       ]
      },
      {
       "output_type": "stream",
       "stream": "stdout",
       "text": [
        "  | true count:  1 | false count:  5\n",
        "(u'came', u'back')"
       ]
      },
      {
       "output_type": "stream",
       "stream": "stdout",
       "text": [
        "  | true count:  2 | false count:  8\n",
        "(u'story', u'short')"
       ]
      },
      {
       "output_type": "stream",
       "stream": "stdout",
       "text": [
        "  | true count:  10 | false count:  35\n",
        "(u'loaf', u'bread')"
       ]
      },
      {
       "output_type": "stream",
       "stream": "stdout",
       "text": [
        "  | true count:  4 | false count:  1\n",
        "(u'Thanks', u'looking')"
       ]
      },
      {
       "output_type": "stream",
       "stream": "stdout",
       "text": [
        "  | true count:  1 | false count:  6\n",
        "(u'No', u'sob')"
       ]
      },
      {
       "output_type": "stream",
       "stream": "stdout",
       "text": [
        "  | true count:  2 | false count:  18\n",
        "(u'much', u'I')"
       ]
      },
      {
       "output_type": "stream",
       "stream": "stdout",
       "text": [
        "  | true count:  7 | false count:  23\n",
        "(u'people', u'would')"
       ]
      },
      {
       "output_type": "stream",
       "stream": "stdout",
       "text": [
        "  | true count:  1 | false count:  6\n",
        "(u\"We've\", u'living')"
       ]
      },
      {
       "output_type": "stream",
       "stream": "stdout",
       "text": [
        "  | true count:  1 | false count:  4\n",
        "(u'I', u'like')"
       ]
      },
      {
       "output_type": "stream",
       "stream": "stdout",
       "text": [
        "  | true count:  3 | false count:  16\n",
        "(u'Hi', u'Reddit')"
       ]
      },
      {
       "output_type": "stream",
       "stream": "stdout",
       "text": [
        "  | true count:  2 | false count:  7\n",
        "(u'looking', u'little')"
       ]
      },
      {
       "output_type": "stream",
       "stream": "stdout",
       "text": [
        "  | true count:  1 | false count:  4\n",
        "(u'I', u'right')"
       ]
      },
      {
       "output_type": "stream",
       "stream": "stdout",
       "text": [
        "  | true count:  3 | false count:  10\n",
        "(u'got', u'work')"
       ]
      },
      {
       "output_type": "stream",
       "stream": "stdout",
       "text": [
        "  | true count:  1 | false count:  7\n",
        "(u'I', u'mention')"
       ]
      },
      {
       "output_type": "stream",
       "stream": "stdout",
       "text": [
        "  | true count:  1 | false count:  4\n",
        "(u'food', u'right')"
       ]
      },
      {
       "output_type": "stream",
       "stream": "stdout",
       "text": [
        "  | true count:  3 | false count:  11\n",
        "(u'mention', u\"I'm\")"
       ]
      },
      {
       "output_type": "stream",
       "stream": "stdout",
       "text": [
        "  | true count:  1 | false count:  4\n",
        "(u'neither', u'us')"
       ]
      },
      {
       "output_type": "stream",
       "stream": "stdout",
       "text": [
        "  | true count:  2 | false count:  8\n",
        "(u'full', u'time')"
       ]
      },
      {
       "output_type": "stream",
       "stream": "stdout",
       "text": [
        "  | true count:  11 | false count:  37\n",
        "(u'There', u'nothing')"
       ]
      },
      {
       "output_type": "stream",
       "stream": "stdout",
       "text": [
        "  | true count:  1 | false count:  5\n",
        "(u'pretty', u'broke')"
       ]
      },
      {
       "output_type": "stream",
       "stream": "stdout",
       "text": [
        "  | true count:  2 | false count:  14\n",
        "(u'fellow', u'Redditors')"
       ]
      },
      {
       "output_type": "stream",
       "stream": "stdout",
       "text": [
        "  | true count:  1 | false count:  4\n",
        "(u\"doesn't\", u'know')"
       ]
      },
      {
       "output_type": "stream",
       "stream": "stdout",
       "text": [
        "  | true count:  2 | false count:  7\n",
        "(u\"won't\", u'money')"
       ]
      },
      {
       "output_type": "stream",
       "stream": "stdout",
       "text": [
        "  | true count:  1 | false count:  5\n",
        "(u'lie', u\"I'm\")"
       ]
      },
      {
       "output_type": "stream",
       "stream": "stdout",
       "text": [
        "  | true count:  1 | false count:  4\n",
        "(u'rough', u'patch')"
       ]
      },
      {
       "output_type": "stream",
       "stream": "stdout",
       "text": [
        "  | true count:  2 | false count:  7\n",
        "(u\"I've\", u'recently')  | true count:  1 | false count:  6\n",
        "(u'gets', u'paid')"
       ]
      },
      {
       "output_type": "stream",
       "stream": "stdout",
       "text": [
        "  | true count:  2 | false count:  10\n",
        "(u'would', u'like')"
       ]
      },
      {
       "output_type": "stream",
       "stream": "stdout",
       "text": [
        "  | true count:  31 | false count:  104\n",
        "(u'dont', u'get')"
       ]
      },
      {
       "output_type": "stream",
       "stream": "stdout",
       "text": [
        "  | true count:  4 | false count:  18\n",
        "(u'help', u'cheer')"
       ]
      },
      {
       "output_type": "stream",
       "stream": "stdout",
       "text": [
        "  | true count:  1 | false count:  4\n",
        "(u'watch', u'v')"
       ]
      },
      {
       "output_type": "stream",
       "stream": "stdout",
       "text": [
        "  | true count:  2 | false count:  13\n",
        "(u'My', u'first')  | true count:  2 | false count:  7\n",
        "(u'go', u'bills')"
       ]
      },
      {
       "output_type": "stream",
       "stream": "stdout",
       "text": [
        "  | true count:  1 | false count:  4\n",
        "(u\"i'm\", u'broke')"
       ]
      },
      {
       "output_type": "stream",
       "stream": "stdout",
       "text": [
        "  | true count:  1 | false count:  5\n",
        "(u\"I'm\", u'thinking')"
       ]
      },
      {
       "output_type": "stream",
       "stream": "stdout",
       "text": [
        "  | true count:  1 | false count:  5\n",
        "(u'time', u'lurker')"
       ]
      },
      {
       "output_type": "stream",
       "stream": "stdout",
       "text": [
        "  | true count:  3 | false count:  15\n",
        "(u'paid', u'till')"
       ]
      },
      {
       "output_type": "stream",
       "stream": "stdout",
       "text": [
        "  | true count:  2 | false count:  18\n",
        "(u'going', u'home')"
       ]
      },
      {
       "output_type": "stream",
       "stream": "stdout",
       "text": [
        "  | true count:  1 | false count:  4\n",
        "(u'love', u'nothing')"
       ]
      },
      {
       "output_type": "stream",
       "stream": "stdout",
       "text": [
        "  | true count:  1 | false count:  4\n",
        "(u'broke', u'hungry')"
       ]
      },
      {
       "output_type": "stream",
       "stream": "stdout",
       "text": [
        "  | true count:  4 | false count:  16\n",
        "(u'get', u'feet')"
       ]
      },
      {
       "output_type": "stream",
       "stream": "stdout",
       "text": [
        "  | true count:  1 | false count:  6\n",
        "(u'week', u'ago')"
       ]
      },
      {
       "output_type": "stream",
       "stream": "stdout",
       "text": [
        "  | true count:  3 | false count:  16\n",
        "(u'I', u'cant')"
       ]
      },
      {
       "output_type": "stream",
       "stream": "stdout",
       "text": [
        "  | true count:  3 | false count:  13\n",
        "(u'help', u'one')"
       ]
      },
      {
       "output_type": "stream",
       "stream": "stdout",
       "text": [
        "  | true count:  1 | false count:  8\n",
        "(u'guy', u'pizza')"
       ]
      },
      {
       "output_type": "stream",
       "stream": "stdout",
       "text": [
        "  | true count:  1 | false count:  5\n",
        "(u'week', u\"I'm\")"
       ]
      },
      {
       "output_type": "stream",
       "stream": "stdout",
       "text": [
        "  | true count:  1 | false count:  9\n",
        "(u'want', u'know')"
       ]
      },
      {
       "output_type": "stream",
       "stream": "stdout",
       "text": [
        "  | true count:  1 | false count:  6\n",
        "(u'We', u'love')"
       ]
      },
      {
       "output_type": "stream",
       "stream": "stdout",
       "text": [
        "  | true count:  1 | false count:  4\n",
        "(u'I', u'sold')"
       ]
      },
      {
       "output_type": "stream",
       "stream": "stdout",
       "text": [
        "  | true count:  5 | false count:  1\n",
        "(u'summer', u'I')  | true count:  2 | false count:  9\n",
        "(u'I', u'interview')"
       ]
      },
      {
       "output_type": "stream",
       "stream": "stdout",
       "text": [
        "  | true count:  1 | false count:  4\n",
        "(u'want', u'post')"
       ]
      },
      {
       "output_type": "stream",
       "stream": "stdout",
       "text": [
        "  | true count:  1 | false count:  6\n",
        "(u'top', u'I')"
       ]
      },
      {
       "output_type": "stream",
       "stream": "stdout",
       "text": [
        "  | true count:  2 | false count:  9\n",
        "(u'I', u'move')"
       ]
      },
      {
       "output_type": "stream",
       "stream": "stdout",
       "text": [
        "  | true count:  1 | false count:  12\n",
        "(u'going', u'make')"
       ]
      },
      {
       "output_type": "stream",
       "stream": "stdout",
       "text": [
        "  | true count:  1 | false count:  5\n",
        "(u'I', u'gave')"
       ]
      },
      {
       "output_type": "stream",
       "stream": "stdout",
       "text": [
        "  | true count:  2 | false count:  8\n",
        "(u'paid', u'15th')"
       ]
      },
      {
       "output_type": "stream",
       "stream": "stdout",
       "text": [
        "  | true count:  1 | false count:  4\n",
        "(u'going', u'pretty')"
       ]
      },
      {
       "output_type": "stream",
       "stream": "stdout",
       "text": [
        "  | true count:  1 | false count:  4\n",
        "(u'account', u'new')"
       ]
      },
      {
       "output_type": "stream",
       "stream": "stdout",
       "text": [
        "  | true count:  1 | false count:  4\n",
        "(u'wanna', u'help')  | true count:  1 | false count:  6\n",
        "(u'new', u'apartment')"
       ]
      },
      {
       "output_type": "stream",
       "stream": "stdout",
       "text": [
        "  | true count:  4 | false count:  19\n",
        "(u'Thank', u'reading')"
       ]
      },
      {
       "output_type": "stream",
       "stream": "stdout",
       "text": [
        "  | true count:  6 | false count:  24\n",
        "(u'favor', u'soon')"
       ]
      },
      {
       "output_type": "stream",
       "stream": "stdout",
       "text": [
        "  | true count:  1 | false count:  11\n",
        "(u'back', u'parents')"
       ]
      },
      {
       "output_type": "stream",
       "stream": "stdout",
       "text": [
        "  | true count:  1 | false count:  6\n",
        "(u'please', u\"don't\")"
       ]
      },
      {
       "output_type": "stream",
       "stream": "stdout",
       "text": [
        "  | true count:  2 | false count:  9\n",
        "(u'whole', u'thing')"
       ]
      },
      {
       "output_type": "stream",
       "stream": "stdout",
       "text": [
        "  | true count:  1 | false count:  5\n",
        "(u'Thanks', u'help')"
       ]
      },
      {
       "output_type": "stream",
       "stream": "stdout",
       "text": [
        "  | true count:  1 | false count:  9\n",
        "(u'Just', u'finished')"
       ]
      },
      {
       "output_type": "stream",
       "stream": "stdout",
       "text": [
        "  | true count:  1 | false count:  6\n",
        "(u'4', u'5')"
       ]
      },
      {
       "output_type": "stream",
       "stream": "stdout",
       "text": [
        "  | true count:  1 | false count:  5\n",
        "(u'I', u'slept')"
       ]
      },
      {
       "output_type": "stream",
       "stream": "stdout",
       "text": [
        "  | true count:  1 | false count:  4\n",
        "(u'almost', u'2')  | true count:  4 | false count:  1\n",
        "(u'fallen', u'hard')"
       ]
      },
      {
       "output_type": "stream",
       "stream": "stdout",
       "text": [
        "  | true count:  1 | false count:  5\n",
        "(u'food', u'house')"
       ]
      },
      {
       "output_type": "stream",
       "stream": "stdout",
       "text": [
        "  | true count:  12 | false count:  42\n",
        "(u'one', u'else')"
       ]
      },
      {
       "output_type": "stream",
       "stream": "stdout",
       "text": [
        "  | true count:  1 | false count:  5\n",
        "(u'home', u'tomorrow')"
       ]
      },
      {
       "output_type": "stream",
       "stream": "stdout",
       "text": [
        "  | true count:  1 | false count:  7\n",
        "(u'give', u'us')"
       ]
      },
      {
       "output_type": "stream",
       "stream": "stdout",
       "text": [
        "  | true count:  3 | false count:  20\n",
        "(u'one', u'pizza')  | true count:  2 | false count:  8\n",
        "(u'cannot', u'afford')"
       ]
      },
      {
       "output_type": "stream",
       "stream": "stdout",
       "text": [
        "  | true count:  2 | false count:  7\n",
        "(u'food', u'like')"
       ]
      },
      {
       "output_type": "stream",
       "stream": "stdout",
       "text": [
        "  | true count:  1 | false count:  4\n",
        "(u'three', u'weeks')"
       ]
      },
      {
       "output_type": "stream",
       "stream": "stdout",
       "text": [
        "  | true count:  3 | false count:  10\n",
        "(u'I', u'surely')"
       ]
      },
      {
       "output_type": "stream",
       "stream": "stdout",
       "text": [
        "  | true count:  1 | false count:  4\n",
        "(u'Could', u'use')"
       ]
      },
      {
       "output_type": "stream",
       "stream": "stdout",
       "text": [
        "  | true count:  1 | false count:  6\n",
        "(u'within', u'walking')"
       ]
      },
      {
       "output_type": "stream",
       "stream": "stdout",
       "text": [
        "  | true count:  1 | false count:  4\n",
        "(u'Oh', u'yeah')"
       ]
      },
      {
       "output_type": "stream",
       "stream": "stdout",
       "text": [
        "  | true count:  1 | false count:  7\n",
        "(u'rent', u'money')"
       ]
      },
      {
       "output_type": "stream",
       "stream": "stdout",
       "text": [
        "  | true count:  1 | false count:  5\n",
        "(u'support', u'us')"
       ]
      },
      {
       "output_type": "stream",
       "stream": "stdout",
       "text": [
        "  | true count:  4 | false count:  1\n",
        "(u'old', u'friend')"
       ]
      },
      {
       "output_type": "stream",
       "stream": "stdout",
       "text": [
        "  | true count:  1 | false count:  4\n",
        "(u'realized', u'I')"
       ]
      },
      {
       "output_type": "stream",
       "stream": "stdout",
       "text": [
        "  | true count:  2 | false count:  7\n",
        "(u'Just', u'need')"
       ]
      },
      {
       "output_type": "stream",
       "stream": "stdout",
       "text": [
        "  | true count:  1 | false count:  5\n",
        "(u\"don't\", u'enough')"
       ]
      },
      {
       "output_type": "stream",
       "stream": "stdout",
       "text": [
        "  | true count:  3 | false count:  10\n",
        "(u\"I've\", u'eaten')  | true count:  1 | false count:  6\n",
        "(u'hours', u'away')"
       ]
      },
      {
       "output_type": "stream",
       "stream": "stdout",
       "text": [
        "  | true count:  1 | false count:  13\n",
        "(u'gas', u'money')"
       ]
      },
      {
       "output_type": "stream",
       "stream": "stdout",
       "text": [
        "  | true count:  1 | false count:  11\n",
        "(u'Anyone', u'wanna')"
       ]
      },
      {
       "output_type": "stream",
       "stream": "stdout",
       "text": [
        "  | true count:  1 | false count:  7\n",
        "(u'told', u'I')"
       ]
      },
      {
       "output_type": "stream",
       "stream": "stdout",
       "text": [
        "  | true count:  2 | false count:  15\n",
        "(u'help', u'guys')"
       ]
      },
      {
       "output_type": "stream",
       "stream": "stdout",
       "text": [
        "  | true count:  1 | false count:  4\n",
        "(u\"doesn't\", u'work')  | true count:  4 | false count:  1\n",
        "(u'pizza', u'night')"
       ]
      },
      {
       "output_type": "stream",
       "stream": "stdout",
       "text": [
        "  | true count:  2 | false count:  7\n",
        "(u'Please', u'thank')"
       ]
      },
      {
       "output_type": "stream",
       "stream": "stdout",
       "text": [
        "  | true count:  3 | false count:  12\n",
        "(u'ear', u'infection')"
       ]
      },
      {
       "output_type": "stream",
       "stream": "stdout",
       "text": [
        "  | true count:  1 | false count:  4\n",
        "(u'Thursday', u'I')"
       ]
      },
      {
       "output_type": "stream",
       "stream": "stdout",
       "text": [
        "  | true count:  3 | false count:  10\n",
        "(u'financial', u'situation')"
       ]
      },
      {
       "output_type": "stream",
       "stream": "stdout",
       "text": [
        "  | true count:  2 | false count:  10\n",
        "(u'help', u'friends')"
       ]
      },
      {
       "output_type": "stream",
       "stream": "stdout",
       "text": [
        "  | true count:  1 | false count:  4\n",
        "(u'need', u'get')"
       ]
      },
      {
       "output_type": "stream",
       "stream": "stdout",
       "text": [
        "  | true count:  1 | false count:  4\n",
        "(u'God', u'bless')"
       ]
      },
      {
       "output_type": "stream",
       "stream": "stdout",
       "text": [
        "  | true count:  3 | false count:  13\n",
        "(u'I', u'one')"
       ]
      },
      {
       "output_type": "stream",
       "stream": "stdout",
       "text": [
        "  | true count:  2 | false count:  13\n",
        "(u\"I'm\", u'craving')"
       ]
      },
      {
       "output_type": "stream",
       "stream": "stdout",
       "text": [
        "  | true count:  2 | false count:  10\n",
        "(u\"don't\", u'even')"
       ]
      },
      {
       "output_type": "stream",
       "stream": "stdout",
       "text": [
        "  | true count:  3 | false count:  22\n",
        "(u'know', u'work')"
       ]
      },
      {
       "output_type": "stream",
       "stream": "stdout",
       "text": [
        "  | true count:  1 | false count:  4\n",
        "(u'I', u'freelance')"
       ]
      },
      {
       "output_type": "stream",
       "stream": "stdout",
       "text": [
        "  | true count:  1 | false count:  4\n",
        "(u'nice', u'enough')"
       ]
      },
      {
       "output_type": "stream",
       "stream": "stdout",
       "text": [
        "  | true count:  1 | false count:  9\n",
        "(u'good', u'luck')"
       ]
      },
      {
       "output_type": "stream",
       "stream": "stdout",
       "text": [
        "  | true count:  1 | false count:  7\n",
        "(u'today', u'would')"
       ]
      },
      {
       "output_type": "stream",
       "stream": "stdout",
       "text": [
        "  | true count:  1 | false count:  7\n",
        "(u'post', u'I')"
       ]
      },
      {
       "output_type": "stream",
       "stream": "stdout",
       "text": [
        "  | true count:  3 | false count:  16\n",
        "(u'food', u'stamp')"
       ]
      },
      {
       "output_type": "stream",
       "stream": "stdout",
       "text": [
        "  | true count:  1 | false count:  5\n",
        "(u'plain', u'cheese')  | true count:  1 | false count:  4\n",
        "(u'I', u'cash')"
       ]
      },
      {
       "output_type": "stream",
       "stream": "stdout",
       "text": [
        "  | true count:  3 | false count:  11\n",
        "(u'go', u'around')"
       ]
      },
      {
       "output_type": "stream",
       "stream": "stdout",
       "text": [
        "  | true count:  1 | false count:  5\n",
        "(u'I', u'decided')"
       ]
      },
      {
       "output_type": "stream",
       "stream": "stdout",
       "text": [
        "  | true count:  2 | false count:  26\n",
        "(u'rice', u'I')"
       ]
      },
      {
       "output_type": "stream",
       "stream": "stdout",
       "text": [
        "  | true count:  1 | false count:  4\n",
        "(u\"I'm\", u'chilling')"
       ]
      },
      {
       "output_type": "stream",
       "stream": "stdout",
       "text": [
        "  | true count:  1 | false count:  4\n",
        "(u'like', u'return')"
       ]
      },
      {
       "output_type": "stream",
       "stream": "stdout",
       "text": [
        "  | true count:  1 | false count:  5\n",
        "(u'go', u'eat')"
       ]
      },
      {
       "output_type": "stream",
       "stream": "stdout",
       "text": [
        "  | true count:  1 | false count:  4\n",
        "(u\"haven't\", u'paid')  | true count:  1 | false count:  5\n",
        "(u'I', u'19')"
       ]
      },
      {
       "output_type": "stream",
       "stream": "stdout",
       "text": [
        "  | true count:  1 | false count:  4\n",
        "(u'pizza', u'even')"
       ]
      },
      {
       "output_type": "stream",
       "stream": "stdout",
       "text": [
        "  | true count:  7 | false count:  1\n",
        "(u'pizza', u'anything')  | true count:  1 | false count:  10\n",
        "(u'ahead', u'time')"
       ]
      },
      {
       "output_type": "stream",
       "stream": "stdout",
       "text": [
        "  | true count:  1 | false count:  4\n",
        "(u\"I'm\", u'exactly')"
       ]
      },
      {
       "output_type": "stream",
       "stream": "stdout",
       "text": [
        "  | true count:  1 | false count:  6\n",
        "(u'much', u'advance')"
       ]
      },
      {
       "output_type": "stream",
       "stream": "stdout",
       "text": [
        "  | true count:  1 | false count:  9\n",
        "(u'throwaway', u'I')  | true count:  1 | false count:  4\n",
        "(u'days', u'away')"
       ]
      },
      {
       "output_type": "stream",
       "stream": "stdout",
       "text": [
        "  | true count:  1 | false count:  7\n",
        "(u'I', u'stuck')  | true count:  2 | false count:  10\n",
        "(u'longer', u'needed')"
       ]
      },
      {
       "output_type": "stream",
       "stream": "stdout",
       "text": [
        "  | true count:  1 | false count:  4\n",
        "(u'craving', u'pizza')  | true count:  15 | false count:  50\n",
        "(u'really', u'sure')"
       ]
      },
      {
       "output_type": "stream",
       "stream": "stdout",
       "text": [
        "  | true count:  2 | false count:  8\n",
        "(u\"I'm\", u'working')"
       ]
      },
      {
       "output_type": "stream",
       "stream": "stdout",
       "text": [
        "  | true count:  1 | false count:  12\n",
        "(u'like', u'crazy')"
       ]
      },
      {
       "output_type": "stream",
       "stream": "stdout",
       "text": [
        "  | true count:  1 | false count:  5\n",
        "(u'get', u'night')"
       ]
      },
      {
       "output_type": "stream",
       "stream": "stdout",
       "text": [
        "  | true count:  1 | false count:  4\n",
        "(u'I', u\"hadn't\")"
       ]
      },
      {
       "output_type": "stream",
       "stream": "stdout",
       "text": [
        "  | true count:  1 | false count:  4\n",
        "(u\"Here's\", u'hoping')"
       ]
      },
      {
       "output_type": "stream",
       "stream": "stdout",
       "text": [
        "  | true count:  1 | false count:  4\n",
        "(u'soul', u'would')"
       ]
      },
      {
       "output_type": "stream",
       "stream": "stdout",
       "text": [
        "  | true count:  1 | false count:  8\n",
        "(u'decided', u'leave')"
       ]
      },
      {
       "output_type": "stream",
       "stream": "stdout",
       "text": [
        "  | true count:  1 | false count:  4\n",
        "(u'really', u\"don't\")  | true count:  4 | false count:  17\n",
        "(u'happily', u'pay')"
       ]
      },
      {
       "output_type": "stream",
       "stream": "stdout",
       "text": [
        "  | true count:  1 | false count:  6\n",
        "(u'believe', u'I')  | true count:  1 | false count:  6\n",
        "(u'pizza', u'hero')"
       ]
      },
      {
       "output_type": "stream",
       "stream": "stdout",
       "text": [
        "  | true count:  1 | false count:  4\n",
        "(u'decent', u'meal')"
       ]
      },
      {
       "output_type": "stream",
       "stream": "stdout",
       "text": [
        "  | true count:  2 | false count:  10\n",
        "(u'would', u'really')"
       ]
      },
      {
       "output_type": "stream",
       "stream": "stdout",
       "text": [
        "  | true count:  61 | false count:  197\n",
        "(u'really', u'I')"
       ]
      },
      {
       "output_type": "stream",
       "stream": "stdout",
       "text": [
        "  | true count:  1 | false count:  6\n",
        "(u\"don't\", u'like')"
       ]
      },
      {
       "output_type": "stream",
       "stream": "stdout",
       "text": [
        "  | true count:  3 | false count:  13\n",
        "(u'money', u'could')"
       ]
      },
      {
       "output_type": "stream",
       "stream": "stdout",
       "text": [
        "  | true count:  1 | false count:  6\n",
        "(u'kind', u'help')"
       ]
      },
      {
       "output_type": "stream",
       "stream": "stdout",
       "text": [
        "  | true count:  1 | false count:  4\n",
        "(u\"you're\", u'hope')"
       ]
      },
      {
       "output_type": "stream",
       "stream": "stdout",
       "text": [
        "  | true count:  1 | false count:  5\n",
        "(u'pretty', u'bad')"
       ]
      },
      {
       "output_type": "stream",
       "stream": "stdout",
       "text": [
        "  | true count:  1 | false count:  6\n",
        "(u'paycheck', u'I')"
       ]
      },
      {
       "output_type": "stream",
       "stream": "stdout",
       "text": [
        "  | true count:  5 | false count:  1\n",
        "(u'money', u'left')"
       ]
      },
      {
       "output_type": "stream",
       "stream": "stdout",
       "text": [
        "  | true count:  3 | false count:  12\n",
        "(u'I', u'live')"
       ]
      },
      {
       "output_type": "stream",
       "stream": "stdout",
       "text": [
        "  | true count:  48 | false count:  162\n",
        "(u\"couldn't\", u'get')"
       ]
      },
      {
       "output_type": "stream",
       "stream": "stdout",
       "text": [
        "  | true count:  1 | false count:  7\n",
        "(u'little', u'tight')"
       ]
      },
      {
       "output_type": "stream",
       "stream": "stdout",
       "text": [
        "  | true count:  2 | false count:  7\n",
        "(u'would', u'cheer')"
       ]
      },
      {
       "output_type": "stream",
       "stream": "stdout",
       "text": [
        "  | true count:  2 | false count:  12\n",
        "(u'return', u'pizza')"
       ]
      },
      {
       "output_type": "stream",
       "stream": "stdout",
       "text": [
        "  | true count:  1 | false count:  10\n",
        "(u'really', u'appreciate')"
       ]
      },
      {
       "output_type": "stream",
       "stream": "stdout",
       "text": [
        "  | true count:  31 | false count:  100\n",
        "(u'feels', u'like')"
       ]
      },
      {
       "output_type": "stream",
       "stream": "stdout",
       "text": [
        "  | true count:  3 | false count:  13\n",
        "(u'forward', u\"I'm\")"
       ]
      },
      {
       "output_type": "stream",
       "stream": "stdout",
       "text": [
        "  | true count:  1 | false count:  7\n",
        "(u'etc', u'I')"
       ]
      },
      {
       "output_type": "stream",
       "stream": "stdout",
       "text": [
        "  | true count:  1 | false count:  4\n",
        "(u'get', u'chance')"
       ]
      },
      {
       "output_type": "stream",
       "stream": "stdout",
       "text": [
        "  | true count:  2 | false count:  7\n",
        "(u'5', u'years')"
       ]
      },
      {
       "output_type": "stream",
       "stream": "stdout",
       "text": [
        "  | true count:  2 | false count:  8\n",
        "(u'feel', u'bit')"
       ]
      },
      {
       "output_type": "stream",
       "stream": "stdout",
       "text": [
        "  | true count:  1 | false count:  5\n",
        "(u'use', u'little')"
       ]
      },
      {
       "output_type": "stream",
       "stream": "stdout",
       "text": [
        "  | true count:  1 | false count:  4\n",
        "(u'someone', u'would')"
       ]
      },
      {
       "output_type": "stream",
       "stream": "stdout",
       "text": [
        "  | true count:  17 | false count:  53\n",
        "(u'surprise', u'family')"
       ]
      },
      {
       "output_type": "stream",
       "stream": "stdout",
       "text": [
        "  | true count:  4 | false count:  1\n",
        "(u'thank', u'reading')"
       ]
      },
      {
       "output_type": "stream",
       "stream": "stdout",
       "text": [
        "  | true count:  1 | false count:  4\n",
        "(u'friend', u'mine')"
       ]
      },
      {
       "output_type": "stream",
       "stream": "stdout",
       "text": [
        "  | true count:  5 | false count:  18\n",
        "(u'spend', u'last')"
       ]
      },
      {
       "output_type": "stream",
       "stream": "stdout",
       "text": [
        "  | true count:  5 | false count:  1\n",
        "(u'I', u'dropped')"
       ]
      },
      {
       "output_type": "stream",
       "stream": "stdout",
       "text": [
        "  | true count:  1 | false count:  6\n",
        "(u'pizza', u'craving')"
       ]
      },
      {
       "output_type": "stream",
       "stream": "stdout",
       "text": [
        "  | true count:  1 | false count:  5\n",
        "(u'hope', u'someone')"
       ]
      },
      {
       "output_type": "stream",
       "stream": "stdout",
       "text": [
        "  | true count:  3 | false count:  13\n",
        "(u'got', u'first')"
       ]
      },
      {
       "output_type": "stream",
       "stream": "stdout",
       "text": [
        "  | true count:  1 | false count:  5\n",
        "(u'coming', u'back')"
       ]
      },
      {
       "output_type": "stream",
       "stream": "stdout",
       "text": [
        "  | true count:  2 | false count:  8\n",
        "(u'away', u'I')"
       ]
      },
      {
       "output_type": "stream",
       "stream": "stdout",
       "text": [
        "  | true count:  2 | false count:  7\n",
        "(u'friday', u'I')"
       ]
      },
      {
       "output_type": "stream",
       "stream": "stdout",
       "text": [
        "  | true count:  2 | false count:  12\n",
        "(u'pizza', u\"I'm\")"
       ]
      },
      {
       "output_type": "stream",
       "stream": "stdout",
       "text": [
        "  | true count:  3 | false count:  12\n",
        "(u'whatever', u'like')"
       ]
      },
      {
       "output_type": "stream",
       "stream": "stdout",
       "text": [
        "  | true count:  1 | false count:  4\n",
        "(u'money', u'anything')"
       ]
      },
      {
       "output_type": "stream",
       "stream": "stdout",
       "text": [
        "  | true count:  1 | false count:  5\n",
        "(u'wont', u'able')"
       ]
      },
      {
       "output_type": "stream",
       "stream": "stdout",
       "text": [
        "  | true count:  1 | false count:  5\n",
        "(u'hard', u'working')"
       ]
      },
      {
       "output_type": "stream",
       "stream": "stdout",
       "text": [
        "  | true count:  2 | false count:  7\n",
        "(u'I', u'keep')"
       ]
      },
      {
       "output_type": "stream",
       "stream": "stdout",
       "text": [
        "  | true count:  1 | false count:  10\n",
        "(u'spent', u'money')"
       ]
      },
      {
       "output_type": "stream",
       "stream": "stdout",
       "text": [
        "  | true count:  7 | false count:  23\n",
        "(u'know', u\"it's\")"
       ]
      },
      {
       "output_type": "stream",
       "stream": "stdout",
       "text": [
        "  | true count:  3 | false count:  13\n",
        "(u'pizza', u'back')"
       ]
      },
      {
       "output_type": "stream",
       "stream": "stdout",
       "text": [
        "  | true count:  3 | false count:  12\n",
        "(u'meal', u'plan')"
       ]
      },
      {
       "output_type": "stream",
       "stream": "stdout",
       "text": [
        "  | true count:  2 | false count:  8\n",
        "(u'act', u'pizza')"
       ]
      },
      {
       "output_type": "stream",
       "stream": "stdout",
       "text": [
        "  | true count:  6 | false count:  26\n",
        "(u\"We've\", u'got')"
       ]
      },
      {
       "output_type": "stream",
       "stream": "stdout",
       "text": [
        "  | true count:  1 | false count:  4\n",
        "(u'paid', u'I')"
       ]
      },
      {
       "output_type": "stream",
       "stream": "stdout",
       "text": [
        "  | true count:  3 | false count:  10\n",
        "(u'stuffed', u'crust')"
       ]
      },
      {
       "output_type": "stream",
       "stream": "stdout",
       "text": [
        "  | true count:  1 | false count:  7\n",
        "(u'half', u'I')"
       ]
      },
      {
       "output_type": "stream",
       "stream": "stdout",
       "text": [
        "  | true count:  4 | false count:  1\n",
        "(u'someone', u'helps')"
       ]
      },
      {
       "output_type": "stream",
       "stream": "stdout",
       "text": [
        "  | true count:  1 | false count:  6\n",
        "(u'try', u'see')  | true count:  1 | false count:  5\n",
        "(u'Help', u'us')"
       ]
      },
      {
       "output_type": "stream",
       "stream": "stdout",
       "text": [
        "  | true count:  1 | false count:  4\n",
        "(u'I', u'friends')"
       ]
      },
      {
       "output_type": "stream",
       "stream": "stdout",
       "text": [
        "  | true count:  1 | false count:  5\n",
        "(u'help', u'feed')"
       ]
      },
      {
       "output_type": "stream",
       "stream": "stdout",
       "text": [
        "  | true count:  1 | false count:  6\n",
        "(u'To', u'top')"
       ]
      },
      {
       "output_type": "stream",
       "stream": "stdout",
       "text": [
        "  | true count:  1 | false count:  5\n",
        "(u'I', u'owe')"
       ]
      },
      {
       "output_type": "stream",
       "stream": "stdout",
       "text": [
        "  | true count:  2 | false count:  9\n",
        "(u'broke', u'I')"
       ]
      },
      {
       "output_type": "stream",
       "stream": "stdout",
       "text": [
        "  | true count:  6 | false count:  19\n",
        "(u'much', u'appreciated')"
       ]
      },
      {
       "output_type": "stream",
       "stream": "stdout",
       "text": [
        "  | true count:  10 | false count:  46\n",
        "(u'away', u'account')"
       ]
      },
      {
       "output_type": "stream",
       "stream": "stdout",
       "text": [
        "  | true count:  1 | false count:  4\n",
        "(u'get', u'another')"
       ]
      },
      {
       "output_type": "stream",
       "stream": "stdout",
       "text": [
        "  | true count:  1 | false count:  7\n",
        "(u'deserve', u'pizza')"
       ]
      },
      {
       "output_type": "stream",
       "stream": "stdout",
       "text": [
        "  | true count:  4 | false count:  1\n",
        "(u'go', u'see')"
       ]
      },
      {
       "output_type": "stream",
       "stream": "stdout",
       "text": [
        "  | true count:  1 | false count:  4\n",
        "(u'keep', u'us')"
       ]
      },
      {
       "output_type": "stream",
       "stream": "stdout",
       "text": [
        "  | true count:  1 | false count:  6\n",
        "(u'I', u'wont')"
       ]
      },
      {
       "output_type": "stream",
       "stream": "stdout",
       "text": [
        "  | true count:  2 | false count:  14\n",
        "(u'go', u'well')"
       ]
      },
      {
       "output_type": "stream",
       "stream": "stdout",
       "text": [
        "  | true count:  1 | false count:  6\n",
        "(u'right', u'away')"
       ]
      },
      {
       "output_type": "stream",
       "stream": "stdout",
       "text": [
        "  | true count:  1 | false count:  4\n",
        "(u'time', u'get')"
       ]
      },
      {
       "output_type": "stream",
       "stream": "stdout",
       "text": [
        "  | true count:  1 | false count:  4\n",
        "(u\"I've\", u'managed')"
       ]
      },
      {
       "output_type": "stream",
       "stream": "stdout",
       "text": [
        "  | true count:  1 | false count:  4\n",
        "(u'sure', u'I')"
       ]
      },
      {
       "output_type": "stream",
       "stream": "stdout",
       "text": [
        "  | true count:  6 | false count:  20\n",
        "(u'hope', u'works')"
       ]
      },
      {
       "output_type": "stream",
       "stream": "stdout",
       "text": [
        "  | true count:  1 | false count:  6\n",
        "(u'well', u'enough')"
       ]
      },
      {
       "output_type": "stream",
       "stream": "stdout",
       "text": [
        "  | true count:  1 | false count:  4\n",
        "(u'told', u'subreddit')"
       ]
      },
      {
       "output_type": "stream",
       "stream": "stdout",
       "text": [
        "  | true count:  1 | false count:  4\n",
        "(u'get', u'groceries')"
       ]
      },
      {
       "output_type": "stream",
       "stream": "stdout",
       "text": [
        "  | true count:  1 | false count:  7\n",
        "(u'Oh', u'I')"
       ]
      },
      {
       "output_type": "stream",
       "stream": "stdout",
       "text": [
        "  | true count:  2 | false count:  7\n",
        "(u'give', u'shot')"
       ]
      },
      {
       "output_type": "stream",
       "stream": "stdout",
       "text": [
        "  | true count:  6 | false count:  23\n",
        "(u'provide', u'whatever')"
       ]
      },
      {
       "output_type": "stream",
       "stream": "stdout",
       "text": [
        "  | true count:  1 | false count:  4\n",
        "(u'story', u'anything')"
       ]
      },
      {
       "output_type": "stream",
       "stream": "stdout",
       "text": [
        "  | true count:  1 | false count:  6\n",
        "(u'home', u'alone')"
       ]
      },
      {
       "output_type": "stream",
       "stream": "stdout",
       "text": [
        "  | true count:  3 | false count:  12\n",
        "(u'really', u'low')"
       ]
      },
      {
       "output_type": "stream",
       "stream": "stdout",
       "text": [
        "  | true count:  1 | false count:  4\n",
        "(u'whole', u'lot')"
       ]
      },
      {
       "output_type": "stream",
       "stream": "stdout",
       "text": [
        "  | true count:  1 | false count:  10\n",
        "(u\"can't\", u'help')  | true count:  1 | false count:  6\n",
        "(u'We', u\"aren't\")"
       ]
      },
      {
       "output_type": "stream",
       "stream": "stdout",
       "text": [
        "  | true count:  1 | false count:  4\n",
        "(u'I', u'looked')"
       ]
      },
      {
       "output_type": "stream",
       "stream": "stdout",
       "text": [
        "  | true count:  1 | false count:  5\n",
        "(u\"don't\", u'car')"
       ]
      },
      {
       "output_type": "stream",
       "stream": "stdout",
       "text": [
        "  | true count:  1 | false count:  9\n",
        "(u'pizza', u'long')"
       ]
      },
      {
       "output_type": "stream",
       "stream": "stdout",
       "text": [
        "  | true count:  1 | false count:  4\n",
        "(u\"can't\", u'take')"
       ]
      },
      {
       "output_type": "stream",
       "stream": "stdout",
       "text": [
        "  | true count:  1 | false count:  5\n",
        "(u'yesterday', u\"I'm\")"
       ]
      },
      {
       "output_type": "stream",
       "stream": "stdout",
       "text": [
        "  | true count:  1 | false count:  5\n",
        "(u'want', u'I')"
       ]
      },
      {
       "output_type": "stream",
       "stream": "stdout",
       "text": [
        "  | true count:  1 | false count:  7\n",
        "(u'Forgot', u'mention')"
       ]
      },
      {
       "output_type": "stream",
       "stream": "stdout",
       "text": [
        "  | true count:  1 | false count:  4\n",
        "(u'really', u'rough')"
       ]
      },
      {
       "output_type": "stream",
       "stream": "stdout",
       "text": [
        "  | true count:  2 | false count:  7\n",
        "(u'This', u'week')"
       ]
      },
      {
       "output_type": "stream",
       "stream": "stdout",
       "text": [
        "  | true count:  2 | false count:  10\n",
        "(u'please', u'send')"
       ]
      },
      {
       "output_type": "stream",
       "stream": "stdout",
       "text": [
        "  | true count:  2 | false count:  9\n",
        "(u'could', u'get')  | true count:  12 | false count:  45\n",
        "(u'go', u'without')"
       ]
      },
      {
       "output_type": "stream",
       "stream": "stdout",
       "text": [
        "  | true count:  1 | false count:  4\n",
        "(u'would', u'prefer')"
       ]
      },
      {
       "output_type": "stream",
       "stream": "stdout",
       "text": [
        "  | true count:  1 | false count:  4\n",
        "(u'My', u'friends')"
       ]
      },
      {
       "output_type": "stream",
       "stream": "stdout",
       "text": [
        "  | true count:  1 | false count:  10\n",
        "(u'I', u'well')"
       ]
      },
      {
       "output_type": "stream",
       "stream": "stdout",
       "text": [
        "  | true count:  1 | false count:  6\n",
        "(u\"I'm\", u'extremely')  | true count:  1 | false count:  4\n",
        "(u\"I'm\", u'starving')"
       ]
      },
      {
       "output_type": "stream",
       "stream": "stdout",
       "text": [
        "  | true count:  9 | false count:  30\n",
        "(u'Would', u'really')"
       ]
      },
      {
       "output_type": "stream",
       "stream": "stdout",
       "text": [
        "  | true count:  3 | false count:  16\n",
        "(u'willing', u'trade')"
       ]
      },
      {
       "output_type": "stream",
       "stream": "stdout",
       "text": [
        "  | true count:  1 | false count:  6\n",
        "(u'D', u'I')"
       ]
      },
      {
       "output_type": "stream",
       "stream": "stdout",
       "text": [
        "  | true count:  2 | false count:  7\n",
        "(u\"there's\", u'nothing')"
       ]
      },
      {
       "output_type": "stream",
       "stream": "stdout",
       "text": [
        "  | true count:  2 | false count:  10\n",
        "(u'help', u'dinner')"
       ]
      },
      {
       "output_type": "stream",
       "stream": "stdout",
       "text": [
        "  | true count:  1 | false count:  6\n",
        "(u'go', u'pick')"
       ]
      },
      {
       "output_type": "stream",
       "stream": "stdout",
       "text": [
        "  | true count:  1 | false count:  8\n",
        "(u\"it's\", u'I')"
       ]
      },
      {
       "output_type": "stream",
       "stream": "stdout",
       "text": [
        "  | true count:  1 | false count:  4\n",
        "(u'Now', u'I')"
       ]
      },
      {
       "output_type": "stream",
       "stream": "stdout",
       "text": [
        "  | true count:  3 | false count:  14\n",
        "(u\"don't\", u'need')"
       ]
      },
      {
       "output_type": "stream",
       "stream": "stdout",
       "text": [
        "  | true count:  3 | false count:  14\n",
        "(u'kids', u'would')  | true count:  2 | false count:  10\n",
        "(u'I', u'felt')"
       ]
      },
      {
       "output_type": "stream",
       "stream": "stdout",
       "text": [
        "  | true count:  2 | false count:  8\n",
        "(u'eaten', u'today')"
       ]
      },
      {
       "output_type": "stream",
       "stream": "stdout",
       "text": [
        "  | true count:  1 | false count:  6\n",
        "(u'girl', u'pizza')"
       ]
      },
      {
       "output_type": "stream",
       "stream": "stdout",
       "text": [
        "  | true count:  1 | false count:  5\n",
        "(u'really', u'go')"
       ]
      },
      {
       "output_type": "stream",
       "stream": "stdout",
       "text": [
        "  | true count:  1 | false count:  14\n",
        "(u'get', u'foodstamps')"
       ]
      },
      {
       "output_type": "stream",
       "stream": "stdout",
       "text": [
        "  | true count:  1 | false count:  5\n",
        "(u'since', u'beginning')"
       ]
      },
      {
       "output_type": "stream",
       "stream": "stdout",
       "text": [
        "  | true count:  1 | false count:  4\n",
        "(u'could', u'afford')"
       ]
      },
      {
       "output_type": "stream",
       "stream": "stdout",
       "text": [
        "  | true count:  2 | false count:  7\n",
        "(u'local', u'pizza')"
       ]
      },
      {
       "output_type": "stream",
       "stream": "stdout",
       "text": [
        "  | true count:  1 | false count:  4\n",
        "(u'looking', u'job')"
       ]
      },
      {
       "output_type": "stream",
       "stream": "stdout",
       "text": [
        "  | true count:  4 | false count:  16\n",
        "(u'Hi', u'I')"
       ]
      },
      {
       "output_type": "stream",
       "stream": "stdout",
       "text": [
        "  | true count:  2 | false count:  12\n",
        "(u'tonight', u'tomorrow')"
       ]
      },
      {
       "output_type": "stream",
       "stream": "stdout",
       "text": [
        "  | true count:  2 | false count:  10\n",
        "(u'On', u'top')"
       ]
      },
      {
       "output_type": "stream",
       "stream": "stdout",
       "text": [
        "  | true count:  1 | false count:  10\n",
        "(u'College', u'student')  | true count:  1 | false count:  7\n",
        "(u'someone', u'kind')"
       ]
      },
      {
       "output_type": "stream",
       "stream": "stdout",
       "text": [
        "  | true count:  1 | false count:  8\n",
        "(u'would', u'bring')"
       ]
      },
      {
       "output_type": "stream",
       "stream": "stdout",
       "text": [
        "  | true count:  1 | false count:  4\n",
        "(u'crust', u'pizza')"
       ]
      },
      {
       "output_type": "stream",
       "stream": "stdout",
       "text": [
        "  | true count:  1 | false count:  5\n",
        "(u'kids', u'tonight')"
       ]
      },
      {
       "output_type": "stream",
       "stream": "stdout",
       "text": [
        "  | true count:  5 | false count:  1\n",
        "(u'mean', u'I')"
       ]
      },
      {
       "output_type": "stream",
       "stream": "stdout",
       "text": [
        "  | true count:  4 | false count:  1\n",
        "(u'My', u'friend')  | true count:  5 | false count:  31\n",
        "(u'late', u'rent')"
       ]
      },
      {
       "output_type": "stream",
       "stream": "stdout",
       "text": [
        "  | true count:  1 | false count:  4\n",
        "(u'forward', u'Friday')"
       ]
      },
      {
       "output_type": "stream",
       "stream": "stdout",
       "text": [
        "  | true count:  2 | false count:  7\n",
        "(u'would', u'definitely')"
       ]
      },
      {
       "output_type": "stream",
       "stream": "stdout",
       "text": [
        "  | true count:  4 | false count:  19\n",
        "(u'I', u'run')"
       ]
      },
      {
       "output_type": "stream",
       "stream": "stdout",
       "text": [
        "  | true count:  1 | false count:  6\n",
        "(u'another', u'one')"
       ]
      },
      {
       "output_type": "stream",
       "stream": "stdout",
       "text": [
        "  | true count:  1 | false count:  4\n",
        "(u'help', u\"I'd\")"
       ]
      },
      {
       "output_type": "stream",
       "stream": "stdout",
       "text": [
        "  | true count:  3 | false count:  10\n",
        "(u'20', u'years')"
       ]
      },
      {
       "output_type": "stream",
       "stream": "stdout",
       "text": [
        "  | true count:  1 | false count:  4\n",
        "(u'happy', u'pay')"
       ]
      },
      {
       "output_type": "stream",
       "stream": "stdout",
       "text": [
        "  | true count:  3 | false count:  14\n",
        "(u'today', u\"I've\")"
       ]
      },
      {
       "output_type": "stream",
       "stream": "stdout",
       "text": [
        "  | true count:  1 | false count:  5\n",
        "(u'even', u'pizza')"
       ]
      },
      {
       "output_type": "stream",
       "stream": "stdout",
       "text": [
        "  | true count:  1 | false count:  5\n",
        "(u'try', u'pay')"
       ]
      },
      {
       "output_type": "stream",
       "stream": "stdout",
       "text": [
        "  | true count:  1 | false count:  8\n",
        "(u'better', u'pizza')"
       ]
      },
      {
       "output_type": "stream",
       "stream": "stdout",
       "text": [
        "  | true count:  1 | false count:  5\n",
        "(u'friend', u'I')"
       ]
      },
      {
       "output_type": "stream",
       "stream": "stdout",
       "text": [
        "  | true count:  4 | false count:  13\n",
        "(u'something', u'tonight')"
       ]
      },
      {
       "output_type": "stream",
       "stream": "stdout",
       "text": [
        "  | true count:  1 | false count:  4\n",
        "(u'last', u'bit')"
       ]
      },
      {
       "output_type": "stream",
       "stream": "stdout",
       "text": [
        "  | true count:  2 | false count:  10\n",
        "(u'sending', u'pizza')"
       ]
      },
      {
       "output_type": "stream",
       "stream": "stdout",
       "text": [
        "  | true count:  2 | false count:  9\n",
        "(u'I', u'write')"
       ]
      },
      {
       "output_type": "stream",
       "stream": "stdout",
       "text": [
        "  | true count:  2 | false count:  11\n",
        "(u'tomorrow', u'I')"
       ]
      },
      {
       "output_type": "stream",
       "stream": "stdout",
       "text": [
        "  | true count:  9 | false count:  29\n",
        "(u\"I'm\", u'going')"
       ]
      },
      {
       "output_type": "stream",
       "stream": "stdout",
       "text": [
        "  | true count:  17 | false count:  71\n",
        "(u'sitting', u'home')"
       ]
      },
      {
       "output_type": "stream",
       "stream": "stdout",
       "text": [
        "  | true count:  1 | false count:  6\n",
        "(u'past', u'month')"
       ]
      },
      {
       "output_type": "stream",
       "stream": "stdout",
       "text": [
        "  | true count:  4 | false count:  16\n",
        "(u'I', u'longer')  | true count:  1 | false count:  6\n",
        "(u'anyone', u'helps')"
       ]
      },
      {
       "output_type": "stream",
       "stream": "stdout",
       "text": [
        "  | true count:  1 | false count:  6\n",
        "(u\"here's\", u'story')"
       ]
      },
      {
       "output_type": "stream",
       "stream": "stdout",
       "text": [
        "  | true count:  1 | false count:  4\n",
        "(u'No', u'money')"
       ]
      },
      {
       "output_type": "stream",
       "stream": "stdout",
       "text": [
        "  | true count:  2 | false count:  7\n",
        "(u'I', u'lucky')"
       ]
      },
      {
       "output_type": "stream",
       "stream": "stdout",
       "text": [
        "  | true count:  1 | false count:  4\n",
        "(u'verification', u'system')"
       ]
      },
      {
       "output_type": "stream",
       "stream": "stdout",
       "text": [
        "  | true count:  2 | false count:  8\n",
        "(u'make', u'happy')"
       ]
      },
      {
       "output_type": "stream",
       "stream": "stdout",
       "text": [
        "  | true count:  1 | false count:  5\n",
        "(u'something', u'special')"
       ]
      },
      {
       "output_type": "stream",
       "stream": "stdout",
       "text": [
        "  | true count:  1 | false count:  5\n",
        "(u\"doesn't\", u'look')"
       ]
      },
      {
       "output_type": "stream",
       "stream": "stdout",
       "text": [
        "  | true count:  1 | false count:  4\n",
        "(u'money', u'I')"
       ]
      },
      {
       "output_type": "stream",
       "stream": "stdout",
       "text": [
        "  | true count:  19 | false count:  73\n",
        "(u'paid', u'tomorrow')"
       ]
      },
      {
       "output_type": "stream",
       "stream": "stdout",
       "text": [
        "  | true count:  7 | false count:  25\n",
        "(u'Saturday', u'I')"
       ]
      },
      {
       "output_type": "stream",
       "stream": "stdout",
       "text": [
        "  | true count:  1 | false count:  4\n",
        "(u'5', u'hours')"
       ]
      },
      {
       "output_type": "stream",
       "stream": "stdout",
       "text": [
        "  | true count:  1 | false count:  5\n",
        "(u'This', u'first')"
       ]
      },
      {
       "output_type": "stream",
       "stream": "stdout",
       "text": [
        "  | true count:  5 | false count:  37\n",
        "(u'yeah', u'I')"
       ]
      },
      {
       "output_type": "stream",
       "stream": "stdout",
       "text": [
        "  | true count:  1 | false count:  4\n",
        "(u'go', u'school')"
       ]
      },
      {
       "output_type": "stream",
       "stream": "stdout",
       "text": [
        "  | true count:  2 | false count:  12\n",
        "(u'unemployed', u'since')"
       ]
      },
      {
       "output_type": "stream",
       "stream": "stdout",
       "text": [
        "  | true count:  1 | false count:  4\n",
        "(u'So', u\"I'm\")"
       ]
      },
      {
       "output_type": "stream",
       "stream": "stdout",
       "text": [
        "  | true count:  10 | false count:  38\n",
        "(u'bad', u'luck')"
       ]
      },
      {
       "output_type": "stream",
       "stream": "stdout",
       "text": [
        "  | true count:  1 | false count:  5\n",
        "(u\"I'd\", u'happy')"
       ]
      },
      {
       "output_type": "stream",
       "stream": "stdout",
       "text": [
        "  | true count:  4 | false count:  21\n",
        "(u'If', u\"don't\")"
       ]
      },
      {
       "output_type": "stream",
       "stream": "stdout",
       "text": [
        "  | true count:  1 | false count:  5\n",
        "(u'willing', u'give')"
       ]
      },
      {
       "output_type": "stream",
       "stream": "stdout",
       "text": [
        "  | true count:  2 | false count:  8\n",
        "(u'money', u'getting')"
       ]
      },
      {
       "output_type": "stream",
       "stream": "stdout",
       "text": [
        "  | true count:  1 | false count:  5\n",
        "(u'Pizza', u'hut')"
       ]
      },
      {
       "output_type": "stream",
       "stream": "stdout",
       "text": [
        "  | true count:  1 | false count:  5\n",
        "(u'random', u'act')"
       ]
      },
      {
       "output_type": "stream",
       "stream": "stdout",
       "text": [
        "  | true count:  9 | false count:  36\n",
        "(u'got', u'done')"
       ]
      },
      {
       "output_type": "stream",
       "stream": "stdout",
       "text": [
        "  | true count:  1 | false count:  6\n",
        "(u'towards', u'bills')  | true count:  1 | false count:  4\n",
        "(u'Can', u'someone')"
       ]
      },
      {
       "output_type": "stream",
       "stream": "stdout",
       "text": [
        "  | true count:  3 | false count:  11\n",
        "(u'I', u'appreciate')"
       ]
      },
      {
       "output_type": "stream",
       "stream": "stdout",
       "text": [
        "  | true count:  4 | false count:  13\n",
        "(u'hour', u'away')"
       ]
      },
      {
       "output_type": "stream",
       "stream": "stdout",
       "text": [
        "  | true count:  1 | false count:  6\n",
        "(u'share', u'pizza')"
       ]
      },
      {
       "output_type": "stream",
       "stream": "stdout",
       "text": [
        "  | true count:  1 | false count:  8\n",
        "(u'could', u'go')"
       ]
      },
      {
       "output_type": "stream",
       "stream": "stdout",
       "text": [
        "  | true count:  3 | false count:  20\n",
        "(u'house', u'I')"
       ]
      },
      {
       "output_type": "stream",
       "stream": "stdout",
       "text": [
        "  | true count:  4 | false count:  16\n",
        "(u'Me', u'friend')"
       ]
      },
      {
       "output_type": "stream",
       "stream": "stdout",
       "text": [
        "  | true count:  1 | false count:  5\n",
        "(u'buy', u'pizza')"
       ]
      },
      {
       "output_type": "stream",
       "stream": "stdout",
       "text": [
        "  | true count:  12 | false count:  57\n",
        "(u'love', u'pay')"
       ]
      },
      {
       "output_type": "stream",
       "stream": "stdout",
       "text": [
        "  | true count:  4 | false count:  13\n",
        "(u'I', u'afford')"
       ]
      },
      {
       "output_type": "stream",
       "stream": "stdout",
       "text": [
        "  | true count:  2 | false count:  16\n",
        "(u'new', u'city')"
       ]
      },
      {
       "output_type": "stream",
       "stream": "stdout",
       "text": [
        "  | true count:  1 | false count:  5\n",
        "(u'read', u'sidebar')  | true count:  1 | false count:  4\n",
        "(u'us', u'one')"
       ]
      },
      {
       "output_type": "stream",
       "stream": "stdout",
       "text": [
        "  | true count:  1 | false count:  7\n",
        "(u\"don't\", u'food')"
       ]
      },
      {
       "output_type": "stream",
       "stream": "stdout",
       "text": [
        "  | true count:  1 | false count:  7\n",
        "(u'help', u'us')"
       ]
      },
      {
       "output_type": "stream",
       "stream": "stdout",
       "text": [
        "  | true count:  28 | false count:  85\n",
        "(u\"I'm\", u'new')  | true count:  5 | false count:  27\n",
        "(u'money', u'would')"
       ]
      },
      {
       "output_type": "stream",
       "stream": "stdout",
       "text": [
        "  | true count:  1 | false count:  8\n",
        "(u'use', u'pizza')"
       ]
      },
      {
       "output_type": "stream",
       "stream": "stdout",
       "text": [
        "  | true count:  12 | false count:  62\n",
        "(u'could', u'really')"
       ]
      },
      {
       "output_type": "stream",
       "stream": "stdout",
       "text": [
        "  | true count:  22 | false count:  76\n",
        "(u'I', u'post')"
       ]
      },
      {
       "output_type": "stream",
       "stream": "stdout",
       "text": [
        "  | true count:  4 | false count:  13\n",
        "(u'job', u\"I'm\")"
       ]
      },
      {
       "output_type": "stream",
       "stream": "stdout",
       "text": [
        "  | true count:  2 | false count:  9\n",
        "(u'trying', u'get')"
       ]
      },
      {
       "output_type": "stream",
       "stream": "stdout",
       "text": [
        "  | true count:  7 | false count:  26\n",
        "(u'tell', u'story')"
       ]
      },
      {
       "output_type": "stream",
       "stream": "stdout",
       "text": [
        "  | true count:  1 | false count:  5\n",
        "(u'go', u'hungry')"
       ]
      },
      {
       "output_type": "stream",
       "stream": "stdout",
       "text": [
        "  | true count:  3 | false count:  10\n",
        "(u'We', u'three')"
       ]
      },
      {
       "output_type": "stream",
       "stream": "stdout",
       "text": [
        "  | true count:  1 | false count:  4\n",
        "(u'reading', u'I')"
       ]
      },
      {
       "output_type": "stream",
       "stream": "stdout",
       "text": [
        "  | true count:  1 | false count:  6\n",
        "(u'So', u'story')"
       ]
      },
      {
       "output_type": "stream",
       "stream": "stdout",
       "text": [
        "  | true count:  1 | false count:  4\n",
        "(u'reddit', u'help')"
       ]
      },
      {
       "output_type": "stream",
       "stream": "stdout",
       "text": [
        "  | true count:  1 | false count:  4\n",
        "(u'would', u'brighten')"
       ]
      },
      {
       "output_type": "stream",
       "stream": "stdout",
       "text": [
        "  | true count:  1 | false count:  4\n",
        "(u'find', u'new')  | true count:  3 | false count:  11\n",
        "(u\"won't\", u'getting')"
       ]
      },
      {
       "output_type": "stream",
       "stream": "stdout",
       "text": [
        "  | true count:  1 | false count:  6\n",
        "(u'day', u'yesterday')"
       ]
      },
      {
       "output_type": "stream",
       "stream": "stdout",
       "text": [
        "  | true count:  1 | false count:  7\n",
        "(u'good', u'meal')"
       ]
      },
      {
       "output_type": "stream",
       "stream": "stdout",
       "text": [
        "  | true count:  2 | false count:  7\n",
        "(u'trying', u'save')"
       ]
      },
      {
       "output_type": "stream",
       "stream": "stdout",
       "text": [
        "  | true count:  1 | false count:  6\n",
        "(u'many', u'others')"
       ]
      },
      {
       "output_type": "stream",
       "stream": "stdout",
       "text": [
        "  | true count:  1 | false count:  4\n",
        "(u'credit', u'card')"
       ]
      },
      {
       "output_type": "stream",
       "stream": "stdout",
       "text": [
        "  | true count:  9 | false count:  28\n",
        "(u'draw', u'picture')  | true count:  3 | false count:  13\n",
        "(u\"I'm\", u'quite')"
       ]
      },
      {
       "output_type": "stream",
       "stream": "stdout",
       "text": [
        "  | true count:  1 | false count:  5\n",
        "(u\"It's\", u'pretty')  | true count:  1 | false count:  4\n",
        "(u'make', u'ends')"
       ]
      },
      {
       "output_type": "stream",
       "stream": "stdout",
       "text": [
        "  | true count:  4 | false count:  14\n",
        "(u'want', u'get')"
       ]
      },
      {
       "output_type": "stream",
       "stream": "stdout",
       "text": [
        "  | true count:  1 | false count:  5\n",
        "(u\"I'm\", u'super')"
       ]
      },
      {
       "output_type": "stream",
       "stream": "stdout",
       "text": [
        "  | true count:  2 | false count:  7\n",
        "(u'I', u'might')"
       ]
      },
      {
       "output_type": "stream",
       "stream": "stdout",
       "text": [
        "  | true count:  5 | false count:  27\n",
        "(u'7', u'hours')"
       ]
      },
      {
       "output_type": "stream",
       "stream": "stdout",
       "text": [
        "  | true count:  1 | false count:  4\n",
        "(u'birthday', u'I')"
       ]
      },
      {
       "output_type": "stream",
       "stream": "stdout",
       "text": [
        "  | true count:  1 | false count:  6\n",
        "(u'appreciated', u'I')"
       ]
      },
      {
       "output_type": "stream",
       "stream": "stdout",
       "text": [
        "  | true count:  2 | false count:  8\n",
        "(u'back', u'tomorrow')"
       ]
      },
      {
       "output_type": "stream",
       "stream": "stdout",
       "text": [
        "  | true count:  1 | false count:  4\n",
        "(u'egift', u'card')"
       ]
      },
      {
       "output_type": "stream",
       "stream": "stdout",
       "text": [
        "  | true count:  2 | false count:  9\n",
        "(u\"It's\", u'long')"
       ]
      },
      {
       "output_type": "stream",
       "stream": "stdout",
       "text": [
        "  | true count:  1 | false count:  7\n",
        "(u'So', u'today')"
       ]
      },
      {
       "output_type": "stream",
       "stream": "stdout",
       "text": [
        "  | true count:  1 | false count:  5\n",
        "(u'figured', u'I')"
       ]
      },
      {
       "output_type": "stream",
       "stream": "stdout",
       "text": [
        "  | true count:  3 | false count:  15\n",
        "(u\"i'm\", u'really')"
       ]
      },
      {
       "output_type": "stream",
       "stream": "stdout",
       "text": [
        "  | true count:  1 | false count:  6\n",
        "(u'help', u'first')"
       ]
      },
      {
       "output_type": "stream",
       "stream": "stdout",
       "text": [
        "  | true count:  4 | false count:  1\n",
        "(u'keep', u'going')"
       ]
      },
      {
       "output_type": "stream",
       "stream": "stdout",
       "text": [
        "  | true count:  3 | false count:  10\n",
        "(u'So', u'basically')"
       ]
      },
      {
       "output_type": "stream",
       "stream": "stdout",
       "text": [
        "  | true count:  1 | false count:  4\n",
        "(u'enough', u'send')  | true count:  1 | false count:  10\n",
        "(u'job', u\"I've\")"
       ]
      },
      {
       "output_type": "stream",
       "stream": "stdout",
       "text": [
        "  | true count:  1 | false count:  5\n",
        "(u'one', u'I')"
       ]
      },
      {
       "output_type": "stream",
       "stream": "stdout",
       "text": [
        "  | true count:  2 | false count:  15\n",
        "(u'guys', u\"I'm\")"
       ]
      },
      {
       "output_type": "stream",
       "stream": "stdout",
       "text": [
        "  | true count:  2 | false count:  12\n",
        "(u'received', u'pizza')"
       ]
      },
      {
       "output_type": "stream",
       "stream": "stdout",
       "text": [
        "  | true count:  3 | false count:  10\n",
        "(u'take', u'anymore')"
       ]
      },
      {
       "output_type": "stream",
       "stream": "stdout",
       "text": [
        "  | true count:  1 | false count:  4\n",
        "(u'might', u'well')  | true count:  1 | false count:  5\n",
        "(u'papa', u\"john's\")"
       ]
      },
      {
       "output_type": "stream",
       "stream": "stdout",
       "text": [
        "  | true count:  1 | false count:  5\n",
        "(u'three', u'us')  | true count:  1 | false count:  4\n",
        "(u'hard', u'work')"
       ]
      },
      {
       "output_type": "stream",
       "stream": "stdout",
       "text": [
        "  | true count:  1 | false count:  4\n",
        "(u'pick', u'pizza')"
       ]
      },
      {
       "output_type": "stream",
       "stream": "stdout",
       "text": [
        "  | true count:  1 | false count:  5\n",
        "(u'beginning', u'month')"
       ]
      },
      {
       "output_type": "stream",
       "stream": "stdout",
       "text": [
        "  | true count:  1 | false count:  4\n",
        "(u'go', u'get')"
       ]
      },
      {
       "output_type": "stream",
       "stream": "stdout",
       "text": [
        "  | true count:  3 | false count:  10\n",
        "(u'I', u'cut')"
       ]
      },
      {
       "output_type": "stream",
       "stream": "stdout",
       "text": [
        "  | true count:  1 | false count:  4\n",
        "(u\"I'd\", u'love')  | true count:  19 | false count:  61\n",
        "(u'paycheck', u\"isn't\")"
       ]
      },
      {
       "output_type": "stream",
       "stream": "stdout",
       "text": [
        "  | true count:  1 | false count:  4\n",
        "(u'seems', u'like')"
       ]
      },
      {
       "output_type": "stream",
       "stream": "stdout",
       "text": [
        "  | true count:  2 | false count:  11\n",
        "(u'thinking', u'pizza')"
       ]
      },
      {
       "output_type": "stream",
       "stream": "stdout",
       "text": [
        "  | true count:  1 | false count:  5\n",
        "(u'hoping', u'someone')"
       ]
      },
      {
       "output_type": "stream",
       "stream": "stdout",
       "text": [
        "  | true count:  7 | false count:  31\n",
        "(u'awesome', u'someone')"
       ]
      },
      {
       "output_type": "stream",
       "stream": "stdout",
       "text": [
        "  | true count:  1 | false count:  6\n",
        "(u'pizza', u'thought')"
       ]
      },
      {
       "output_type": "stream",
       "stream": "stdout",
       "text": [
        "  | true count:  1 | false count:  4\n",
        "(u'would', u'keep')"
       ]
      },
      {
       "output_type": "stream",
       "stream": "stdout",
       "text": [
        "  | true count:  1 | false count:  4\n",
        "(u'proof', u'I')  | true count:  2 | false count:  9\n",
        "(u'anything', u'since')"
       ]
      },
      {
       "output_type": "stream",
       "stream": "stdout",
       "text": [
        "  | true count:  1 | false count:  6\n",
        "(u'I', u'hungry')"
       ]
      },
      {
       "output_type": "stream",
       "stream": "stdout",
       "text": [
        "  | true count:  4 | false count:  18\n",
        "(u'pizza', u\"don't\")"
       ]
      },
      {
       "output_type": "stream",
       "stream": "stdout",
       "text": [
        "  | true count:  1 | false count:  4\n",
        "(u'A', u'C')"
       ]
      },
      {
       "output_type": "stream",
       "stream": "stdout",
       "text": [
        "  | true count:  1 | false count:  4\n",
        "(u'dinner', u'tonight')"
       ]
      },
      {
       "output_type": "stream",
       "stream": "stdout",
       "text": [
        "  | true count:  11 | false count:  38\n",
        "(u'wallet', u'stolen')"
       ]
      },
      {
       "output_type": "stream",
       "stream": "stdout",
       "text": [
        "  | true count:  1 | false count:  4\n",
        "(u'night', u'I')"
       ]
      },
      {
       "output_type": "stream",
       "stream": "stdout",
       "text": [
        "  | true count:  7 | false count:  32\n",
        "(u'unfortunately', u'I')"
       ]
      },
      {
       "output_type": "stream",
       "stream": "stdout",
       "text": [
        "  | true count:  2 | false count:  8\n",
        "(u'whole', u'life')"
       ]
      },
      {
       "output_type": "stream",
       "stream": "stdout",
       "text": [
        "  | true count:  1 | false count:  5\n",
        "(u'student', u'would')"
       ]
      },
      {
       "output_type": "stream",
       "stream": "stdout",
       "text": [
        "  | true count:  1 | false count:  6\n",
        "(u'say', u'least')"
       ]
      },
      {
       "output_type": "stream",
       "stream": "stdout",
       "text": [
        "  | true count:  1 | false count:  5\n",
        "(u'video', u'game')"
       ]
      },
      {
       "output_type": "stream",
       "stream": "stdout",
       "text": [
        "  | true count:  1 | false count:  4\n",
        "(u'If', u'questions')"
       ]
      },
      {
       "output_type": "stream",
       "stream": "stdout",
       "text": [
        "  | true count:  1 | false count:  6\n",
        "(u'request', u'random')"
       ]
      },
      {
       "output_type": "stream",
       "stream": "stdout",
       "text": [
        "  | true count:  1 | false count:  4\n",
        "(u'end', u'day')"
       ]
      },
      {
       "output_type": "stream",
       "stream": "stdout",
       "text": [
        "  | true count:  4 | false count:  1\n",
        "(u\"it's\", u'one')"
       ]
      },
      {
       "output_type": "stream",
       "stream": "stdout",
       "text": [
        "  | true count:  1 | false count:  4\n",
        "(u'help', u'tonight')"
       ]
      },
      {
       "output_type": "stream",
       "stream": "stdout",
       "text": [
        "  | true count:  2 | false count:  9\n",
        "(u'left', u'food')"
       ]
      },
      {
       "output_type": "stream",
       "stream": "stdout",
       "text": [
        "  | true count:  2 | false count:  8\n",
        "(u'3', u'5')"
       ]
      },
      {
       "output_type": "stream",
       "stream": "stdout",
       "text": [
        "  | true count:  1 | false count:  6\n",
        "(u'either', u'pay')"
       ]
      },
      {
       "output_type": "stream",
       "stream": "stdout",
       "text": [
        "  | true count:  1 | false count:  4\n",
        "(u'would', u'seriously')"
       ]
      },
      {
       "output_type": "stream",
       "stream": "stdout",
       "text": [
        "  | true count:  1 | false count:  6\n",
        "(u'really', u'good')"
       ]
      },
      {
       "output_type": "stream",
       "stream": "stdout",
       "text": [
        "  | true count:  5 | false count:  17\n",
        "(u'suggested', u'I')"
       ]
      },
      {
       "output_type": "stream",
       "stream": "stdout",
       "text": [
        "  | true count:  2 | false count:  9\n",
        "(u\"I'd\", u'grateful')"
       ]
      },
      {
       "output_type": "stream",
       "stream": "stdout",
       "text": [
        "  | true count:  2 | false count:  7\n",
        "(u'bad', u'day')"
       ]
      },
      {
       "output_type": "stream",
       "stream": "stdout",
       "text": [
        "  | true count:  2 | false count:  8\n",
        "(u'unexpected', u'expenses')"
       ]
      },
      {
       "output_type": "stream",
       "stream": "stdout",
       "text": [
        "  | true count:  1 | false count:  4\n",
        "(u'long', u'enough')"
       ]
      },
      {
       "output_type": "stream",
       "stream": "stdout",
       "text": [
        "  | true count:  1 | false count:  4\n"
       ]
      }
     ],
     "prompt_number": 52
    },
    {
     "cell_type": "code",
     "collapsed": false,
     "input": [
      "compare_two_dicts(unigrams_dict_true, unigrams_dict_false)"
     ],
     "language": "python",
     "metadata": {},
     "outputs": [
      {
       "output_type": "stream",
       "stream": "stdout",
       "text": [
        "raining  | true count:  1 | false count:  9\n",
        "four  | true count:  11 | false count:  40\n",
        "hanging  | true count:  1 | false count:  17\n",
        "(except  | true count:  1 | false count:  11\n",
        "tired  | true count:  14 | false count:  47\n",
        "fingers  | true count:  1 | false count:  7\n",
        "menu  | true count:  1 | false count:  7\n",
        "ground  | true count:  1 | false count:  5\n",
        "replace  | true count:  3 | false count:  11\n",
        "music  | true count:  5 | false count:  19\n",
        "strike  | true count:  1 | false count:  4\n",
        "yahoo  | true count:  1 | false count:  4\n",
        "90  | true count:  2 | false count:  11\n",
        "hold  | true count:  9 | false count:  39\n",
        "absolute"
       ]
      },
      {
       "output_type": "stream",
       "stream": "stdout",
       "text": [
        "  | true count:  2 | false count:  7\n",
        "preferably  | true count:  1 | false count:  8\n",
        "complaining  | true count:  1 | false count:  6\n",
        "machine  | true count:  1 | false count:  5\n",
        "how  | true count:  4 | false count:  14\n",
        "cigarettes  | true count:  1 | false count:  4\n",
        "18th  | true count:  1 | false count:  5\n",
        "wine  | true count:  1 | false count:  6\n",
        "school)  | true count:  1 | false count:  5\n",
        "dumps  | true count:  1 | false count:  4\n",
        "ate  | true count:  13 | false count:  48\n",
        "today's  | true count:  1 | false count:  5\n",
        "veggie  | true count:  1 | false count:  5\n",
        "service  | true count:  6 | false count:  20\n",
        "likely"
       ]
      },
      {
       "output_type": "stream",
       "stream": "stdout",
       "text": [
        "  | true count:  3 | false count:  12\n",
        "boston  | true count:  2 | false count:  9\n",
        "shall  | true count:  3 | false count:  12\n",
        "mouth  | true count:  1 | false count:  5\n",
        "episode  | true count:  1 | false count:  8\n",
        "came  | true count:  25 | false count:  80\n",
        "meetings  | true count:  1 | false count:  4\n",
        "orleans  | true count:  1 | false count:  4\n",
        "busy  | true count:  5 | false count:  22\n",
        "cousins  | true count:  1 | false count:  4\n",
        "rich  | true count:  1 | false count:  4\n",
        "midterms  | true count:  1 | false count:  5\n",
        "patch  | true count:  2 | false count:  10\n",
        "respond  | true count:  1 | false count:  9\n",
        "men  | true count:  1 | false count:  6\n",
        "country"
       ]
      },
      {
       "output_type": "stream",
       "stream": "stdout",
       "text": [
        "  | true count:  3 | false count:  20\n",
        "location  | true count:  13 | false count:  57\n",
        "eastern  | true count:  3 | false count:  10\n",
        "worker  | true count:  3 | false count:  12\n",
        "dota  | true count:  1 | false count:  5\n",
        "played  | true count:  1 | false count:  7\n",
        "ease  | true count:  1 | false count:  6\n",
        "had  | true count:  7 | false count:  23\n",
        "east  | true count:  2 | false count:  11\n",
        "possibly  | true count:  8 | false count:  28\n",
        "desire  | true count:  1 | false count:  5\n",
        "soo"
       ]
      },
      {
       "output_type": "stream",
       "stream": "stdout",
       "text": [
        "  | true count:  1 | false count:  5\n",
        "knowing  | true count:  3 | false count:  15\n",
        "wordpress  | true count:  1 | false count:  4\n",
        "paypal  | true count:  10 | false count:  35\n",
        "else's  | true count:  1 | false count:  6\n",
        "inside  | true count:  4 | false count:  13\n",
        "accounting  | true count:  1 | false count:  4\n",
        "crutches  | true count:  1 | false count:  4\n",
        "floor  | true count:  2 | false count:  11\n",
        "whoever  | true count:  3 | false count:  11\n",
        "chair  | true count:  1 | false count:  8\n",
        "paychecks  | true count:  5 | false count:  20\n",
        "minute  | true count:  4 | false count:  13\n",
        "leave  | true count:  19 | false count:  75\n",
        "subway  | true count:  1 | false count:  7\n",
        "team  | true count:  3 | false count:  10\n",
        "alone"
       ]
      },
      {
       "output_type": "stream",
       "stream": "stdout",
       "text": [
        "  | true count:  18 | false count:  71\n",
        "nowhere  | true count:  1 | false count:  12\n",
        "love  | true count:  178 | false count:  543\n",
        "prefer  | true count:  2 | false count:  20\n",
        "loving  | true count:  2 | false count:  8\n",
        "buttered  | true count:  1 | false count:  4\n",
        "suck  | true count:  1 | false count:  9\n",
        "st  | true count:  4 | false count:  13\n",
        "sc  | true count:  1 | false count:  4\n",
        "pulled  | true count:  2 | false count:  7\n",
        "louisville  | true count:  1 | false count:  7\n",
        "year)  | true count:  1 | false count:  7\n",
        "ketchup  | true count:  1 | false count:  5\n",
        "troll"
       ]
      },
      {
       "output_type": "stream",
       "stream": "stdout",
       "text": [
        "  | true count:  1 | false count:  4\n",
        "pizza's  | true count:  1 | false count:  5\n",
        "seriously  | true count:  6 | false count:  25\n",
        "possibility  | true count:  1 | false count:  4\n",
        "complicated  | true count:  1 | false count:  5\n",
        "grandma  | true count:  2 | false count:  9\n",
        "programming  | true count:  1 | false count:  5\n",
        "city  | true count:  10 | false count:  40\n",
        "bite  | true count:  1 | false count:  9\n",
        "stuffed  | true count:  1 | false count:  12\n",
        "typing  | true count:  1 | false count:  5\n",
        "depressed  | true count:  7 | false count:  31\n",
        "turned  | true count:  11 | false count:  35\n",
        "tastes  | true count:  1 | false count:  6\n",
        "saw  | true count:  7 | false count:  24\n",
        "sat  | true count:  1 | false count:  8\n",
        "take  | true count:  54 | false count:  183\n",
        "pages"
       ]
      },
      {
       "output_type": "stream",
       "stream": "stdout",
       "text": [
        "  | true count:  1 | false count:  6\n",
        "drive  | true count:  12 | false count:  45\n",
        "salt  | true count:  1 | false count:  4\n",
        "scarce  | true count:  1 | false count:  9\n",
        "worried  | true count:  2 | false count:  11\n",
        "guitar  | true count:  2 | false count:  10\n",
        "allowance  | true count:  1 | false count:  7\n",
        "anti  | true count:  1 | false count:  5\n",
        "boat  | true count:  1 | false count:  4\n",
        "west  | true count:  3 | false count:  10\n",
        "photos  | true count:  4 | false count:  13\n",
        "contract  | true count:  1 | false count:  15\n",
        "verified  | true count:  1 | false count:  8\n",
        "rest"
       ]
      },
      {
       "output_type": "stream",
       "stream": "stdout",
       "text": [
        "  | true count:  17 | false count:  63\n",
        "weekly  | true count:  1 | false count:  5\n",
        "starving  | true count:  31 | false count:  109\n",
        "dark  | true count:  2 | false count:  12\n",
        "grub  | true count:  1 | false count:  7\n",
        "thinks  | true count:  1 | false count:  7\n",
        "internship  | true count:  2 | false count:  9\n",
        "package  | true count:  7 | false count:  2\n",
        "tumor  | true count:  1 | false count:  4\n",
        "act  | true count:  11 | false count:  51\n",
        "image  | true count:  1 | false count:  4\n",
        "homeless  | true count:  5 | false count:  35\n",
        "complete"
       ]
      },
      {
       "output_type": "stream",
       "stream": "stdout",
       "text": [
        "  | true count:  4 | false count:  13\n",
        "land  | true count:  2 | false count:  8\n",
        "survived  | true count:  1 | false count:  4\n",
        "buying  | true count:  10 | false count:  33\n",
        "october  | true count:  3 | false count:  11\n",
        "age  | true count:  3 | false count:  10\n",
        "exhausted  | true count:  1 | false count:  19\n",
        "am  | true count:  1 | false count:  9\n",
        "watched  | true count:  1 | false count:  4\n",
        "cream  | true count:  2 | false count:  8\n",
        "gifts  | true count:  3 | false count:  10\n",
        "original  | true count:  2 | false count:  10\n",
        "caused  | true count:  2 | false count:  10\n",
        "tv  | true count:  5 | false count:  17\n",
        "laughing  | true count:  1 | false count:  4\n",
        "tn  | true count:  3 | false count:  11\n",
        "to  | true count:  14 | false count:  51\n",
        "hooking"
       ]
      },
      {
       "output_type": "stream",
       "stream": "stdout",
       "text": [
        "  | true count:  4 | false count:  1\n",
        "joined  | true count:  1 | false count:  6\n",
        "november  | true count:  1 | false count:  9\n",
        "experience  | true count:  3 | false count:  18\n",
        "pick  | true count:  18 | false count:  62\n",
        "via  | true count:  4 | false count:  24\n",
        "science  | true count:  2 | false count:  9\n",
        "male  | true count:  2 | false count:  11\n",
        "beautiful  | true count:  5 | false count:  16\n",
        "accept  | true count:  2 | false count:  14\n",
        "dress"
       ]
      },
      {
       "output_type": "stream",
       "stream": "stdout",
       "text": [
        "  | true count:  1 | false count:  4\n",
        "(they  | true count:  1 | false count:  7\n",
        "refuse  | true count:  1 | false count:  5\n",
        "gesture  | true count:  1 | false count:  6\n",
        "its  | true count:  7 | false count:  23\n",
        "missed  | true count:  7 | false count:  26\n",
        "research  | true count:  1 | false count:  7\n",
        "sell"
       ]
      },
      {
       "output_type": "stream",
       "stream": "stdout",
       "text": [
        "  | true count:  6 | false count:  19\n",
        "play  | true count:  5 | false count:  26\n",
        "understands  | true count:  1 | false count:  4\n",
        "they'd  | true count:  1 | false count:  5\n",
        "preparing  | true count:  1 | false count:  7\n",
        "prospects  | true count:  1 | false count:  4\n",
        "whole  | true count:  19 | false count:  64\n",
        "loaf  | true count:  4 | false count:  1\n",
        "fire"
       ]
      },
      {
       "output_type": "stream",
       "stream": "stdout",
       "text": [
        "  | true count:  3 | false count:  10\n",
        "handling  | true count:  1 | false count:  4\n",
        "straight  | true count:  5 | false count:  17\n",
        "hoping  | true count:  34 | false count:  140\n",
        "funny  | true count:  3 | false count:  14\n",
        "rules  | true count:  2 | false count:  8\n",
        "money's  | true count:  1 | false count:  5\n",
        "amp  | true count:  37 | false count:  119\n",
        "sidebar  | true count:  3 | false count:  11\n",
        "parents  | true count:  32 | false count:  102\n",
        "shitty  | true count:  8 | false count:  37\n",
        "by"
       ]
      },
      {
       "output_type": "stream",
       "stream": "stdout",
       "text": [
        "  | true count:  1 | false count:  7\n",
        "deserved  | true count:  1 | false count:  4\n",
        "netflix  | true count:  1 | false count:  8\n",
        "deserves  | true count:  2 | false count:  9\n",
        "repair  | true count:  1 | false count:  12\n",
        "line  | true count:  2 | false count:  12\n",
        "uk  | true count:  6 | false count:  32\n",
        "scrape  | true count:  2 | false count:  7\n",
        "spaghetti"
       ]
      },
      {
       "output_type": "stream",
       "stream": "stdout",
       "text": [
        "  | true count:  3 | false count:  14\n",
        "led  | true count:  1 | false count:  4\n",
        "explain  | true count:  3 | false count:  11\n",
        "doubt  | true count:  2 | false count:  8\n",
        "fulfill  | true count:  2 | false count:  11\n",
        "(yes  | true count:  1 | false count:  4\n",
        "pieces  | true count:  1 | false count:  7\n",
        "delay  | true count:  1 | false count:  4\n",
        "houston"
       ]
      },
      {
       "output_type": "stream",
       "stream": "stdout",
       "text": [
        "  | true count:  1 | false count:  5\n",
        "wife's  | true count:  1 | false count:  5\n",
        "degrees  | true count:  1 | false count:  12\n",
        "realize  | true count:  5 | false count:  21\n",
        "(that  | true count:  1 | false count:  8\n",
        "owned  | true count:  1 | false count:  4\n",
        "owner  | true count:  2 | false count:  8\n",
        "ordering  | true count:  3 | false count:  17\n",
        "system  | true count:  9 | false count:  30\n",
        "bother  | true count:  1 | false count:  8\n",
        "necessities  | true count:  1 | false count:  7\n",
        "studying"
       ]
      },
      {
       "output_type": "stream",
       "stream": "stdout",
       "text": [
        "  | true count:  14 | false count:  59\n",
        "bring  | true count:  8 | false count:  30\n",
        "jaw  | true count:  1 | false count:  5\n",
        "jar  | true count:  1 | false count:  4\n",
        "riding  | true count:  1 | false count:  5\n",
        "lucky  | true count:  4 | false count:  22\n",
        "ohio  | true count:  7 | false count:  24\n",
        "packed  | true count:  2 | false count:  8\n",
        "ends  | true count:  7 | false count:  23\n",
        "figured  | true count:  15 | false count:  60\n",
        "co  | true count:  5 | false count:  16\n",
        "ct"
       ]
      },
      {
       "output_type": "stream",
       "stream": "stdout",
       "text": [
        "  | true count:  1 | false count:  8\n",
        "atlanta  | true count:  1 | false count:  13\n",
        "emotionally  | true count:  1 | false count:  8\n",
        "(also  | true count:  1 | false count:  6\n",
        "paul  | true count:  1 | false count:  5\n",
        "wed  | true count:  1 | false count:  7\n",
        "government  | true count:  3 | false count:  11\n",
        "five  | true count:  3 | false count:  20\n",
        "(on  | true count:  1 | false count:  4\n",
        "become  | true count:  4 | false count:  14\n",
        "literally"
       ]
      },
      {
       "output_type": "stream",
       "stream": "stdout",
       "text": [
        "  | true count:  16 | false count:  49\n",
        "stage  | true count:  1 | false count:  5\n",
        "letters  | true count:  1 | false count:  4\n",
        "lung  | true count:  1 | false count:  4\n",
        "naturally  | true count:  1 | false count:  5\n",
        "delivery  | true count:  11 | false count:  41\n",
        "count  | true count:  1 | false count:  8\n",
        "places  | true count:  9 | false count:  39\n",
        "convince  | true count:  1 | false count:  9\n",
        "rule  | true count:  1 | false count:  4\n",
        "rural  | true count:  1 | false count:  5\n",
        "bike"
       ]
      },
      {
       "output_type": "stream",
       "stream": "stdout",
       "text": [
        "  | true count:  2 | false count:  12\n",
        "worth  | true count:  15 | false count:  50\n",
        "we'll  | true count:  11 | false count:  36\n",
        "handout  | true count:  1 | false count:  4\n",
        "phones  | true count:  1 | false count:  5\n",
        "chef  | true count:  2 | false count:  7\n",
        "7th  | true count:  1 | false count:  4\n",
        "told  | true count:  30 | false count:  99\n",
        "itunes  | true count:  1 | false count:  5\n",
        "smoke  | true count:  1 | false count:  7\n",
        "highly  | true count:  1 | false count:  5\n",
        "haha  | true count:  4 | false count:  18\n",
        "word  | true count:  5 | false count:  16\n",
        "il  | true count:  2 | false count:  8\n",
        "verify  | true count:  6 | false count:  19\n",
        "nuts  | true count:  1 | false count:  5\n",
        "fever"
       ]
      },
      {
       "output_type": "stream",
       "stream": "stdout",
       "text": [
        "  | true count:  2 | false count:  10\n",
        "law  | true count:  3 | false count:  13\n",
        "japan  | true count:  1 | false count:  4\n",
        "somewhere  | true count:  4 | false count:  14\n",
        "coffee  | true count:  3 | false count:  14\n",
        "safe  | true count:  2 | false count:  8\n",
        "rocks  | true count:  4 | false count:  1\n",
        "hooked  | true count:  1 | false count:  5\n",
        "medicine  | true count:  2 | false count:  9\n",
        "festival  | true count:  1 | false count:  4\n",
        "(as  | true count:  1 | false count:  6\n",
        "electronic  | true count:  1 | false count:  7\n",
        "dogs"
       ]
      },
      {
       "output_type": "stream",
       "stream": "stdout",
       "text": [
        "  | true count:  7 | false count:  22\n",
        "wasted  | true count:  1 | false count:  5\n",
        "forced  | true count:  1 | false count:  12\n",
        "aunt  | true count:  1 | false count:  6\n",
        "deliciousness  | true count:  1 | false count:  6\n",
        "runs  | true count:  1 | false count:  8\n",
        "miserable"
       ]
      },
      {
       "output_type": "stream",
       "stream": "stdout",
       "text": [
        "  | true count:  1 | false count:  5\n",
        "away  | true count:  49 | false count:  164\n",
        "boyardee  | true count:  1 | false count:  5\n",
        "drawn  | true count:  1 | false count:  7\n",
        "wi  | true count:  1 | false count:  6\n",
        "kitchen  | true count:  7 | false count:  24\n",
        "essentially  | true count:  1 | false count:  11\n",
        "tons  | true count:  3 | false count:  10\n",
        "speak  | true count:  4 | false count:  13\n",
        "swell  | true count:  1 | false count:  4\n",
        "hang  | true count:  3 | false count:  17\n",
        "evil  | true count:  1 | false count:  5\n",
        "condiments  | true count:  1 | false count:  7\n",
        "contact"
       ]
      },
      {
       "output_type": "stream",
       "stream": "stdout",
       "text": [
        "  | true count:  1 | false count:  9\n",
        "the  | true count:  80 | false count:  243\n",
        "she'll  | true count:  1 | false count:  4\n",
        "toys  | true count:  1 | false count:  4\n",
        "adorable  | true count:  4 | false count:  1\n",
        "accepts  | true count:  1 | false count:  4\n",
        "fight  | true count:  1 | false count:  11\n",
        "was  | true count:  3 | false count:  14\n",
        "becoming  | true count:  1 | false count:  6\n",
        "dead"
       ]
      },
      {
       "output_type": "stream",
       "stream": "stdout",
       "text": [
        "  | true count:  2 | false count:  11\n",
        "true  | true count:  6 | false count:  19\n",
        "medication  | true count:  3 | false count:  11\n",
        "interested  | true count:  8 | false count:  27\n",
        "test  | true count:  6 | false count:  28\n",
        "let's  | true count:  3 | false count:  12\n",
        "(you  | true count:  1 | false count:  4\n",
        "battle  | true count:  4 | false count:  1\n",
        "zone  | true count:  1 | false count:  4\n",
        "trouble  | true count:  5 | false count:  18\n",
        "satisfy  | true count:  1 | false count:  4\n",
        "supporting  | true count:  1 | false count:  5\n",
        "prove"
       ]
      },
      {
       "output_type": "stream",
       "stream": "stdout",
       "text": [
        "  | true count:  8 | false count:  28\n",
        "live  | true count:  92 | false count:  282\n",
        "can  | true count:  21 | false count:  67\n",
        "topic  | true count:  1 | false count:  6\n",
        "heard  | true count:  14 | false count:  48\n",
        "freezer  | true count:  3 | false count:  18\n",
        "write  | true count:  12 | false count:  47\n",
        "economy  | true count:  1 | false count:  17\n",
        "whenever  | true count:  2 | false count:  8\n",
        "serving  | true count:  1 | false count:  4\n",
        "now  | true count:  19 | false count:  64\n",
        "er"
       ]
      },
      {
       "output_type": "stream",
       "stream": "stdout",
       "text": [
        "  | true count:  4 | false count:  20\n",
        "opened  | true count:  1 | false count:  10\n",
        "cars  | true count:  2 | false count:  7\n",
        "care  | true count:  27 | false count:  84\n",
        "message  | true count:  7 | false count:  33\n",
        "tomorrow  | true count:  92 | false count:  289\n",
        "friend  | true count:  38 | false count:  218\n",
        "mostly  | true count:  6 | false count:  22\n",
        "that  | true count:  14 | false count:  47\n",
        "png  | true count:  1 | false count:  10\n",
        "apples"
       ]
      },
      {
       "output_type": "stream",
       "stream": "stdout",
       "text": [
        "  | true count:  1 | false count:  5\n",
        "offering  | true count:  2 | false count:  13\n",
        "online  | true count:  13 | false count:  42\n",
        "begin  | true count:  3 | false count:  15\n",
        "america  | true count:  1 | false count:  11\n",
        "discovered  | true count:  1 | false count:  4\n",
        "(this  | true count:  1 | false count:  4\n",
        "asleep  | true count:  1 | false count:  10\n",
        "notice  | true count:  2 | false count:  17\n",
        "daddy  | true count:  1 | false count:  4\n",
        "nearby  | true count:  3 | false count:  19\n",
        "150"
       ]
      },
      {
       "output_type": "stream",
       "stream": "stdout",
       "text": [
        "  | true count:  1 | false count:  4\n",
        "trick  | true count:  1 | false count:  6\n",
        "donating  | true count:  2 | false count:  7\n",
        "media  | true count:  2 | false count:  8\n",
        "closest  | true count:  1 | false count:  10\n",
        "severe  | true count:  2 | false count:  11\n",
        "charged  | true count:  1 | false count:  5\n",
        "desktop  | true count:  1 | false count:  4\n",
        "treatment  | true count:  1 | false count:  5\n",
        "gonna  | true count:  13 | false count:  42\n",
        "recorded"
       ]
      },
      {
       "output_type": "stream",
       "stream": "stdout",
       "text": [
        "  | true count:  1 | false count:  4\n",
        "leftover  | true count:  8 | false count:  1\n",
        "chow  | true count:  1 | false count:  5\n",
        "your  | true count:  2 | false count:  11\n",
        "area  | true count:  22 | false count:  101\n",
        "lol  | true count:  8 | false count:  27\n",
        "delayed  | true count:  2 | false count:  9\n",
        "cabinets  | true count:  1 | false count:  8\n",
        "very"
       ]
      },
      {
       "output_type": "stream",
       "stream": "stdout",
       "text": [
        "  | true count:  1 | false count:  11\n",
        "decide  | true count:  2 | false count:  14\n",
        "papajohns  | true count:  1 | false count:  4\n",
        "strong  | true count:  2 | false count:  11\n",
        "lurker  | true count:  8 | false count:  32\n",
        "family  | true count:  88 | false count:  278\n",
        "va  | true count:  1 | false count:  10\n",
        "injury  | true count:  2 | false count:  10\n",
        "stayed  | true count:  2 | false count:  9\n",
        "fl"
       ]
      },
      {
       "output_type": "stream",
       "stream": "stdout",
       "text": [
        "  | true count:  1 | false count:  8\n",
        "overnight  | true count:  1 | false count:  7\n",
        "anytime  | true count:  1 | false count:  5\n",
        "banks  | true count:  1 | false count:  6\n",
        "dream  | true count:  2 | false count:  21\n",
        "photoshop  | true count:  2 | false count:  10\n",
        "sooo  | true count:  1 | false count:  5\n",
        "yr  | true count:  2 | false count:  10\n",
        "fully  | true count:  2 | false count:  11\n",
        "sustain  | true count:  1 | false count:  4\n",
        "houses  | true count:  1 | false count:  5\n",
        "reason  | true count:  13 | false count:  56\n",
        "base  | true count:  1 | false count:  5\n",
        "terrible  | true count:  7 | false count:  42\n",
        "interviews  | true count:  4 | false count:  15\n",
        "miss  | true count:  7 | false count:  32\n",
        "station"
       ]
      },
      {
       "output_type": "stream",
       "stream": "stdout",
       "text": [
        "  | true count:  3 | false count:  13\n",
        "hundred  | true count:  2 | false count:  9\n",
        "selling  | true count:  4 | false count:  14\n",
        "finances  | true count:  2 | false count:  9\n",
        "randomly  | true count:  1 | false count:  11\n",
        "philly  | true count:  2 | false count:  8\n",
        "lie  | true count:  3 | false count:  19\n",
        "clear  | true count:  3 | false count:  15\n",
        "clean  | true count:  4 | false count:  13\n",
        "feels  | true count:  7 | false count:  23\n",
        "boost"
       ]
      },
      {
       "output_type": "stream",
       "stream": "stdout",
       "text": [
        "  | true count:  3 | false count:  10\n",
        "throwing  | true count:  2 | false count:  13\n",
        "funeral  | true count:  2 | false count:  13\n",
        "expendable  | true count:  1 | false count:  4\n",
        "battery  | true count:  6 | false count:  1\n",
        "whatever  | true count:  21 | false count:  75\n",
        "lives  | true count:  6 | false count:  32\n",
        "canadian  | true count:  2 | false count:  7\n",
        "while  | true count:  7 | false count:  22\n",
        "guide  | true count:  1 | false count:  7\n",
        "albany"
       ]
      },
      {
       "output_type": "stream",
       "stream": "stdout",
       "text": [
        "  | true count:  1 | false count:  4\n",
        "anymore  | true count:  12 | false count:  39\n",
        "bonus  | true count:  8 | false count:  2\n",
        "friends  | true count:  47 | false count:  187\n",
        "older  | true count:  2 | false count:  16\n",
        "obviously  | true count:  3 | false count:  23\n",
        "quarters  | true count:  1 | false count:  5\n",
        "praying  | true count:  1 | false count:  4\n",
        "remaining  | true count:  1 | false count:  4\n",
        "lacking  | true count:  1 | false count:  5\n",
        "game  | true count:  14 | false count:  44\n",
        "wings  | true count:  1 | false count:  10\n",
        "some  | true count:  6 | false count:  32\n",
        "28th  | true count:  1 | false count:  6\n",
        "rut  | true count:  4 | false count:  1\n",
        "faith  | true count:  5 | false count:  18\n",
        "idk  | true count:  1 | false count:  4\n",
        "info"
       ]
      },
      {
       "output_type": "stream",
       "stream": "stdout",
       "text": [
        "  | true count:  8 | false count:  39\n",
        "adults  | true count:  2 | false count:  10\n",
        "draw  | true count:  17 | false count:  57\n",
        "kansas  | true count:  1 | false count:  7\n",
        "practically  | true count:  1 | false count:  4\n",
        "she'd  | true count:  2 | false count:  9\n",
        "go  | true count:  131 | false count:  404\n",
        "friendly  | true count:  1 | false count:  9\n",
        "kitty  | true count:  2 | false count:  7\n",
        "facebook  | true count:  3 | false count:  23\n",
        "telling  | true count:  5 | false count:  20\n",
        "sausage"
       ]
      },
      {
       "output_type": "stream",
       "stream": "stdout",
       "text": [
        "  | true count:  3 | false count:  10\n",
        "wallet  | true count:  9 | false count:  44\n",
        "cell  | true count:  3 | false count:  15\n",
        "host  | true count:  1 | false count:  4\n",
        "weren't  | true count:  2 | false count:  7\n",
        "manage  | true count:  3 | false count:  13\n",
        "crap  | true count:  2 | false count:  15\n",
        "vehicle  | true count:  2 | false count:  8\n",
        "popped  | true count:  4 | false count:  1\n",
        "started  | true count:  28 | false count:  88\n",
        "ride  | true count:  5 | false count:  21\n",
        "mom's  | true count:  1 | false count:  9\n",
        "control  | true count:  2 | false count:  7\n",
        "redditors  | true count:  12 | false count:  60\n",
        "basement"
       ]
      },
      {
       "output_type": "stream",
       "stream": "stdout",
       "text": [
        "  | true count:  1 | false count:  8\n",
        "won't  | true count:  47 | false count:  145\n",
        "university  | true count:  13 | false count:  50\n",
        "staying  | true count:  10 | false count:  45\n",
        "special  | true count:  11 | false count:  35\n",
        "randomactsofpizza  | true count:  2 | false count:  12\n",
        "one's  | true count:  1 | false count:  4\n",
        "resumes  | true count:  1 | false count:  5\n",
        "bitch  | true count:  2 | false count:  7\n",
        "management  | true count:  1 | false count:  4\n",
        "attack  | true count:  1 | false count:  5\n",
        "ankle"
       ]
      },
      {
       "output_type": "stream",
       "stream": "stdout",
       "text": [
        "  | true count:  2 | false count:  10\n",
        "final  | true count:  3 | false count:  28\n",
        "exactly  | true count:  9 | false count:  37\n",
        "that'll  | true count:  1 | false count:  5\n",
        "predicament  | true count:  1 | false count:  4\n",
        "tire  | true count:  1 | false count:  10\n",
        "brighten  | true count:  5 | false count:  25\n",
        "fuel  | true count:  3 | false count:  11\n",
        "michigan  | true count:  4 | false count:  14\n",
        "humans"
       ]
      },
      {
       "output_type": "stream",
       "stream": "stdout",
       "text": [
        "  | true count:  1 | false count:  8\n",
        "desperate  | true count:  7 | false count:  28\n",
        "horrible  | true count:  3 | false count:  13\n",
        "neither  | true count:  3 | false count:  12\n",
        "attention  | true count:  1 | false count:  6\n",
        "police  | true count:  1 | false count:  4\n",
        "precious  | true count:  4 | false count:  1\n",
        "months)  | true count:  1 | false count:  4\n",
        "quit  | true count:  6 | false count:  22\n",
        "addition  | true count:  1 | false count:  7\n",
        "username  | true count:  1 | false count:  14\n",
        "(she's  | true count:  1 | false count:  6\n",
        "sustenance  | true count:  1 | false count:  5\n",
        "tapped"
       ]
      },
      {
       "output_type": "stream",
       "stream": "stdout",
       "text": [
        "  | true count:  2 | false count:  7\n",
        "variety  | true count:  1 | false count:  4\n",
        "kick  | true count:  4 | false count:  16\n",
        "necessary  | true count:  3 | false count:  18\n",
        "ring  | true count:  1 | false count:  4\n",
        "page  | true count:  1 | false count:  26\n",
        "library  | true count:  2 | false count:  13\n",
        "shes  | true count:  1 | false count:  10\n",
        "toppings  | true count:  2 | false count:  10\n",
        "washington"
       ]
      },
      {
       "output_type": "stream",
       "stream": "stdout",
       "text": [
        "  | true count:  2 | false count:  16\n",
        "noticed  | true count:  2 | false count:  12\n",
        "north  | true count:  5 | false count:  18\n",
        "hr  | true count:  1 | false count:  4\n",
        "ear  | true count:  1 | false count:  7\n",
        "eat  | true count:  124 | false count:  377\n",
        "he  | true count:  33 | false count:  115\n",
        "signed  | true count:  3 | false count:  10\n",
        "stories  | true count:  4 | false count:  21\n",
        "(i've  | true count:  1 | false count:  4\n",
        "education  | true count:  2 | false count:  9\n",
        "additionally  | true count:  4 | false count:  1\n",
        "void"
       ]
      },
      {
       "output_type": "stream",
       "stream": "stdout",
       "text": [
        "  | true count:  1 | false count:  4\n",
        "georgia  | true count:  2 | false count:  14\n",
        "heading  | true count:  2 | false count:  11\n",
        "clothes  | true count:  2 | false count:  8\n",
        "me)  | true count:  1 | false count:  10\n",
        "net  | true count:  3 | false count:  10\n",
        "slices  | true count:  4 | false count:  13\n",
        "warm"
       ]
      },
      {
       "output_type": "stream",
       "stream": "stdout",
       "text": [
        "  | true count:  10 | false count:  32\n",
        "room  | true count:  17 | false count:  72\n",
        "untill  | true count:  1 | false count:  5\n",
        "before  | true count:  1 | false count:  11\n",
        "meat  | true count:  7 | false count:  31\n",
        "luck  | true count:  20 | false count:  73\n",
        "skint  | true count:  1 | false count:  4\n",
        "content"
       ]
      },
      {
       "output_type": "stream",
       "stream": "stdout",
       "text": [
        "  | true count:  1 | false count:  5\n",
        "starts  | true count:  7 | false count:  24\n",
        "arrived  | true count:  1 | false count:  6\n",
        "anxiety  | true count:  2 | false count:  8\n",
        "deserving  | true count:  2 | false count:  12\n",
        "mini  | true count:  4 | false count:  1\n",
        "mine  | true count:  13 | false count:  41\n",
        "tells  | true count:  2 | false count:  12\n",
        "regular  | true count:  4 | false count:  14\n",
        "zealand  | true count:  1 | false count:  4\n",
        "subreddit"
       ]
      },
      {
       "output_type": "stream",
       "stream": "stdout",
       "text": [
        "  | true count:  35 | false count:  107\n",
        "weekends  | true count:  1 | false count:  5\n",
        "folks  | true count:  8 | false count:  25\n",
        "bar  | true count:  4 | false count:  19\n",
        "bay  | true count:  1 | false count:  6\n",
        "decided  | true count:  24 | false count:  77\n",
        "cousin  | true count:  2 | false count:  7\n",
        "suggested  | true count:  3 | false count:  13\n",
        "uni  | true count:  2 | false count:  17\n",
        "asks  | true count:  1 | false count:  5\n",
        "tiny  | true count:  2 | false count:  13\n",
        "lovely  | true count:  5 | false count:  19\n",
        "website  | true count:  8 | false count:  27\n",
        "ugly"
       ]
      },
      {
       "output_type": "stream",
       "stream": "stdout",
       "text": [
        "  | true count:  1 | false count:  4\n",
        "suppose  | true count:  4 | false count:  15\n",
        "chilling  | true count:  1 | false count:  6\n",
        "seven  | true count:  1 | false count:  6\n",
        "is  | true count:  7 | false count:  22\n",
        "iv  | true count:  1 | false count:  5\n",
        "cant  | true count:  9 | false count:  30\n",
        "bottles  | true count:  1 | false count:  4\n",
        "vegetable  | true count:  1 | false count:  5\n",
        "opportunity  | true count:  4 | false count:  14\n",
        "kid  | true count:  5 | false count:  29\n",
        "800  | true count:  1 | false count:  5\n",
        "givers  | true count:  1 | false count:  6\n",
        "yes  | true count:  6 | false count:  23\n",
        "save  | true count:  16 | false count:  51\n",
        "dreams"
       ]
      },
      {
       "output_type": "stream",
       "stream": "stdout",
       "text": [
        "  | true count:  2 | false count:  9\n",
        "dear  | true count:  1 | false count:  10\n",
        "microwave  | true count:  1 | false count:  6\n",
        "track  | true count:  2 | false count:  9\n",
        "valentines  | true count:  1 | false count:  4\n",
        "failure  | true count:  1 | false count:  4\n",
        "tucson  | true count:  1 | false count:  7\n",
        "shit"
       ]
      },
      {
       "output_type": "stream",
       "stream": "stdout",
       "text": [
        "  | true count:  9 | false count:  39\n",
        "digital  | true count:  1 | false count:  14\n",
        "pizzas  | true count:  13 | false count:  46\n",
        "assume  | true count:  1 | false count:  7\n",
        "daily  | true count:  1 | false count:  6\n",
        "teeth  | true count:  1 | false count:  4\n",
        "21st  | true count:  1 | false count:  6\n",
        "yummy  | true count:  3 | false count:  10\n",
        "staples  | true count:  5 | false count:  1\n",
        "did  | true count:  1 | false count:  4\n",
        "it'll  | true count:  3 | false count:  21\n",
        "heres"
       ]
      },
      {
       "output_type": "stream",
       "stream": "stdout",
       "text": [
        "  | true count:  1 | false count:  8\n",
        "favour  | true count:  5 | false count:  26\n",
        "transportation  | true count:  3 | false count:  11\n",
        "boy  | true count:  3 | false count:  15\n",
        "battling  | true count:  1 | false count:  4\n",
        "thru  | true count:  2 | false count:  8\n",
        "effort  | true count:  1 | false count:  7\n",
        "flu  | true count:  2 | false count:  9\n",
        "soul  | true count:  9 | false count:  38\n",
        "fuck  | true count:  2 | false count:  14\n",
        "till  | true count:  25 | false count:  92\n",
        "nyc"
       ]
      },
      {
       "output_type": "stream",
       "stream": "stdout",
       "text": [
        "  | true count:  3 | false count:  14\n",
        "max  | true count:  1 | false count:  4\n",
        "borrowing  | true count:  4 | false count:  1\n",
        "switch  | true count:  1 | false count:  4\n",
        "nearly  | true count:  6 | false count:  24\n",
        "seeing  | true count:  8 | false count:  32\n",
        "pointed  | true count:  1 | false count:  4\n",
        "irene  | true count:  1 | false count:  6\n",
        "group  | true count:  3 | false count:  15\n",
        "main  | true count:  5 | false count:  18\n",
        "sooner  | true count:  1 | false count:  6\n",
        "morning  | true count:  24 | false count:  90\n",
        "canada  | true count:  5 | false count:  38\n",
        "earlier"
       ]
      },
      {
       "output_type": "stream",
       "stream": "stdout",
       "text": [
        "  | true count:  7 | false count:  23\n",
        "language  | true count:  1 | false count:  4\n",
        "question  | true count:  1 | false count:  9\n",
        "suspended  | true count:  1 | false count:  5\n",
        "honesty  | true count:  1 | false count:  4\n",
        "slept  | true count:  2 | false count:  8\n",
        "gta  | true count:  1 | false count:  5\n",
        "eyes  | true count:  1 | false count:  5\n",
        "11  | true count:  7 | false count:  27\n",
        "14  | true count:  3 | false count:  10\n",
        "16  | true count:  3 | false count:  14\n",
        "normal"
       ]
      },
      {
       "output_type": "stream",
       "stream": "stdout",
       "text": [
        "  | true count:  3 | false count:  14\n",
        "shop  | true count:  4 | false count:  24\n",
        "drawings  | true count:  1 | false count:  4\n",
        "requesting  | true count:  8 | false count:  31\n",
        "across  | true count:  6 | false count:  26\n",
        "cancer"
       ]
      },
      {
       "output_type": "stream",
       "stream": "stdout",
       "text": [
        "  | true count:  5 | false count:  17\n",
        "arts  | true count:  1 | false count:  4\n",
        "eventually  | true count:  2 | false count:  7\n",
        "sleeping  | true count:  4 | false count:  13\n",
        "everyday  | true count:  2 | false count:  10\n",
        "different  | true count:  12 | false count:  39\n",
        "doctor  | true count:  4 | false count:  15\n",
        "assist  | true count:  1 | false count:  5\n",
        "amazed  | true count:  1 | false count:  4\n",
        "wifey"
       ]
      },
      {
       "output_type": "stream",
       "stream": "stdout",
       "text": [
        "  | true count:  1 | false count:  4\n",
        "pile  | true count:  2 | false count:  7\n",
        "grim  | true count:  1 | false count:  4\n",
        "images  | true count:  2 | false count:  7\n",
        "gross  | true count:  1 | false count:  4\n",
        "meaning  | true count:  3 | false count:  17\n",
        "coupon  | true count:  3 | false count:  15\n",
        "girlfriend"
       ]
      },
      {
       "output_type": "stream",
       "stream": "stdout",
       "text": [
        "  | true count:  36 | false count:  114\n",
        "deed  | true count:  1 | false count:  6\n",
        "field  | true count:  1 | false count:  5\n",
        "returning  | true count:  2 | false count:  10\n",
        "pre  | true count:  1 | false count:  10\n",
        "zero  | true count:  4 | false count:  13\n",
        "promising"
       ]
      },
      {
       "output_type": "stream",
       "stream": "stdout",
       "text": [
        "  | true count:  1 | false count:  4\n",
        "stretching  | true count:  1 | false count:  5\n",
        "wiped  | true count:  1 | false count:  8\n",
        "strain  | true count:  1 | false count:  4\n",
        "share  | true count:  15 | false count:  56\n",
        "heck"
       ]
      },
      {
       "output_type": "stream",
       "stream": "stdout",
       "text": [
        "  | true count:  1 | false count:  9\n",
        "playing  | true count:  3 | false count:  30\n",
        "suffer  | true count:  1 | false count:  10\n",
        "26  | true count:  1 | false count:  4\n",
        "23  | true count:  4 | false count:  14\n",
        "28  | true count:  1 | false count:  6\n",
        "hurting  | true count:  5 | false count:  1\n",
        "walls  | true count:  1 | false count:  4\n",
        "mental  | true count:  1 | false count:  10\n",
        "house"
       ]
      },
      {
       "output_type": "stream",
       "stream": "stdout",
       "text": [
        "  | true count:  76 | false count:  279\n",
        "fish  | true count:  2 | false count:  7\n",
        "idea  | true count:  16 | false count:  57\n",
        "lovers  | true count:  1 | false count:  10\n",
        "they'll  | true count:  1 | false count:  9\n",
        "print  | true count:  1 | false count:  5\n",
        "pathetic  | true count:  1 | false count:  10\n",
        "members  | true count:  2 | false count:  10\n",
        "beginning  | true count:  4 | false count:  16\n",
        "done  | true count:  28 | false count:  91\n",
        "cups  | true count:  6 | false count:  1\n",
        "twenty  | true count:  1 | false count:  5\n",
        "paint  | true count:  2 | false count:  13\n",
        "dentist  | true count:  1 | false count:  4\n",
        "doctors  | true count:  2 | false count:  9\n",
        "believe  | true count:  11 | false count:  36\n",
        "youth  | true count:  1 | false count:  5\n",
        "interactive  | true count:  5"
       ]
      },
      {
       "output_type": "stream",
       "stream": "stdout",
       "text": [
        " | false count:  1\n",
        "orders  | true count:  1 | false count:  9\n",
        "build  | true count:  1 | false count:  8\n",
        "most  | true count:  1 | false count:  9\n",
        "extremely  | true count:  10 | false count:  44\n",
        "fine  | true count:  13 | false count:  45\n",
        "please  | true count:  94 | false count:  319\n",
        "donate"
       ]
      },
      {
       "output_type": "stream",
       "stream": "stdout",
       "text": [
        "  | true count:  7 | false count:  28\n",
        "restaurant  | true count:  5 | false count:  16\n",
        "alot  | true count:  4 | false count:  15\n",
        "point  | true count:  23 | false count:  81\n",
        "expensive  | true count:  5 | false count:  16\n",
        "ireland  | true count:  1 | false count:  6\n",
        "metro  | true count:  1 | false count:  8\n",
        "cents  | true count:  6 | false count:  27\n",
        "keys  | true count:  2 | false count:  10\n",
        "mom"
       ]
      },
      {
       "output_type": "stream",
       "stream": "stdout",
       "text": [
        "  | true count:  41 | false count:  137\n",
        "alternative  | true count:  1 | false count:  5\n",
        "letting  | true count:  3 | false count:  13\n",
        "cut  | true count:  11 | false count:  35\n",
        "cuz  | true count:  1 | false count:  5\n",
        "snap  | true count:  1 | false count:  6\n",
        "hates  | true count:  1 | false count:  4\n",
        "big  | true count:  21 | false count:  75\n",
        "matters  | true count:  2 | false count:  11\n",
        "decision  | true count:  2 | false count:  11\n",
        "per  | true count:  2 | false count:  12\n",
        "ontario"
       ]
      },
      {
       "output_type": "stream",
       "stream": "stdout",
       "text": [
        "  | true count:  3 | false count:  15\n",
        "favourite  | true count:  1 | false count:  8\n",
        "helps  | true count:  10 | false count:  35\n",
        "depression"
       ]
      },
      {
       "output_type": "stream",
       "stream": "stdout",
       "text": [
        "  | true count:  7 | false count:  22\n",
        "giving  | true count:  13 | false count:  54\n",
        "body  | true count:  2 | false count:  11\n",
        "packing  | true count:  1 | false count:  11\n",
        "private  | true count:  1 | false count:  10\n",
        "train  | true count:  1 | false count:  10\n",
        "closing  | true count:  1 | false count:  7\n",
        "snacks  | true count:  1 | false count:  5\n",
        "bunch"
       ]
      },
      {
       "output_type": "stream",
       "stream": "stdout",
       "text": [
        "  | true count:  4 | false count:  34\n",
        "labor  | true count:  2 | false count:  11\n",
        "mate  | true count:  1 | false count:  8\n",
        "math  | true count:  1 | false count:  6\n",
        "embarrassed"
       ]
      },
      {
       "output_type": "stream",
       "stream": "stdout",
       "text": [
        "  | true count:  5 | false count:  16\n",
        "comfortable  | true count:  1 | false count:  6\n",
        "tide  | true count:  1 | false count:  11\n",
        "have  | true count:  8 | false count:  36\n",
        "stranded  | true count:  1 | false count:  4\n",
        "alternator"
       ]
      },
      {
       "output_type": "stream",
       "stream": "stdout",
       "text": [
        "  | true count:  1 | false count:  4\n",
        "text  | true count:  1 | false count:  7\n",
        "5pm  | true count:  1 | false count:  5\n",
        "bear  | true count:  2 | false count:  10\n",
        "calling  | true count:  2 | false count:  17\n",
        "exists  | true count:  1 | false count:  9\n",
        "theres  | true count:  1 | false count:  6\n",
        "routine  | true count:  1 | false count:  4\n",
        "progress  | true count:  1 | false count:  5\n",
        "choose"
       ]
      },
      {
       "output_type": "stream",
       "stream": "stdout",
       "text": [
        "  | true count:  2 | false count:  11\n",
        "general  | true count:  6 | false count:  19\n",
        "walks  | true count:  1 | false count:  5\n",
        "injured  | true count:  2 | false count:  8\n",
        "sisters  | true count:  2 | false count:  12\n",
        "stores  | true count:  2 | false count:  9\n",
        "work)  | true count:  1 | false count:  5\n",
        "match  | true count:  1 | false count:  5\n",
        "tests  | true count:  3 | false count:  14\n",
        "boyfriend's"
       ]
      },
      {
       "output_type": "stream",
       "stream": "stdout",
       "text": [
        "  | true count:  2 | false count:  8\n",
        "works  | true count:  26 | false count:  87\n",
        "alive  | true count:  3 | false count:  10\n",
        "proper  | true count:  3 | false count:  12\n",
        "hurricane  | true count:  2 | false count:  8\n",
        "shelter  | true count:  1 | false count:  15\n",
        "screwed  | true count:  4 | false count:  15\n",
        "pepper  | true count:  1 | false count:  4\n",
        "although  | true count:  2 | false count:  14\n",
        "snapped  | true count:  1 | false count:  4\n",
        "actual  | true count:  1 | false count:  14\n",
        "childrens  | true count:  1 | false count:  5\n",
        "female  | true count:  1 | false count:  6\n",
        "biggest  | true count:  1 | false count:  4\n",
        "bus  | true count:  6 | false count:  33\n",
        "wise"
       ]
      },
      {
       "output_type": "stream",
       "stream": "stdout",
       "text": [
        "  | true count:  4 | false count:  14\n",
        "detail  | true count:  1 | false count:  7\n",
        "limited  | true count:  4 | false count:  18\n",
        "catch  | true count:  1 | false count:  11\n",
        "feeding  | true count:  4 | false count:  13\n",
        "cakeday  | true count:  1 | false count:  4\n",
        "direct"
       ]
      },
      {
       "output_type": "stream",
       "stream": "stdout",
       "text": [
        "  | true count:  3 | false count:  13\n",
        "street  | true count:  3 | false count:  23\n",
        "leaves  | true count:  3 | false count:  15\n",
        "changed  | true count:  3 | false count:  10\n",
        "meats  | true count:  1 | false count:  5\n",
        "me  | true count:  14 | false count:  44\n",
        "ms  | true count:  2 | false count:  13\n",
        "sitting"
       ]
      },
      {
       "output_type": "stream",
       "stream": "stdout",
       "text": [
        "  | true count:  13 | false count:  63\n",
        "mouths  | true count:  1 | false count:  4\n",
        "london  | true count:  1 | false count:  8\n",
        "video  | true count:  7 | false count:  40\n",
        "destroyed  | true count:  1 | false count:  4\n",
        "400  | true count:  2 | false count:  8\n",
        "17th  | true count:  1 | false count:  4\n",
        "rental  | true count:  1 | false count:  7\n",
        "saturday  | true count:  12 | false count:  38\n",
        "god  | true count:  15 | false count:  47\n",
        "day)  | true count:  1 | false count:  5\n",
        "newly  | true count:  1 | false count:  5\n",
        "arizona"
       ]
      },
      {
       "output_type": "stream",
       "stream": "stdout",
       "text": [
        "  | true count:  1 | false count:  7\n",
        "free  | true count:  28 | false count:  120\n",
        "rain  | true count:  2 | false count:  9\n",
        "soda  | true count:  2 | false count:  12\n",
        "top  | true count:  20 | false count:  64\n",
        "frankly  | true count:  1 | false count:  7\n",
        "mother"
       ]
      },
      {
       "output_type": "stream",
       "stream": "stdout",
       "text": [
        "  | true count:  29 | false count:  88\n",
        "coin  | true count:  1 | false count:  4\n",
        "metal  | true count:  1 | false count:  5\n",
        "minnesota  | true count:  1 | false count:  4\n",
        "wedding  | true count:  1 | false count:  13\n",
        "bed  | true count:  10 | false count:  40\n",
        "games"
       ]
      },
      {
       "output_type": "stream",
       "stream": "stdout",
       "text": [
        "  | true count:  6 | false count:  27\n",
        "jobless  | true count:  2 | false count:  10\n",
        "beef  | true count:  1 | false count:  4\n",
        "been  | true count:  14 | false count:  45\n",
        "beer  | true count:  2 | false count:  9\n",
        "drugs  | true count:  1 | false count:  4\n",
        "several  | true count:  11 | false count:  42\n",
        "hearts"
       ]
      },
      {
       "output_type": "stream",
       "stream": "stdout",
       "text": [
        "  | true count:  1 | false count:  4\n",
        "laptop  | true count:  2 | false count:  8\n",
        "bands  | true count:  1 | false count:  4\n",
        "55  | true count:  1 | false count:  6\n",
        "orlando  | true count:  1 | false count:  4\n",
        "ice  | true count:  2 | false count:  9\n",
        "discount"
       ]
      },
      {
       "output_type": "stream",
       "stream": "stdout",
       "text": [
        "  | true count:  1 | false count:  5\n",
        "efforts  | true count:  1 | false count:  4\n",
        "cafeteria  | true count:  1 | false count:  11\n",
        "hear  | true count:  3 | false count:  17\n",
        "removed  | true count:  1 | false count:  10\n",
        "no  | true count:  28 | false count:  92\n",
        "nc  | true count:  2 | false count:  12\n",
        "til"
       ]
      },
      {
       "output_type": "stream",
       "stream": "stdout",
       "text": [
        "  | true count:  6 | false count:  40\n",
        "ny  | true count:  2 | false count:  18\n",
        "nz  | true count:  1 | false count:  5\n",
        "setting  | true count:  1 | false count:  6\n",
        "papers  | true count:  1 | false count:  8\n",
        "football  | true count:  1 | false count:  5\n",
        "serious  | true count:  4 | false count:  19\n",
        "neighbors  | true count:  1 | false count:  9\n",
        "focus  | true count:  1 | false count:  4\n",
        "agreed  | true count:  1 | false count:  6\n",
        "cook  | true count:  19 | false count:  59\n",
        "cool  | true count:  9 | false count:  48\n",
        "pork  | true count:  1 | false count:  5\n",
        "drinks"
       ]
      },
      {
       "output_type": "stream",
       "stream": "stdout",
       "text": [
        "  | true count:  1 | false count:  5\n",
        "reply  | true count:  2 | false count:  8\n",
        "exams  | true count:  5 | false count:  19\n",
        "stated  | true count:  2 | false count:  8\n",
        "iphone  | true count:  1 | false count:  4\n",
        "pickle  | true count:  1 | false count:  4\n",
        "fourth"
       ]
      },
      {
       "output_type": "stream",
       "stream": "stdout",
       "text": [
        "  | true count:  1 | false count:  4\n",
        "birthday  | true count:  30 | false count:  100\n",
        "awkward  | true count:  1 | false count:  6\n",
        "he's  | true count:  25 | false count:  97\n",
        "he'd  | true count:  4 | false count:  1\n",
        "delighted  | true count:  1 | false count:  4\n",
        "name  | true count:  28 | false count:  92\n",
        "raleigh"
       ]
      },
      {
       "output_type": "stream",
       "stream": "stdout",
       "text": [
        "  | true count:  1 | false count:  4\n",
        "given  | true count:  5 | false count:  32\n",
        "hug  | true count:  1 | false count:  4\n",
        "season  | true count:  3 | false count:  11\n",
        "huh  | true count:  1 | false count:  11\n",
        "alas  | true count:  2 | false count:  10\n",
        "copy  | true count:  3 | false count:  10\n",
        "cards  | true count:  9 | false count:  30\n",
        "dining  | true count:  4 | false count:  13\n",
        "donation"
       ]
      },
      {
       "output_type": "stream",
       "stream": "stdout",
       "text": [
        "  | true count:  1 | false count:  6\n",
        "hungry  | true count:  112 | false count:  362\n",
        "written  | true count:  1 | false count:  5\n",
        "freaking  | true count:  2 | false count:  7\n",
        "y'all  | true count:  1 | false count:  10\n",
        "ability  | true count:  2 | false count:  7\n",
        "outside  | true count:  7 | false count:  35\n",
        "key"
       ]
      },
      {
       "output_type": "stream",
       "stream": "stdout",
       "text": [
        "  | true count:  1 | false count:  9\n",
        "color  | true count:  1 | false count:  7\n",
        "pop  | true count:  3 | false count:  10\n",
        "robbed  | true count:  1 | false count:  4\n",
        "macaroni  | true count:  1 | false count:  5\n",
        "magical"
       ]
      },
      {
       "output_type": "stream",
       "stream": "stdout",
       "text": [
        "  | true count:  1 | false count:  5\n",
        "relief  | true count:  1 | false count:  9\n",
        "slice  | true count:  7 | false count:  31\n",
        "mood  | true count:  6 | false count:  22\n",
        "oh"
       ]
      },
      {
       "output_type": "stream",
       "stream": "stdout",
       "text": [
        "  | true count:  14 | false count:  54\n",
        "stand  | true count:  3 | false count:  12\n",
        "or  | true count:  7 | false count:  29\n",
        "roomate  | true count:  1 | false count:  5\n",
        "taste  | true count:  3 | false count:  17\n",
        "stumbled  | true count:  1 | false count:  5\n",
        "idiot  | true count:  2 | false count:  10\n",
        "siblings"
       ]
      },
      {
       "output_type": "stream",
       "stream": "stdout",
       "text": [
        "  | true count:  2 | false count:  14\n",
        "fat  | true count:  2 | false count:  7\n",
        "sons  | true count:  1 | false count:  5\n",
        "fan  | true count:  2 | false count:  14\n",
        "awful  | true count:  4 | false count:  17\n",
        "grandfather  | true count:  1 | false count:  7\n",
        "ten  | true count:  1 | false count:  11\n",
        "tea  | true count:  1 | false count:  6\n",
        "design  | true count:  4 | false count:  17\n",
        "what  | true count:  8 | false count:  25\n",
        "deeply  | true count:  1 | false count:  4\n",
        "crust  | true count:  4 | false count:  21\n",
        "hungover"
       ]
      },
      {
       "output_type": "stream",
       "stream": "stdout",
       "text": [
        "  | true count:  1 | false count:  5\n",
        "semester  | true count:  13 | false count:  40\n",
        "munchies  | true count:  1 | false count:  5\n",
        "stick  | true count:  2 | false count:  9\n",
        "known  | true count:  2 | false count:  11\n",
        "breaking  | true count:  1 | false count:  15\n",
        "sandwich  | true count:  5 | false count:  19\n",
        "okay  | true count:  11 | false count:  34\n",
        "disabled"
       ]
      },
      {
       "output_type": "stream",
       "stream": "stdout",
       "text": [
        "  | true count:  3 | false count:  15\n",
        "sale  | true count:  1 | false count:  5\n",
        "soccer  | true count:  1 | false count:  4\n",
        "might  | true count:  27 | false count:  86\n",
        "needless  | true count:  1 | false count:  19\n",
        "alcohol  | true count:  1 | false count:  6\n",
        "health  | true count:  6 | false count:  19\n",
        "wisconsin  | true count:  1 | false count:  5\n",
        "thrown  | true count:  1 | false count:  5\n",
        "lol)"
       ]
      },
      {
       "output_type": "stream",
       "stream": "stdout",
       "text": [
        "  | true count:  1 | false count:  5\n",
        "domino's  | true count:  13 | false count:  44\n",
        "store  | true count:  15 | false count:  47\n",
        "hotel  | true count:  3 | false count:  16\n",
        "cleaned  | true count:  1 | false count:  6\n",
        "electric"
       ]
      },
      {
       "output_type": "stream",
       "stream": "stdout",
       "text": [
        "  | true count:  3 | false count:  10\n",
        "reach  | true count:  2 | false count:  9\n",
        "70  | true count:  2 | false count:  7\n",
        "barter  | true count:  1 | false count:  4\n",
        "pennies  | true count:  1 | false count:  7\n",
        "hip  | true count:  1 | false count:  6\n",
        "art  | true count:  7 | false count:  29\n",
        "arm  | true count:  1 | false count:  4\n",
        "license"
       ]
      },
      {
       "output_type": "stream",
       "stream": "stdout",
       "text": [
        "  | true count:  2 | false count:  13\n",
        "became  | true count:  1 | false count:  8\n",
        "finds  | true count:  1 | false count:  5\n",
        "sweet  | true count:  4 | false count:  19\n",
        "ps  | true count:  3 | false count:  11\n",
        "pc  | true count:  1 | false count:  4\n",
        "pa  | true count:  1 | false count:  12\n",
        "woke  | true count:  5 | false count:  18\n",
        "stolen  | true count:  5 | false count:  20\n",
        "homework  | true count:  1 | false count:  15\n",
        "daughters  | true count:  1 | false count:  8\n",
        "anybody"
       ]
      },
      {
       "output_type": "stream",
       "stream": "stdout",
       "text": [
        "  | true count:  8 | false count:  29\n",
        "5am  | true count:  1 | false count:  4\n",
        "workers  | true count:  1 | false count:  7\n",
        "collect  | true count:  6 | false count:  1\n",
        "fucking  | true count:  5 | false count:  18\n",
        "meds  | true count:  1 | false count:  5\n",
        "wanna  | true count:  11 | false count:  35\n",
        "services"
       ]
      },
      {
       "output_type": "stream",
       "stream": "stdout",
       "text": [
        "  | true count:  2 | false count:  9\n",
        "stitches  | true count:  1 | false count:  4\n",
        "fast  | true count:  5 | false count:  23\n",
        "say  | true count:  32 | false count:  124\n",
        "problems  | true count:  10 | false count:  31\n",
        "'za"
       ]
      },
      {
       "output_type": "stream",
       "stream": "stdout",
       "text": [
        "  | true count:  1 | false count:  6\n",
        "issues  | true count:  9 | false count:  30\n",
        "drinking  | true count:  4 | false count:  14\n",
        "smaller  | true count:  1 | false count:  5\n",
        "month's  | true count:  2 | false count:  7\n",
        "dad's"
       ]
      },
      {
       "output_type": "stream",
       "stream": "stdout",
       "text": [
        "  | true count:  1 | false count:  7\n",
        "from  | true count:  1 | false count:  12\n",
        "musician  | true count:  1 | false count:  5\n",
        "infection  | true count:  2 | false count:  7\n",
        "women  | true count:  1 | false count:  5\n",
        "anywhere  | true count:  6 | false count:  22\n",
        "tax  | true count:  1 | false count:  14\n",
        "sit  | true count:  2 | false count:  20\n",
        "six  | true count:  5 | false count:  17\n",
        "cheaper"
       ]
      },
      {
       "output_type": "stream",
       "stream": "stdout",
       "text": [
        "  | true count:  1 | false count:  6\n",
        "daycare  | true count:  5 | false count:  1\n",
        "light  | true count:  4 | false count:  23\n",
        "holiday  | true count:  6 | false count:  20\n",
        "crash  | true count:  1 | false count:  5\n",
        "related  | true count:  3 | false count:  18\n",
        "80  | true count:  2 | false count:  7\n",
        "southern"
       ]
      },
      {
       "output_type": "stream",
       "stream": "stdout",
       "text": [
        "  | true count:  2 | false count:  14\n",
        "4th  | true count:  2 | false count:  15\n",
        "priority  | true count:  1 | false count:  4\n",
        "swollen  | true count:  1 | false count:  5\n",
        "boring  | true count:  1 | false count:  6\n",
        "afraid  | true count:  2 | false count:  8\n",
        "looked"
       ]
      },
      {
       "output_type": "stream",
       "stream": "stdout",
       "text": [
        "  | true count:  3 | false count:  12\n",
        "limit  | true count:  1 | false count:  5\n",
        "joy  | true count:  1 | false count:  8\n",
        "april"
       ]
      },
      {
       "output_type": "stream",
       "stream": "stdout",
       "text": [
        "  | true count:  2 | false count:  11\n",
        "wall  | true count:  2 | false count:  9\n",
        "table  | true count:  2 | false count:  10\n",
        "decent  | true count:  9 | false count:  39\n",
        "bbq  | true count:  1 | false count:  4\n",
        "halp  | true count:  1 | false count:  4\n",
        "encouragement  | true count:  1 | false count:  5\n",
        "perhaps  | true count:  2 | false count:  13\n",
        "promo  | true count:  1 | false count:  4\n",
        "helpful"
       ]
      },
      {
       "output_type": "stream",
       "stream": "stdout",
       "text": [
        "  | true count:  3 | false count:  12\n",
        "because  | true count:  2 | false count:  16\n",
        "employment  | true count:  4 | false count:  14\n",
        "fear  | true count:  2 | false count:  9\n",
        "owe  | true count:  5 | false count:  17\n",
        "fired  | true count:  5 | false count:  22\n",
        "transfer  | true count:  3 | false count:  10\n",
        "yeah"
       ]
      },
      {
       "output_type": "stream",
       "stream": "stdout",
       "text": [
        "  | true count:  12 | false count:  44\n",
        "whether  | true count:  6 | false count:  19\n",
        "record  | true count:  2 | false count:  9\n",
        "cake  | true count:  2 | false count:  10\n",
        "other  | true count:  2 | false count:  7\n",
        "junk  | true count:  1 | false count:  4\n",
        "kinda  | true count:  13 | false count:  43\n"
       ]
      }
     ],
     "prompt_number": 53
    },
    {
     "cell_type": "code",
     "collapsed": false,
     "input": [
      "number_comments_true = data[data['requester_received_pizza'] == True].request_number_of_comments_at_retrieval\n",
      "number_comments_false = data[data['requester_received_pizza'] == False].request_number_of_comments_at_retrieval\n",
      "\n",
      "number_of_upvotes_true = data[data['requester_received_pizza'] == True].number_of_upvotes_of_request_at_retrieval\n",
      "number_of_upvotes_false = data[data['requester_received_pizza'] == False].number_of_upvotes_of_request_at_retrieval\n",
      "\n",
      "number_of_downvotes_true = data[data['requester_received_pizza'] == True].number_of_downvotes_of_request_at_retrieval\n",
      "number_of_downvotes_false = data[data['requester_received_pizza'] == False].number_of_downvotes_of_request_at_retrieval\n",
      "\n",
      "account_age_true = data[data['requester_received_pizza'] == True].requester_account_age_in_days_at_request\n",
      "account_age_false = data[data['requester_received_pizza'] == False].requester_account_age_in_days_at_request\n",
      "\n",
      "number_of_posts_other_subs_true = data[data['requester_received_pizza'] == True].requester_number_of_subreddits_at_request\n",
      "number_of_posts_other_subs_false = data[data['requester_received_pizza'] == False].requester_number_of_subreddits_at_request\n",
      "\n",
      "difference_votes_retrieval_true = data[data['requester_received_pizza'] == True].requester_upvotes_minus_downvotes_at_retrieval\n",
      "difference_votes_retrieval_false = data[data['requester_received_pizza'] == False].requester_upvotes_minus_downvotes_at_retrieval\n",
      "\n",
      "sum_votes_retrieval_true = data[data['requester_received_pizza'] == True].requester_upvotes_plus_downvotes_at_retrieval\n",
      "sum_votes_retrieval_false = data[data['requester_received_pizza'] == False].requester_upvotes_plus_downvotes_at_retrieval\n",
      "\n",
      "num_posts_retrieval_true = data[data['requester_received_pizza'] == True].requester_number_of_posts_at_retrieval\n",
      "num_posts_retrieval_false = data[data['requester_received_pizza'] == False].requester_number_of_posts_at_retrieval\n",
      "\n",
      "\n",
      "\n"
     ],
     "language": "python",
     "metadata": {},
     "outputs": [],
     "prompt_number": 86
    },
    {
     "cell_type": "code",
     "collapsed": false,
     "input": [
      "def print_stats(true, false):\n",
      "\n",
      "    print \"median when receiving pizza: \", true.median()\n",
      "    print \"median when not receiving pizza: \", false.median()\n",
      "    print \"\\nmean when receiving pizza: \", true.mean()\n",
      "    print \"mean when not receiving pizza: \", false.mean()\n",
      "    print \"\\nstddev when receiving pizza: \", true.std()\n",
      "    print \"stddev when not receiving pizza: \", false.std()"
     ],
     "language": "python",
     "metadata": {},
     "outputs": [],
     "prompt_number": 87
    },
    {
     "cell_type": "code",
     "collapsed": false,
     "input": [
      "print \"------number of comments at retreival: \\n\"\n",
      "print_stats(number_comments_true, number_comments_false)\n",
      "\n",
      "print \"\\n------number of upvotes at retreival: \\n\"\n",
      "print_stats(number_of_upvotes_true, number_of_upvotes_false)\n",
      "\n",
      "print \"\\n------number of downvotes at retrieval: \\n\"\n",
      "print_stats(number_of_downvotes_true, number_of_downvotes_false)\n",
      "\n",
      "print \"\\n------account age at request: \\n\"\n",
      "print_stats(account_age_true, account_age_false)\n",
      "\n",
      "print \"\\n------number of posts in other subs: \\n\"\n",
      "print_stats(number_of_posts_other_subs_true, number_of_posts_other_subs_false)\n",
      "\n",
      "print \"\\n------difference in votes at retrieval: \\n\"\n",
      "print_stats(difference_votes_retrieval_true, difference_votes_retrieval_false)\n",
      "\n",
      "print \"\\n------sum of votes at retrieval: \\n\"\n",
      "print_stats(sum_votes_retrieval_true, sum_votes_retrieval_false)\n",
      "\n",
      "print \"\\n------number of posts by requester at retrieval: \\n\"\n",
      "print_stats(num_posts_retrieval_true, num_posts_retrieval_false)"
     ],
     "language": "python",
     "metadata": {},
     "outputs": [
      {
       "output_type": "stream",
       "stream": "stdout",
       "text": [
        "------number of comments at retreival: \n",
        "\n",
        "median when receiving pizza:  4.0\n",
        "median when not receiving pizza:  1.0\n",
        "\n",
        "mean when receiving pizza:  5.2615694165\n",
        "mean when not receiving pizza:  2.09093893631\n",
        "\n",
        "stddev when receiving pizza:  5.80012778549\n",
        "stddev when not receiving pizza:  4.01842267884\n",
        "\n",
        "------number of upvotes at retreival: \n",
        "\n",
        "median when receiving pizza:  5.0\n",
        "median when not receiving pizza:  4.0\n",
        "\n",
        "mean when receiving pizza:  8.10160965795\n",
        "mean when not receiving pizza:  5.55351280368\n",
        "\n",
        "stddev when receiving pizza:  13.0856169523\n",
        "stddev when not receiving pizza:  9.7848241703\n",
        "\n",
        "------number of downvotes at retrieval: \n",
        "\n",
        "median when receiving pizza:  2.0\n",
        "median when not receiving pizza:  2.0\n",
        "\n",
        "mean when receiving pizza:  2.56639839034\n",
        "mean when not receiving pizza:  2.37820091924\n",
        "\n",
        "stddev when receiving pizza:  3.39066274691\n",
        "stddev when not receiving pizza:  2.89216781333\n",
        "\n",
        "------account age at request: \n",
        "\n",
        "median when receiving pizza:  179.528217593\n",
        "median when not receiving pizza:  144.69849537\n",
        "\n",
        "mean when receiving pizza:  276.766843503\n",
        "mean when not receiving pizza:  247.348502457\n",
        "\n",
        "stddev when receiving pizza:  312.791209622\n",
        "stddev when not receiving pizza:  299.802715884\n",
        "\n",
        "------number of posts in other subs: \n",
        "\n",
        "median when receiving pizza:  13.0\n",
        "median when not receiving pizza:  10.0\n",
        "\n",
        "mean when receiving pizza:  19.509054326\n",
        "mean when not receiving pizza:  17.6093237032\n",
        "\n",
        "stddev when receiving pizza:  21.3523742406\n",
        "stddev when not receiving pizza:  21.8434878694\n",
        "\n",
        "------difference in votes at retrieval: \n",
        "\n",
        "median when receiving pizza:  1207.0\n",
        "median when not receiving pizza:  546.5\n",
        "\n",
        "mean when receiving pizza:  3572.60965795\n",
        "mean when not receiving pizza:  2442.2219304\n",
        "\n",
        "stddev when receiving pizza:  9161.6517778\n",
        "stddev when not receiving pizza:  4936.18725823\n",
        "\n",
        "------sum of votes at retrieval: \n",
        "\n",
        "median when receiving pizza:  2272.0\n",
        "median when not receiving pizza:  978.0\n",
        "\n",
        "mean when receiving pizza:  10941.2072435\n",
        "mean when not receiving pizza:  6759.10636901\n",
        "\n",
        "stddev when receiving pizza:  68192.2072735\n",
        "stddev when not receiving pizza:  22673.8020702\n",
        "\n",
        "------number of posts by requester at retrieval: \n",
        "\n",
        "median when receiving pizza:  17.0\n",
        "median when not receiving pizza:  11.0\n",
        "\n",
        "mean when receiving pizza:  47.9899396378\n",
        "mean when not receiving pizza:  38.9202232436\n",
        "\n",
        "stddev when receiving pizza:  89.0052438536\n",
        "stddev when not receiving pizza:  77.8194145793\n"
       ]
      }
     ],
     "prompt_number": 88
    },
    {
     "cell_type": "code",
     "collapsed": false,
     "input": [
      "%matplotlib osx\n",
      "#print X.toarray()\n",
      "print len(tfidf_.get_feature_names())\n",
      "Q = tsne.tsne(X.toarray(), initial_dims=len(tfidf_.get_feature_names()))\n",
      "plt.scatter(Q[:,0], Q[:,1])\n",
      "plt.show()\n"
     ],
     "language": "python",
     "metadata": {},
     "outputs": [
      {
       "output_type": "stream",
       "stream": "stdout",
       "text": [
        "300\n",
        "Preprocessing the data using PCA...\n",
        "Computing pairwise distances..."
       ]
      },
      {
       "output_type": "stream",
       "stream": "stdout",
       "text": [
        "\n",
        "Computing P-values for point "
       ]
      },
      {
       "output_type": "stream",
       "stream": "stdout",
       "text": [
        " 0  of  4040 ...\n",
        "Computing P-values for point "
       ]
      },
      {
       "output_type": "stream",
       "stream": "stdout",
       "text": [
        " 500  of  4040 ...\n",
        "Computing P-values for point "
       ]
      },
      {
       "output_type": "stream",
       "stream": "stdout",
       "text": [
        " 1000  of  4040 ...\n",
        "Computing P-values for point "
       ]
      },
      {
       "output_type": "stream",
       "stream": "stdout",
       "text": [
        " 1500  of  4040 ...\n",
        "Computing P-values for point "
       ]
      },
      {
       "output_type": "stream",
       "stream": "stdout",
       "text": [
        " 2000  of  4040 ...\n",
        "Computing P-values for point "
       ]
      },
      {
       "output_type": "stream",
       "stream": "stdout",
       "text": [
        " 2500  of  4040 ...\n",
        "Computing P-values for point "
       ]
      },
      {
       "output_type": "stream",
       "stream": "stdout",
       "text": [
        " 3000  of  4040 ...\n",
        "Computing P-values for point "
       ]
      },
      {
       "output_type": "stream",
       "stream": "stdout",
       "text": [
        " 3500  of  4040 ...\n",
        "Computing P-values for point "
       ]
      },
      {
       "output_type": "stream",
       "stream": "stdout",
       "text": [
        " 4000  of  4040 ...\n",
        "Mean value of sigma: "
       ]
      },
      {
       "output_type": "stream",
       "stream": "stdout",
       "text": [
        " 0.0762209918668\n",
        "Iteration "
       ]
      },
      {
       "output_type": "stream",
       "stream": "stdout",
       "text": [
        " 10 : error is  nan\n",
        "Iteration "
       ]
      },
      {
       "output_type": "stream",
       "stream": "stdout",
       "text": [
        " 20 : error is  nan\n",
        "Iteration "
       ]
      },
      {
       "output_type": "stream",
       "stream": "stdout",
       "text": [
        " 30 : error is  nan\n",
        "Iteration "
       ]
      },
      {
       "output_type": "stream",
       "stream": "stdout",
       "text": [
        " 40 : error is  nan\n",
        "Iteration "
       ]
      },
      {
       "output_type": "stream",
       "stream": "stdout",
       "text": [
        " 50 : error is  nan\n",
        "Iteration "
       ]
      },
      {
       "output_type": "stream",
       "stream": "stdout",
       "text": [
        " 60 : error is  nan\n",
        "Iteration "
       ]
      },
      {
       "output_type": "stream",
       "stream": "stdout",
       "text": [
        " 70 : error is  nan\n",
        "Iteration "
       ]
      },
      {
       "output_type": "stream",
       "stream": "stdout",
       "text": [
        " 80 : error is  nan\n"
       ]
      },
      {
       "ename": "KeyboardInterrupt",
       "evalue": "",
       "output_type": "pyerr",
       "traceback": [
        "\u001b[0;31m---------------------------------------------------------------------------\u001b[0m\n\u001b[0;31mKeyboardInterrupt\u001b[0m                         Traceback (most recent call last)",
        "\u001b[0;32m<ipython-input-27-0433bb8c9d51>\u001b[0m in \u001b[0;36m<module>\u001b[0;34m()\u001b[0m\n\u001b[1;32m      2\u001b[0m \u001b[0;31m#print X.toarray()\u001b[0m\u001b[0;34m\u001b[0m\u001b[0;34m\u001b[0m\u001b[0m\n\u001b[1;32m      3\u001b[0m \u001b[0;32mprint\u001b[0m \u001b[0mlen\u001b[0m\u001b[0;34m(\u001b[0m\u001b[0mtfidf_\u001b[0m\u001b[0;34m.\u001b[0m\u001b[0mget_feature_names\u001b[0m\u001b[0;34m(\u001b[0m\u001b[0;34m)\u001b[0m\u001b[0;34m)\u001b[0m\u001b[0;34m\u001b[0m\u001b[0m\n\u001b[0;32m----> 4\u001b[0;31m \u001b[0mQ\u001b[0m \u001b[0;34m=\u001b[0m \u001b[0mtsne\u001b[0m\u001b[0;34m.\u001b[0m\u001b[0mtsne\u001b[0m\u001b[0;34m(\u001b[0m\u001b[0mX\u001b[0m\u001b[0;34m.\u001b[0m\u001b[0mtoarray\u001b[0m\u001b[0;34m(\u001b[0m\u001b[0;34m)\u001b[0m\u001b[0;34m,\u001b[0m \u001b[0minitial_dims\u001b[0m\u001b[0;34m=\u001b[0m\u001b[0mlen\u001b[0m\u001b[0;34m(\u001b[0m\u001b[0mtfidf_\u001b[0m\u001b[0;34m.\u001b[0m\u001b[0mget_feature_names\u001b[0m\u001b[0;34m(\u001b[0m\u001b[0;34m)\u001b[0m\u001b[0;34m)\u001b[0m\u001b[0;34m)\u001b[0m\u001b[0;34m\u001b[0m\u001b[0m\n\u001b[0m\u001b[1;32m      5\u001b[0m \u001b[0mplt\u001b[0m\u001b[0;34m.\u001b[0m\u001b[0mscatter\u001b[0m\u001b[0;34m(\u001b[0m\u001b[0mQ\u001b[0m\u001b[0;34m[\u001b[0m\u001b[0;34m:\u001b[0m\u001b[0;34m,\u001b[0m\u001b[0;36m0\u001b[0m\u001b[0;34m]\u001b[0m\u001b[0;34m,\u001b[0m \u001b[0mQ\u001b[0m\u001b[0;34m[\u001b[0m\u001b[0;34m:\u001b[0m\u001b[0;34m,\u001b[0m\u001b[0;36m1\u001b[0m\u001b[0;34m]\u001b[0m\u001b[0;34m)\u001b[0m\u001b[0;34m\u001b[0m\u001b[0m\n\u001b[1;32m      6\u001b[0m \u001b[0mplt\u001b[0m\u001b[0;34m.\u001b[0m\u001b[0mshow\u001b[0m\u001b[0;34m(\u001b[0m\u001b[0;34m)\u001b[0m\u001b[0;34m\u001b[0m\u001b[0m\n",
        "\u001b[0;32m/Users/nathan/uchicago-cs/kaggle/raop/tsne.pyc\u001b[0m in \u001b[0;36mtsne\u001b[0;34m(X, no_dims, initial_dims, perplexity)\u001b[0m\n\u001b[1;32m    138\u001b[0m                 \u001b[0mPQ\u001b[0m \u001b[0;34m=\u001b[0m \u001b[0mP\u001b[0m \u001b[0;34m-\u001b[0m \u001b[0mQ\u001b[0m\u001b[0;34m;\u001b[0m\u001b[0;34m\u001b[0m\u001b[0m\n\u001b[1;32m    139\u001b[0m                 \u001b[0;32mfor\u001b[0m \u001b[0mi\u001b[0m \u001b[0;32min\u001b[0m \u001b[0mrange\u001b[0m\u001b[0;34m(\u001b[0m\u001b[0mn\u001b[0m\u001b[0;34m)\u001b[0m\u001b[0;34m:\u001b[0m\u001b[0;34m\u001b[0m\u001b[0m\n\u001b[0;32m--> 140\u001b[0;31m                         \u001b[0mdY\u001b[0m\u001b[0;34m[\u001b[0m\u001b[0mi\u001b[0m\u001b[0;34m,\u001b[0m\u001b[0;34m:\u001b[0m\u001b[0;34m]\u001b[0m \u001b[0;34m=\u001b[0m \u001b[0mMath\u001b[0m\u001b[0;34m.\u001b[0m\u001b[0msum\u001b[0m\u001b[0;34m(\u001b[0m\u001b[0mMath\u001b[0m\u001b[0;34m.\u001b[0m\u001b[0mtile\u001b[0m\u001b[0;34m(\u001b[0m\u001b[0mPQ\u001b[0m\u001b[0;34m[\u001b[0m\u001b[0;34m:\u001b[0m\u001b[0;34m,\u001b[0m\u001b[0mi\u001b[0m\u001b[0;34m]\u001b[0m \u001b[0;34m*\u001b[0m \u001b[0mnum\u001b[0m\u001b[0;34m[\u001b[0m\u001b[0;34m:\u001b[0m\u001b[0;34m,\u001b[0m\u001b[0mi\u001b[0m\u001b[0;34m]\u001b[0m\u001b[0;34m,\u001b[0m \u001b[0;34m(\u001b[0m\u001b[0mno_dims\u001b[0m\u001b[0;34m,\u001b[0m \u001b[0;36m1\u001b[0m\u001b[0;34m)\u001b[0m\u001b[0;34m)\u001b[0m\u001b[0;34m.\u001b[0m\u001b[0mT\u001b[0m \u001b[0;34m*\u001b[0m \u001b[0;34m(\u001b[0m\u001b[0mY\u001b[0m\u001b[0;34m[\u001b[0m\u001b[0mi\u001b[0m\u001b[0;34m,\u001b[0m\u001b[0;34m:\u001b[0m\u001b[0;34m]\u001b[0m \u001b[0;34m-\u001b[0m \u001b[0mY\u001b[0m\u001b[0;34m)\u001b[0m\u001b[0;34m,\u001b[0m \u001b[0;36m0\u001b[0m\u001b[0;34m)\u001b[0m\u001b[0;34m;\u001b[0m\u001b[0;34m\u001b[0m\u001b[0m\n\u001b[0m\u001b[1;32m    141\u001b[0m \u001b[0;34m\u001b[0m\u001b[0m\n\u001b[1;32m    142\u001b[0m                 \u001b[0;31m# Perform the update\u001b[0m\u001b[0;34m\u001b[0m\u001b[0;34m\u001b[0m\u001b[0m\n",
        "\u001b[0;31mKeyboardInterrupt\u001b[0m: "
       ]
      }
     ],
     "prompt_number": 27
    },
    {
     "cell_type": "code",
     "collapsed": false,
     "input": [
      "print requester_received_pizza.values"
     ],
     "language": "python",
     "metadata": {},
     "outputs": [
      {
       "output_type": "stream",
       "stream": "stdout",
       "text": [
        "[False False False ..., False False False]\n"
       ]
      }
     ],
     "prompt_number": 6
    },
    {
     "cell_type": "code",
     "collapsed": false,
     "input": [],
     "language": "python",
     "metadata": {},
     "outputs": []
    }
   ],
   "metadata": {}
  }
 ]
}